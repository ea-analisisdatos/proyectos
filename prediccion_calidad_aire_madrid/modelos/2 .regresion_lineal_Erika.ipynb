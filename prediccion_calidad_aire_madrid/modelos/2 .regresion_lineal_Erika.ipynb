{
 "cells": [
  {
   "attachments": {},
   "cell_type": "markdown",
   "metadata": {},
   "source": [
    "## <font color=blue> MODELO DE REGRESIÓN LINEAL - APRENDIZAJE SUPERVISADO</font>\n"
   ]
  },
  {
   "attachments": {},
   "cell_type": "markdown",
   "metadata": {},
   "source": [
    "---\n",
    "\n",
    "## <font color=red>REQUISITOS:</font>\n",
    "\n",
    "> El objetivo de este cuaderno es predecir el valor de la tempertura según el ICA (Índice de la Calidad del Aire).\n",
    ">\n",
    "> Los valores de predición, están basados en datos históricos (2015-2023).\n",
    "> \n",
    "> El ICA utilizado para predecir la temperatura, es un valor calculado, y su índice se basa en el valor general, lo cuál ha sido tratado en procesos anteriores.\n",
    "> 0\n",
    "> La aplicación del Aprendizaje Supervisado en este cuaderno, hace uso del Modelo de Regresión Lineal.\n",
    ">\n",
    "> En este cuaderno se entiende que el preprocesamiento de valores nulos, outiliers, creación y tratamiento de columnas ya han sido tratados en etapas anteriores al proceso de Aprendizaje Supervisado.\n",
    "> \n",
    "> Los datos usados para el desarrollo del modelo de regresión lineal se han obtenido del fichero CSV \"calidad_aire_clean_outliers.csv\". \n",
    ">\n",
    "---"
   ]
  },
  {
   "attachments": {},
   "cell_type": "markdown",
   "metadata": {},
   "source": [
    "## <font color=pink>Importar Librerías</font>"
   ]
  },
  {
   "cell_type": "code",
   "execution_count": 135,
   "metadata": {},
   "outputs": [],
   "source": [
    "import pandas as pd\n",
    "import seaborn as sns\n",
    "from sklearn.linear_model import LinearRegression\n",
    "from sklearn.model_selection import train_test_split\n",
    "from sklearn.metrics import mean_squared_error, r2_score\n",
    "\n",
    "import matplotlib.pyplot as plt\n",
    "plt.style.use('seaborn-v0_8-whitegrid')\n",
    "plt.rcParams['figure.dpi'] = 110\n"
   ]
  },
  {
   "attachments": {},
   "cell_type": "markdown",
   "metadata": {},
   "source": [
    "## <font color=pink>Cargar Datos</font>"
   ]
  },
  {
   "cell_type": "code",
   "execution_count": 136,
   "metadata": {},
   "outputs": [],
   "source": [
    "# Definir la ruta de almacenamiento de ficheros\n",
    "ruta = '../data/calidad_aire_clean_outliers.csv'\n"
   ]
  },
  {
   "cell_type": "code",
   "execution_count": 137,
   "metadata": {},
   "outputs": [
    {
     "data": {
      "text/html": [
       "<div>\n",
       "<style scoped>\n",
       "    .dataframe tbody tr th:only-of-type {\n",
       "        vertical-align: middle;\n",
       "    }\n",
       "\n",
       "    .dataframe tbody tr th {\n",
       "        vertical-align: top;\n",
       "    }\n",
       "\n",
       "    .dataframe thead th {\n",
       "        text-align: right;\n",
       "    }\n",
       "</style>\n",
       "<table border=\"1\" class=\"dataframe\">\n",
       "  <thead>\n",
       "    <tr style=\"text-align: right;\">\n",
       "      <th></th>\n",
       "      <th>FECHA</th>\n",
       "      <th>ANO</th>\n",
       "      <th>MES</th>\n",
       "      <th>DIA</th>\n",
       "      <th>HORA</th>\n",
       "      <th>DIA_SEMANA</th>\n",
       "      <th>ESTACION</th>\n",
       "      <th>SO2</th>\n",
       "      <th>CO</th>\n",
       "      <th>NO2</th>\n",
       "      <th>...</th>\n",
       "      <th>PM10</th>\n",
       "      <th>O3</th>\n",
       "      <th>BTX</th>\n",
       "      <th>TEMPERATURA</th>\n",
       "      <th>HUMEDAD</th>\n",
       "      <th>ICA_SO2</th>\n",
       "      <th>ICA_PM10</th>\n",
       "      <th>ICA_O3</th>\n",
       "      <th>ICA_NO2</th>\n",
       "      <th>ICA</th>\n",
       "    </tr>\n",
       "  </thead>\n",
       "  <tbody>\n",
       "    <tr>\n",
       "      <th>0</th>\n",
       "      <td>2019-01-01 05:00:00</td>\n",
       "      <td>2019.0</td>\n",
       "      <td>1.0</td>\n",
       "      <td>1.0</td>\n",
       "      <td>5</td>\n",
       "      <td>Martes</td>\n",
       "      <td>8.0</td>\n",
       "      <td>10.0</td>\n",
       "      <td>0.4</td>\n",
       "      <td>50.0</td>\n",
       "      <td>...</td>\n",
       "      <td>19.0</td>\n",
       "      <td>11.88</td>\n",
       "      <td>2.6</td>\n",
       "      <td>4.7</td>\n",
       "      <td>50.0</td>\n",
       "      <td>8.0</td>\n",
       "      <td>38.0</td>\n",
       "      <td>9.90</td>\n",
       "      <td>125.0</td>\n",
       "      <td>45.22</td>\n",
       "    </tr>\n",
       "    <tr>\n",
       "      <th>1</th>\n",
       "      <td>2019-01-01 06:00:00</td>\n",
       "      <td>2019.0</td>\n",
       "      <td>1.0</td>\n",
       "      <td>1.0</td>\n",
       "      <td>6</td>\n",
       "      <td>Martes</td>\n",
       "      <td>8.0</td>\n",
       "      <td>8.0</td>\n",
       "      <td>0.4</td>\n",
       "      <td>55.0</td>\n",
       "      <td>...</td>\n",
       "      <td>16.0</td>\n",
       "      <td>7.97</td>\n",
       "      <td>2.2</td>\n",
       "      <td>3.2</td>\n",
       "      <td>55.0</td>\n",
       "      <td>6.4</td>\n",
       "      <td>32.0</td>\n",
       "      <td>6.64</td>\n",
       "      <td>137.5</td>\n",
       "      <td>45.64</td>\n",
       "    </tr>\n",
       "    <tr>\n",
       "      <th>2</th>\n",
       "      <td>2019-01-01 07:00:00</td>\n",
       "      <td>2019.0</td>\n",
       "      <td>1.0</td>\n",
       "      <td>1.0</td>\n",
       "      <td>7</td>\n",
       "      <td>Martes</td>\n",
       "      <td>8.0</td>\n",
       "      <td>10.0</td>\n",
       "      <td>0.4</td>\n",
       "      <td>56.0</td>\n",
       "      <td>...</td>\n",
       "      <td>18.0</td>\n",
       "      <td>9.32</td>\n",
       "      <td>2.5</td>\n",
       "      <td>4.0</td>\n",
       "      <td>51.0</td>\n",
       "      <td>8.0</td>\n",
       "      <td>36.0</td>\n",
       "      <td>7.77</td>\n",
       "      <td>140.0</td>\n",
       "      <td>47.94</td>\n",
       "    </tr>\n",
       "    <tr>\n",
       "      <th>3</th>\n",
       "      <td>2019-01-01 08:00:00</td>\n",
       "      <td>2019.0</td>\n",
       "      <td>1.0</td>\n",
       "      <td>1.0</td>\n",
       "      <td>8</td>\n",
       "      <td>Martes</td>\n",
       "      <td>8.0</td>\n",
       "      <td>11.0</td>\n",
       "      <td>0.4</td>\n",
       "      <td>58.0</td>\n",
       "      <td>...</td>\n",
       "      <td>15.0</td>\n",
       "      <td>8.78</td>\n",
       "      <td>2.4</td>\n",
       "      <td>3.9</td>\n",
       "      <td>52.0</td>\n",
       "      <td>8.8</td>\n",
       "      <td>30.0</td>\n",
       "      <td>7.32</td>\n",
       "      <td>145.0</td>\n",
       "      <td>47.78</td>\n",
       "    </tr>\n",
       "    <tr>\n",
       "      <th>4</th>\n",
       "      <td>2019-01-01 09:00:00</td>\n",
       "      <td>2019.0</td>\n",
       "      <td>1.0</td>\n",
       "      <td>1.0</td>\n",
       "      <td>9</td>\n",
       "      <td>Martes</td>\n",
       "      <td>8.0</td>\n",
       "      <td>12.0</td>\n",
       "      <td>0.4</td>\n",
       "      <td>51.0</td>\n",
       "      <td>...</td>\n",
       "      <td>16.0</td>\n",
       "      <td>17.29</td>\n",
       "      <td>2.9</td>\n",
       "      <td>4.3</td>\n",
       "      <td>49.0</td>\n",
       "      <td>9.6</td>\n",
       "      <td>32.0</td>\n",
       "      <td>14.41</td>\n",
       "      <td>127.5</td>\n",
       "      <td>45.88</td>\n",
       "    </tr>\n",
       "  </tbody>\n",
       "</table>\n",
       "<p>5 rows × 21 columns</p>\n",
       "</div>"
      ],
      "text/plain": [
       "                 FECHA     ANO  MES  DIA  HORA DIA_SEMANA  ESTACION   SO2  \\\n",
       "0  2019-01-01 05:00:00  2019.0  1.0  1.0     5     Martes       8.0  10.0   \n",
       "1  2019-01-01 06:00:00  2019.0  1.0  1.0     6     Martes       8.0   8.0   \n",
       "2  2019-01-01 07:00:00  2019.0  1.0  1.0     7     Martes       8.0  10.0   \n",
       "3  2019-01-01 08:00:00  2019.0  1.0  1.0     8     Martes       8.0  11.0   \n",
       "4  2019-01-01 09:00:00  2019.0  1.0  1.0     9     Martes       8.0  12.0   \n",
       "\n",
       "    CO   NO2  ...  PM10     O3  BTX  TEMPERATURA  HUMEDAD  ICA_SO2  ICA_PM10  \\\n",
       "0  0.4  50.0  ...  19.0  11.88  2.6          4.7     50.0      8.0      38.0   \n",
       "1  0.4  55.0  ...  16.0   7.97  2.2          3.2     55.0      6.4      32.0   \n",
       "2  0.4  56.0  ...  18.0   9.32  2.5          4.0     51.0      8.0      36.0   \n",
       "3  0.4  58.0  ...  15.0   8.78  2.4          3.9     52.0      8.8      30.0   \n",
       "4  0.4  51.0  ...  16.0  17.29  2.9          4.3     49.0      9.6      32.0   \n",
       "\n",
       "   ICA_O3  ICA_NO2    ICA  \n",
       "0    9.90    125.0  45.22  \n",
       "1    6.64    137.5  45.64  \n",
       "2    7.77    140.0  47.94  \n",
       "3    7.32    145.0  47.78  \n",
       "4   14.41    127.5  45.88  \n",
       "\n",
       "[5 rows x 21 columns]"
      ]
     },
     "execution_count": 137,
     "metadata": {},
     "output_type": "execute_result"
    }
   ],
   "source": [
    "# Cargar los datos del CSV en el DataFrame\n",
    "df = pd.read_csv(ruta, delimiter=\",\", engine=\"python\")\n",
    "df.head(5)"
   ]
  },
  {
   "cell_type": "code",
   "execution_count": 138,
   "metadata": {},
   "outputs": [
    {
     "name": "stdout",
     "output_type": "stream",
     "text": [
      "<class 'pandas.core.frame.DataFrame'>\n",
      "RangeIndex: 30860 entries, 0 to 30859\n",
      "Data columns (total 21 columns):\n",
      " #   Column       Non-Null Count  Dtype  \n",
      "---  ------       --------------  -----  \n",
      " 0   FECHA        30860 non-null  object \n",
      " 1   ANO          30860 non-null  float64\n",
      " 2   MES          30860 non-null  float64\n",
      " 3   DIA          30860 non-null  float64\n",
      " 4   HORA         30860 non-null  int64  \n",
      " 5   DIA_SEMANA   30860 non-null  object \n",
      " 6   ESTACION     30860 non-null  float64\n",
      " 7   SO2          30860 non-null  float64\n",
      " 8   CO           30860 non-null  float64\n",
      " 9   NO2          30860 non-null  float64\n",
      " 10  PM2.5        30860 non-null  float64\n",
      " 11  PM10         30860 non-null  float64\n",
      " 12  O3           30860 non-null  float64\n",
      " 13  BTX          30860 non-null  float64\n",
      " 14  TEMPERATURA  30860 non-null  float64\n",
      " 15  HUMEDAD      30860 non-null  float64\n",
      " 16  ICA_SO2      30860 non-null  float64\n",
      " 17  ICA_PM10     30860 non-null  float64\n",
      " 18  ICA_O3       30860 non-null  float64\n",
      " 19  ICA_NO2      30860 non-null  float64\n",
      " 20  ICA          30860 non-null  float64\n",
      "dtypes: float64(18), int64(1), object(2)\n",
      "memory usage: 4.9+ MB\n"
     ]
    }
   ],
   "source": [
    "df.info()"
   ]
  },
  {
   "attachments": {},
   "cell_type": "markdown",
   "metadata": {},
   "source": [
    "## <font color=pink>Preparar los datos para la Regresión Lineal</font>"
   ]
  },
  {
   "cell_type": "code",
   "execution_count": 139,
   "metadata": {},
   "outputs": [
    {
     "data": {
      "text/plain": [
       "Index(['FECHA', 'ANO', 'MES', 'DIA', 'HORA', 'DIA_SEMANA', 'ESTACION', 'SO2',\n",
       "       'CO', 'NO2', 'PM2.5', 'PM10', 'O3', 'BTX', 'TEMPERATURA', 'HUMEDAD',\n",
       "       'ICA_SO2', 'ICA_PM10', 'ICA_O3', 'ICA_NO2', 'ICA'],\n",
       "      dtype='object')"
      ]
     },
     "execution_count": 139,
     "metadata": {},
     "output_type": "execute_result"
    }
   ],
   "source": [
    "df.columns"
   ]
  },
  {
   "cell_type": "code",
   "execution_count": 140,
   "metadata": {},
   "outputs": [
    {
     "name": "stdout",
     "output_type": "stream",
     "text": [
      "<class 'pandas.core.frame.DataFrame'>\n",
      "DatetimeIndex: 30860 entries, 2019-01-01 05:00:00 to 2023-05-31 23:00:00\n",
      "Data columns (total 20 columns):\n",
      " #   Column       Non-Null Count  Dtype   \n",
      "---  ------       --------------  -----   \n",
      " 0   ANO          30860 non-null  int64   \n",
      " 1   MES          30860 non-null  int64   \n",
      " 2   DIA          30860 non-null  int64   \n",
      " 3   HORA         30860 non-null  int64   \n",
      " 4   DIA_SEMANA   30860 non-null  category\n",
      " 5   ESTACION     30860 non-null  int64   \n",
      " 6   SO2          30860 non-null  float64 \n",
      " 7   CO           30860 non-null  float64 \n",
      " 8   NO2          30860 non-null  float64 \n",
      " 9   PM2.5        30860 non-null  float64 \n",
      " 10  PM10         30860 non-null  float64 \n",
      " 11  O3           30860 non-null  float64 \n",
      " 12  BTX          30860 non-null  float64 \n",
      " 13  TEMPERATURA  30860 non-null  float64 \n",
      " 14  HUMEDAD      30860 non-null  float64 \n",
      " 15  ICA_SO2      30860 non-null  float64 \n",
      " 16  ICA_PM10     30860 non-null  float64 \n",
      " 17  ICA_O3       30860 non-null  float64 \n",
      " 18  ICA_NO2      30860 non-null  float64 \n",
      " 19  ICA          30860 non-null  float64 \n",
      "dtypes: category(1), float64(14), int64(5)\n",
      "memory usage: 4.7 MB\n"
     ]
    }
   ],
   "source": [
    "# Convertir los tipos de columnas\n",
    "df_tipo_datos = pd.DataFrame(df)\n",
    "\n",
    "# converte a valor categórico \n",
    "df[\"DIA_SEMANA\"] = df_tipo_datos[\"DIA_SEMANA\"].astype(\"category\")\n",
    "\n",
    "columnas_numericas_integer = ['ANO', 'MES', 'DIA', 'HORA', 'ESTACION']\n",
    "\n",
    "columnas_numericas_float = ['SO2', 'CO', 'NO2', 'PM2.5', 'PM10', 'O3', 'BTX', 'TEMPERATURA', 'HUMEDAD', 'ICA_SO2', 'ICA_PM10', 'ICA_O3', 'ICA_NO2', 'ICA']\n",
    "\n",
    "# converte a valores numericos tipo float los valores de la lista\n",
    "for i in columnas_numericas_float:\n",
    "    df[i] = df[i].astype(\"float64\")\n",
    "    \n",
    "# converte a valores numericos tipo integer (entero) los valores de la lista\n",
    "for i in columnas_numericas_integer:\n",
    "    df[i] = df[i].astype(\"int64\")\n",
    "\n",
    "#### Convertir FECHA al formato datetime y dejarla como índice\n",
    "    \n",
    "# Pasa la columna \"FECHA\" ao formato datetime\n",
    "df['FECHA_HORA'] = pd.to_datetime(\n",
    "    df['FECHA'],\n",
    "    format='%Y.%m.%d %H:%M:%S'\n",
    ")\n",
    "\n",
    "# Fija esta nueva columna como índice del DataFrame\n",
    "df = df.set_index('FECHA_HORA')\n",
    "\n",
    "# Ordena el DataFrame de forma ascendente según \"datetime\"\n",
    "df.sort_index(inplace=True)\n",
    "\n",
    "# Elimina la columna \"FECHA\" original\n",
    "df = df.drop(columns=['FECHA'])\n",
    "df.head(2)\n",
    "\n",
    "df.info()"
   ]
  },
  {
   "cell_type": "code",
   "execution_count": 141,
   "metadata": {},
   "outputs": [
    {
     "data": {
      "text/html": [
       "<div>\n",
       "<style scoped>\n",
       "    .dataframe tbody tr th:only-of-type {\n",
       "        vertical-align: middle;\n",
       "    }\n",
       "\n",
       "    .dataframe tbody tr th {\n",
       "        vertical-align: top;\n",
       "    }\n",
       "\n",
       "    .dataframe thead th {\n",
       "        text-align: right;\n",
       "    }\n",
       "</style>\n",
       "<table border=\"1\" class=\"dataframe\">\n",
       "  <thead>\n",
       "    <tr style=\"text-align: right;\">\n",
       "      <th></th>\n",
       "      <th>ANO</th>\n",
       "      <th>MES</th>\n",
       "      <th>DIA</th>\n",
       "      <th>HORA</th>\n",
       "      <th>DIA_SEMANA</th>\n",
       "      <th>ESTACION</th>\n",
       "      <th>SO2</th>\n",
       "      <th>CO</th>\n",
       "      <th>NO2</th>\n",
       "      <th>PM2.5</th>\n",
       "      <th>PM10</th>\n",
       "      <th>O3</th>\n",
       "      <th>BTX</th>\n",
       "      <th>TEMPERATURA</th>\n",
       "      <th>HUMEDAD</th>\n",
       "      <th>ICA_SO2</th>\n",
       "      <th>ICA_PM10</th>\n",
       "      <th>ICA_O3</th>\n",
       "      <th>ICA_NO2</th>\n",
       "      <th>ICA</th>\n",
       "    </tr>\n",
       "    <tr>\n",
       "      <th>FECHA_HORA</th>\n",
       "      <th></th>\n",
       "      <th></th>\n",
       "      <th></th>\n",
       "      <th></th>\n",
       "      <th></th>\n",
       "      <th></th>\n",
       "      <th></th>\n",
       "      <th></th>\n",
       "      <th></th>\n",
       "      <th></th>\n",
       "      <th></th>\n",
       "      <th></th>\n",
       "      <th></th>\n",
       "      <th></th>\n",
       "      <th></th>\n",
       "      <th></th>\n",
       "      <th></th>\n",
       "      <th></th>\n",
       "      <th></th>\n",
       "      <th></th>\n",
       "    </tr>\n",
       "  </thead>\n",
       "  <tbody>\n",
       "    <tr>\n",
       "      <th>2019-01-01 05:00:00</th>\n",
       "      <td>2019</td>\n",
       "      <td>1</td>\n",
       "      <td>1</td>\n",
       "      <td>5</td>\n",
       "      <td>Martes</td>\n",
       "      <td>8</td>\n",
       "      <td>10.0</td>\n",
       "      <td>0.4</td>\n",
       "      <td>50.0</td>\n",
       "      <td>14.0</td>\n",
       "      <td>19.0</td>\n",
       "      <td>11.88</td>\n",
       "      <td>2.6</td>\n",
       "      <td>4.7</td>\n",
       "      <td>50.0</td>\n",
       "      <td>8.0</td>\n",
       "      <td>38.0</td>\n",
       "      <td>9.90</td>\n",
       "      <td>125.0</td>\n",
       "      <td>45.22</td>\n",
       "    </tr>\n",
       "    <tr>\n",
       "      <th>2019-01-01 06:00:00</th>\n",
       "      <td>2019</td>\n",
       "      <td>1</td>\n",
       "      <td>1</td>\n",
       "      <td>6</td>\n",
       "      <td>Martes</td>\n",
       "      <td>8</td>\n",
       "      <td>8.0</td>\n",
       "      <td>0.4</td>\n",
       "      <td>55.0</td>\n",
       "      <td>12.0</td>\n",
       "      <td>16.0</td>\n",
       "      <td>7.97</td>\n",
       "      <td>2.2</td>\n",
       "      <td>3.2</td>\n",
       "      <td>55.0</td>\n",
       "      <td>6.4</td>\n",
       "      <td>32.0</td>\n",
       "      <td>6.64</td>\n",
       "      <td>137.5</td>\n",
       "      <td>45.64</td>\n",
       "    </tr>\n",
       "    <tr>\n",
       "      <th>2019-01-01 07:00:00</th>\n",
       "      <td>2019</td>\n",
       "      <td>1</td>\n",
       "      <td>1</td>\n",
       "      <td>7</td>\n",
       "      <td>Martes</td>\n",
       "      <td>8</td>\n",
       "      <td>10.0</td>\n",
       "      <td>0.4</td>\n",
       "      <td>56.0</td>\n",
       "      <td>14.0</td>\n",
       "      <td>18.0</td>\n",
       "      <td>9.32</td>\n",
       "      <td>2.5</td>\n",
       "      <td>4.0</td>\n",
       "      <td>51.0</td>\n",
       "      <td>8.0</td>\n",
       "      <td>36.0</td>\n",
       "      <td>7.77</td>\n",
       "      <td>140.0</td>\n",
       "      <td>47.94</td>\n",
       "    </tr>\n",
       "    <tr>\n",
       "      <th>2019-01-01 08:00:00</th>\n",
       "      <td>2019</td>\n",
       "      <td>1</td>\n",
       "      <td>1</td>\n",
       "      <td>8</td>\n",
       "      <td>Martes</td>\n",
       "      <td>8</td>\n",
       "      <td>11.0</td>\n",
       "      <td>0.4</td>\n",
       "      <td>58.0</td>\n",
       "      <td>12.0</td>\n",
       "      <td>15.0</td>\n",
       "      <td>8.78</td>\n",
       "      <td>2.4</td>\n",
       "      <td>3.9</td>\n",
       "      <td>52.0</td>\n",
       "      <td>8.8</td>\n",
       "      <td>30.0</td>\n",
       "      <td>7.32</td>\n",
       "      <td>145.0</td>\n",
       "      <td>47.78</td>\n",
       "    </tr>\n",
       "    <tr>\n",
       "      <th>2019-01-01 09:00:00</th>\n",
       "      <td>2019</td>\n",
       "      <td>1</td>\n",
       "      <td>1</td>\n",
       "      <td>9</td>\n",
       "      <td>Martes</td>\n",
       "      <td>8</td>\n",
       "      <td>12.0</td>\n",
       "      <td>0.4</td>\n",
       "      <td>51.0</td>\n",
       "      <td>11.0</td>\n",
       "      <td>16.0</td>\n",
       "      <td>17.29</td>\n",
       "      <td>2.9</td>\n",
       "      <td>4.3</td>\n",
       "      <td>49.0</td>\n",
       "      <td>9.6</td>\n",
       "      <td>32.0</td>\n",
       "      <td>14.41</td>\n",
       "      <td>127.5</td>\n",
       "      <td>45.88</td>\n",
       "    </tr>\n",
       "  </tbody>\n",
       "</table>\n",
       "</div>"
      ],
      "text/plain": [
       "                      ANO  MES  DIA  HORA DIA_SEMANA  ESTACION   SO2   CO  \\\n",
       "FECHA_HORA                                                                  \n",
       "2019-01-01 05:00:00  2019    1    1     5     Martes         8  10.0  0.4   \n",
       "2019-01-01 06:00:00  2019    1    1     6     Martes         8   8.0  0.4   \n",
       "2019-01-01 07:00:00  2019    1    1     7     Martes         8  10.0  0.4   \n",
       "2019-01-01 08:00:00  2019    1    1     8     Martes         8  11.0  0.4   \n",
       "2019-01-01 09:00:00  2019    1    1     9     Martes         8  12.0  0.4   \n",
       "\n",
       "                      NO2  PM2.5  PM10     O3  BTX  TEMPERATURA  HUMEDAD  \\\n",
       "FECHA_HORA                                                                 \n",
       "2019-01-01 05:00:00  50.0   14.0  19.0  11.88  2.6          4.7     50.0   \n",
       "2019-01-01 06:00:00  55.0   12.0  16.0   7.97  2.2          3.2     55.0   \n",
       "2019-01-01 07:00:00  56.0   14.0  18.0   9.32  2.5          4.0     51.0   \n",
       "2019-01-01 08:00:00  58.0   12.0  15.0   8.78  2.4          3.9     52.0   \n",
       "2019-01-01 09:00:00  51.0   11.0  16.0  17.29  2.9          4.3     49.0   \n",
       "\n",
       "                     ICA_SO2  ICA_PM10  ICA_O3  ICA_NO2    ICA  \n",
       "FECHA_HORA                                                      \n",
       "2019-01-01 05:00:00      8.0      38.0    9.90    125.0  45.22  \n",
       "2019-01-01 06:00:00      6.4      32.0    6.64    137.5  45.64  \n",
       "2019-01-01 07:00:00      8.0      36.0    7.77    140.0  47.94  \n",
       "2019-01-01 08:00:00      8.8      30.0    7.32    145.0  47.78  \n",
       "2019-01-01 09:00:00      9.6      32.0   14.41    127.5  45.88  "
      ]
     },
     "execution_count": 141,
     "metadata": {},
     "output_type": "execute_result"
    }
   ],
   "source": [
    "# ahora tenemos la fecha convertida y como índice del DataFrame\n",
    "df.head()"
   ]
  },
  {
   "cell_type": "code",
   "execution_count": 142,
   "metadata": {},
   "outputs": [
    {
     "data": {
      "text/html": [
       "<div>\n",
       "<style scoped>\n",
       "    .dataframe tbody tr th:only-of-type {\n",
       "        vertical-align: middle;\n",
       "    }\n",
       "\n",
       "    .dataframe tbody tr th {\n",
       "        vertical-align: top;\n",
       "    }\n",
       "\n",
       "    .dataframe thead th {\n",
       "        text-align: right;\n",
       "    }\n",
       "</style>\n",
       "<table border=\"1\" class=\"dataframe\">\n",
       "  <thead>\n",
       "    <tr style=\"text-align: right;\">\n",
       "      <th></th>\n",
       "      <th>ICA</th>\n",
       "      <th>TEMPERATURA</th>\n",
       "    </tr>\n",
       "  </thead>\n",
       "  <tbody>\n",
       "    <tr>\n",
       "      <th>0</th>\n",
       "      <td>45.22</td>\n",
       "      <td>4.7</td>\n",
       "    </tr>\n",
       "    <tr>\n",
       "      <th>1</th>\n",
       "      <td>45.64</td>\n",
       "      <td>3.2</td>\n",
       "    </tr>\n",
       "    <tr>\n",
       "      <th>2</th>\n",
       "      <td>47.94</td>\n",
       "      <td>4.0</td>\n",
       "    </tr>\n",
       "    <tr>\n",
       "      <th>3</th>\n",
       "      <td>47.78</td>\n",
       "      <td>3.9</td>\n",
       "    </tr>\n",
       "    <tr>\n",
       "      <th>4</th>\n",
       "      <td>45.88</td>\n",
       "      <td>4.3</td>\n",
       "    </tr>\n",
       "    <tr>\n",
       "      <th>...</th>\n",
       "      <td>...</td>\n",
       "      <td>...</td>\n",
       "    </tr>\n",
       "    <tr>\n",
       "      <th>30855</th>\n",
       "      <td>44.45</td>\n",
       "      <td>24.2</td>\n",
       "    </tr>\n",
       "    <tr>\n",
       "      <th>30856</th>\n",
       "      <td>39.99</td>\n",
       "      <td>22.5</td>\n",
       "    </tr>\n",
       "    <tr>\n",
       "      <th>30857</th>\n",
       "      <td>38.44</td>\n",
       "      <td>21.4</td>\n",
       "    </tr>\n",
       "    <tr>\n",
       "      <th>30858</th>\n",
       "      <td>32.65</td>\n",
       "      <td>20.4</td>\n",
       "    </tr>\n",
       "    <tr>\n",
       "      <th>30859</th>\n",
       "      <td>35.86</td>\n",
       "      <td>19.8</td>\n",
       "    </tr>\n",
       "  </tbody>\n",
       "</table>\n",
       "<p>30860 rows × 2 columns</p>\n",
       "</div>"
      ],
      "text/plain": [
       "         ICA  TEMPERATURA\n",
       "0      45.22          4.7\n",
       "1      45.64          3.2\n",
       "2      47.94          4.0\n",
       "3      47.78          3.9\n",
       "4      45.88          4.3\n",
       "...      ...          ...\n",
       "30855  44.45         24.2\n",
       "30856  39.99         22.5\n",
       "30857  38.44         21.4\n",
       "30858  32.65         20.4\n",
       "30859  35.86         19.8\n",
       "\n",
       "[30860 rows x 2 columns]"
      ]
     },
     "execution_count": 142,
     "metadata": {},
     "output_type": "execute_result"
    }
   ],
   "source": [
    "\n",
    "# Selecciona las columnas(variables) que queremos predecir con la Regresión Lineal\n",
    "variables_elegidas = ['ICA', 'TEMPERATURA']\n",
    "df_variables_elegidas = pd.read_csv(ruta, usecols=variables_elegidas)\n",
    "\n",
    "columna_ica = df_variables_elegidas.pop('ICA')\n",
    "df_variables_elegidas.insert(0, 'ICA', columna_ica)\n",
    "\n",
    "df_variables_elegidas\n"
   ]
  },
  {
   "cell_type": "code",
   "execution_count": 143,
   "metadata": {},
   "outputs": [
    {
     "data": {
      "text/plain": [
       "(30860, 2)"
      ]
     },
     "execution_count": 143,
     "metadata": {},
     "output_type": "execute_result"
    }
   ],
   "source": [
    "df_variables_elegidas.shape"
   ]
  },
  {
   "cell_type": "code",
   "execution_count": 144,
   "metadata": {},
   "outputs": [
    {
     "data": {
      "text/html": [
       "<div>\n",
       "<style scoped>\n",
       "    .dataframe tbody tr th:only-of-type {\n",
       "        vertical-align: middle;\n",
       "    }\n",
       "\n",
       "    .dataframe tbody tr th {\n",
       "        vertical-align: top;\n",
       "    }\n",
       "\n",
       "    .dataframe thead th {\n",
       "        text-align: right;\n",
       "    }\n",
       "</style>\n",
       "<table border=\"1\" class=\"dataframe\">\n",
       "  <thead>\n",
       "    <tr style=\"text-align: right;\">\n",
       "      <th></th>\n",
       "      <th>ICA</th>\n",
       "      <th>TEMPERATURA</th>\n",
       "    </tr>\n",
       "  </thead>\n",
       "  <tbody>\n",
       "    <tr>\n",
       "      <th>count</th>\n",
       "      <td>30860.00</td>\n",
       "      <td>30860.00</td>\n",
       "    </tr>\n",
       "    <tr>\n",
       "      <th>mean</th>\n",
       "      <td>39.31</td>\n",
       "      <td>16.42</td>\n",
       "    </tr>\n",
       "    <tr>\n",
       "      <th>std</th>\n",
       "      <td>11.94</td>\n",
       "      <td>7.96</td>\n",
       "    </tr>\n",
       "    <tr>\n",
       "      <th>min</th>\n",
       "      <td>12.94</td>\n",
       "      <td>-2.90</td>\n",
       "    </tr>\n",
       "    <tr>\n",
       "      <th>25%</th>\n",
       "      <td>30.55</td>\n",
       "      <td>10.20</td>\n",
       "    </tr>\n",
       "    <tr>\n",
       "      <th>50%</th>\n",
       "      <td>37.99</td>\n",
       "      <td>15.50</td>\n",
       "    </tr>\n",
       "    <tr>\n",
       "      <th>75%</th>\n",
       "      <td>46.26</td>\n",
       "      <td>22.20</td>\n",
       "    </tr>\n",
       "    <tr>\n",
       "      <th>max</th>\n",
       "      <td>96.86</td>\n",
       "      <td>40.00</td>\n",
       "    </tr>\n",
       "  </tbody>\n",
       "</table>\n",
       "</div>"
      ],
      "text/plain": [
       "            ICA  TEMPERATURA\n",
       "count  30860.00     30860.00\n",
       "mean      39.31        16.42\n",
       "std       11.94         7.96\n",
       "min       12.94        -2.90\n",
       "25%       30.55        10.20\n",
       "50%       37.99        15.50\n",
       "75%       46.26        22.20\n",
       "max       96.86        40.00"
      ]
     },
     "execution_count": 144,
     "metadata": {},
     "output_type": "execute_result"
    }
   ],
   "source": [
    "df_variables_elegidas.describe().round(2)"
   ]
  },
  {
   "attachments": {},
   "cell_type": "markdown",
   "metadata": {},
   "source": [
    "## <font color=pink>Análisis Exploratorio</font>"
   ]
  },
  {
   "attachments": {},
   "cell_type": "markdown",
   "metadata": {},
   "source": [
    "### <font color=green>**Variables del Dataframe:**</font>\n",
    "\n",
    "| Contaminante                                                  | Descripción                                              |\n",
    "| --------------------------------------------------------------| -------------------------------------------------------- |\n",
    "| SO2 (dióxido de azufre)                                       |                                                          |\n",
    "| CO2                                                           |    \n",
    "| NO2 (Dióxido de nitrógeno)                                    | _Es un contaminante atmosférico que se produce fundamentalmente en las combustiones de los vehículos de motor._|\n",
    "| PM2.5 (Partículas en suspensión tamaño inferior a 2,5 micras) | _Proceden fundamentalmente de la actividad humana, pueden penetrar hasta las partes más profundas del pulmón y pasar a la sangre, y por ello resultan especialmente nocivas._\n",
    "| PM10 (Partículas en suspensión tamaño inferior a 10 micras)   | _Al ser más grandes quedan en buena parte retenidas en las porciones superiores del aparato respiratorio, como las fosas nasales o los grandes bronquios. Resultan menos perjudiciales para la salud que las PM2,5, pero no son inocuas y se ha observado un aumento de la demanda de atención urgente por crisis asmáticas cuando aumenta su concentración en el aire._                                                                      |\n",
    "| O3 (Ozono troposférico)                                       | _Es un gas incoloro que puede resultar beneficioso o nocivo para la salud, dependiendo de si se encuentra en las capas más altas de la atmósfera o a nivel del suelo._ \n",
    "| BTX                                                           |\n",
    "| TEMPERATURA                                                   |\n",
    "| HUMEDAD                                                       |\n",
    "| ICA_SO2                                                       | _(Concentración_SO2 / Valor_Límite_SO2) * 100_\n",
    "| ICA_PM10                                                      | _(Concentración_PM10 / Valor_Límite_PM10) * 100_\n",
    "| ICA_O3                                                        | _(Concentración_O3 / Valor_Límite_O3) * 100_\n",
    "| ICA_NO2                                                       | _(Concentración_NO2 / Valor_Límite_NO2) * 100_\n",
    "| ICA                                                           | _(ICA_SO2 + ICA_NO2 + ICA_PM10 + ICA_O3) / 4_ "
   ]
  },
  {
   "attachments": {},
   "cell_type": "markdown",
   "metadata": {},
   "source": [
    "## <font color=pink>Modelado</font>"
   ]
  },
  {
   "attachments": {},
   "cell_type": "markdown",
   "metadata": {},
   "source": [
    "### <font color=green>**--> Dividir los datos en variables de entrada (X) y variable de salida (y)** </font>"
   ]
  },
  {
   "cell_type": "code",
   "execution_count": 145,
   "metadata": {},
   "outputs": [],
   "source": [
    "# X = df_variables_elegidas[['ICA']]\n",
    "# y = df_variables_elegidas['TEMPERATURA']\n",
    "# print('The type of X is ', type(X))\n",
    "# print('The type of y is ', type(y))"
   ]
  },
  {
   "cell_type": "code",
   "execution_count": 146,
   "metadata": {},
   "outputs": [
    {
     "data": {
      "text/html": [
       "<div>\n",
       "<style scoped>\n",
       "    .dataframe tbody tr th:only-of-type {\n",
       "        vertical-align: middle;\n",
       "    }\n",
       "\n",
       "    .dataframe tbody tr th {\n",
       "        vertical-align: top;\n",
       "    }\n",
       "\n",
       "    .dataframe thead th {\n",
       "        text-align: right;\n",
       "    }\n",
       "</style>\n",
       "<table border=\"1\" class=\"dataframe\">\n",
       "  <thead>\n",
       "    <tr style=\"text-align: right;\">\n",
       "      <th></th>\n",
       "      <th>ICA</th>\n",
       "    </tr>\n",
       "  </thead>\n",
       "  <tbody>\n",
       "    <tr>\n",
       "      <th>0</th>\n",
       "      <td>45.22</td>\n",
       "    </tr>\n",
       "    <tr>\n",
       "      <th>1</th>\n",
       "      <td>45.64</td>\n",
       "    </tr>\n",
       "    <tr>\n",
       "      <th>2</th>\n",
       "      <td>47.94</td>\n",
       "    </tr>\n",
       "    <tr>\n",
       "      <th>3</th>\n",
       "      <td>47.78</td>\n",
       "    </tr>\n",
       "    <tr>\n",
       "      <th>4</th>\n",
       "      <td>45.88</td>\n",
       "    </tr>\n",
       "    <tr>\n",
       "      <th>5</th>\n",
       "      <td>40.45</td>\n",
       "    </tr>\n",
       "    <tr>\n",
       "      <th>6</th>\n",
       "      <td>41.03</td>\n",
       "    </tr>\n",
       "    <tr>\n",
       "      <th>7</th>\n",
       "      <td>43.52</td>\n",
       "    </tr>\n",
       "    <tr>\n",
       "      <th>8</th>\n",
       "      <td>55.90</td>\n",
       "    </tr>\n",
       "    <tr>\n",
       "      <th>9</th>\n",
       "      <td>56.07</td>\n",
       "    </tr>\n",
       "  </tbody>\n",
       "</table>\n",
       "</div>"
      ],
      "text/plain": [
       "     ICA\n",
       "0  45.22\n",
       "1  45.64\n",
       "2  47.94\n",
       "3  47.78\n",
       "4  45.88\n",
       "5  40.45\n",
       "6  41.03\n",
       "7  43.52\n",
       "8  55.90\n",
       "9  56.07"
      ]
     },
     "execution_count": 146,
     "metadata": {},
     "output_type": "execute_result"
    }
   ],
   "source": [
    "# Dado un determinado indice de ICA, identificar si la temperatura baja o sube\n",
    "X = df_variables_elegidas.iloc[:, :-1] # selecciona todas las filas pero solamente la primera columna\n",
    "X[:10]"
   ]
  },
  {
   "cell_type": "code",
   "execution_count": 147,
   "metadata": {},
   "outputs": [
    {
     "data": {
      "text/plain": [
       "0     4.7\n",
       "1     3.2\n",
       "2     4.0\n",
       "3     3.9\n",
       "4     4.3\n",
       "5     5.9\n",
       "6     8.4\n",
       "7    11.5\n",
       "8    13.2\n",
       "9    15.1\n",
       "Name: TEMPERATURA, dtype: float64"
      ]
     },
     "execution_count": 147,
     "metadata": {},
     "output_type": "execute_result"
    }
   ],
   "source": [
    "y = df_variables_elegidas.iloc[:, -1]\n",
    "y[:10]"
   ]
  },
  {
   "attachments": {},
   "cell_type": "markdown",
   "metadata": {},
   "source": [
    "### <font color=green>**--> Dividir los datos en conjuntos de entrenamiento y prueba** </font>"
   ]
  },
  {
   "attachments": {},
   "cell_type": "markdown",
   "metadata": {},
   "source": [
    "El argumento test_size indica la proporción de datos que se utilizarán para el conjunto de prueba. \n",
    "Se puede ajustar este valor según las necesidades que haya en el proyecto.\n",
    "- 80% Entrenamiento: X_train, y_train\n",
    "- 20% Test: X_test, y_test"
   ]
  },
  {
   "cell_type": "code",
   "execution_count": 148,
   "metadata": {},
   "outputs": [
    {
     "name": "stdout",
     "output_type": "stream",
     "text": [
      "Entrenammiento (24688, 1) (24688,)\n",
      "Test (6172, 1) (6172,)\n"
     ]
    }
   ],
   "source": [
    "# Separa los datos para el entrenamineto\n",
    "X_train, X_test, y_train, y_test = train_test_split(X, y, test_size=0.2, random_state=42)\n",
    "\n",
    "print(f'Entrenammiento {X_train.shape} {y_train.shape}')\n",
    "print(f'Test {X_test.shape} {y_test.shape}')\n"
   ]
  },
  {
   "cell_type": "code",
   "execution_count": 149,
   "metadata": {},
   "outputs": [
    {
     "data": {
      "text/html": [
       "<div>\n",
       "<style scoped>\n",
       "    .dataframe tbody tr th:only-of-type {\n",
       "        vertical-align: middle;\n",
       "    }\n",
       "\n",
       "    .dataframe tbody tr th {\n",
       "        vertical-align: top;\n",
       "    }\n",
       "\n",
       "    .dataframe thead th {\n",
       "        text-align: right;\n",
       "    }\n",
       "</style>\n",
       "<table border=\"1\" class=\"dataframe\">\n",
       "  <thead>\n",
       "    <tr style=\"text-align: right;\">\n",
       "      <th></th>\n",
       "      <th>ICA</th>\n",
       "    </tr>\n",
       "  </thead>\n",
       "  <tbody>\n",
       "    <tr>\n",
       "      <th>20779</th>\n",
       "      <td>56.74</td>\n",
       "    </tr>\n",
       "    <tr>\n",
       "      <th>17604</th>\n",
       "      <td>26.15</td>\n",
       "    </tr>\n",
       "    <tr>\n",
       "      <th>7886</th>\n",
       "      <td>29.70</td>\n",
       "    </tr>\n",
       "    <tr>\n",
       "      <th>22065</th>\n",
       "      <td>19.49</td>\n",
       "    </tr>\n",
       "    <tr>\n",
       "      <th>8362</th>\n",
       "      <td>36.34</td>\n",
       "    </tr>\n",
       "    <tr>\n",
       "      <th>1009</th>\n",
       "      <td>60.28</td>\n",
       "    </tr>\n",
       "    <tr>\n",
       "      <th>19957</th>\n",
       "      <td>35.88</td>\n",
       "    </tr>\n",
       "    <tr>\n",
       "      <th>23523</th>\n",
       "      <td>27.26</td>\n",
       "    </tr>\n",
       "    <tr>\n",
       "      <th>4306</th>\n",
       "      <td>30.48</td>\n",
       "    </tr>\n",
       "    <tr>\n",
       "      <th>15837</th>\n",
       "      <td>38.90</td>\n",
       "    </tr>\n",
       "  </tbody>\n",
       "</table>\n",
       "</div>"
      ],
      "text/plain": [
       "         ICA\n",
       "20779  56.74\n",
       "17604  26.15\n",
       "7886   29.70\n",
       "22065  19.49\n",
       "8362   36.34\n",
       "1009   60.28\n",
       "19957  35.88\n",
       "23523  27.26\n",
       "4306   30.48\n",
       "15837  38.90"
      ]
     },
     "execution_count": 149,
     "metadata": {},
     "output_type": "execute_result"
    }
   ],
   "source": [
    "# Verificar se todo esta bien\n",
    "X_train[:10]"
   ]
  },
  {
   "cell_type": "code",
   "execution_count": 150,
   "metadata": {},
   "outputs": [
    {
     "data": {
      "image/png": "[encoded data removed]",
      "text/plain": [
       "<Figure size 704x528 with 1 Axes>"
      ]
     },
     "metadata": {},
     "output_type": "display_data"
    }
   ],
   "source": [
    "# Generar una gráfica para entender mejor en que consiste este particionamiento\n",
    "plt.scatter(X_train, y_train) # datos de entrenamiento\n",
    "plt.scatter(X_test, y_test, c='orange') # datos de test\n",
    "plt.xlabel('ICA')\n",
    "plt.ylabel('TEMPERATURA')\n",
    "plt.show()"
   ]
  },
  {
   "attachments": {},
   "cell_type": "markdown",
   "metadata": {},
   "source": [
    "## <font color=pink>Regresión Lineal</font>"
   ]
  },
  {
   "attachments": {},
   "cell_type": "markdown",
   "metadata": {},
   "source": [
    "### <font color=green>--> **Crear una instancia del modelo de regresión lineal** </font>\n"
   ]
  },
  {
   "cell_type": "code",
   "execution_count": 151,
   "metadata": {},
   "outputs": [],
   "source": [
    "regression_model = LinearRegression()\n"
   ]
  },
  {
   "attachments": {},
   "cell_type": "markdown",
   "metadata": {},
   "source": [
    "### <font color=green>--> **Ajustar el modelo utilizando los datos de entrenamiento** </font>"
   ]
  },
  {
   "cell_type": "code",
   "execution_count": 152,
   "metadata": {},
   "outputs": [
    {
     "data": {
      "text/html": [
       "<style>#sk-container-id-6 {color: black;background-color: white;}#sk-container-id-6 pre{padding: 0;}#sk-container-id-6 div.sk-toggleable {background-color: white;}#sk-container-id-6 label.sk-toggleable__label {cursor: pointer;display: block;width: 100%;margin-bottom: 0;padding: 0.3em;box-sizing: border-box;text-align: center;}#sk-container-id-6 label.sk-toggleable__label-arrow:before {content: \"▸\";float: left;margin-right: 0.25em;color: #696969;}#sk-container-id-6 label.sk-toggleable__label-arrow:hover:before {color: black;}#sk-container-id-6 div.sk-estimator:hover label.sk-toggleable__label-arrow:before {color: black;}#sk-container-id-6 div.sk-toggleable__content {max-height: 0;max-width: 0;overflow: hidden;text-align: left;background-color: #f0f8ff;}#sk-container-id-6 div.sk-toggleable__content pre {margin: 0.2em;color: black;border-radius: 0.25em;background-color: #f0f8ff;}#sk-container-id-6 input.sk-toggleable__control:checked~div.sk-toggleable__content {max-height: 200px;max-width: 100%;overflow: auto;}#sk-container-id-6 input.sk-toggleable__control:checked~label.sk-toggleable__label-arrow:before {content: \"▾\";}#sk-container-id-6 div.sk-estimator input.sk-toggleable__control:checked~label.sk-toggleable__label {background-color: #d4ebff;}#sk-container-id-6 div.sk-label input.sk-toggleable__control:checked~label.sk-toggleable__label {background-color: #d4ebff;}#sk-container-id-6 input.sk-hidden--visually {border: 0;clip: rect(1px 1px 1px 1px);clip: rect(1px, 1px, 1px, 1px);height: 1px;margin: -1px;overflow: hidden;padding: 0;position: absolute;width: 1px;}#sk-container-id-6 div.sk-estimator {font-family: monospace;background-color: #f0f8ff;border: 1px dotted black;border-radius: 0.25em;box-sizing: border-box;margin-bottom: 0.5em;}#sk-container-id-6 div.sk-estimator:hover {background-color: #d4ebff;}#sk-container-id-6 div.sk-parallel-item::after {content: \"\";width: 100%;border-bottom: 1px solid gray;flex-grow: 1;}#sk-container-id-6 div.sk-label:hover label.sk-toggleable__label {background-color: #d4ebff;}#sk-container-id-6 div.sk-serial::before {content: \"\";position: absolute;border-left: 1px solid gray;box-sizing: border-box;top: 0;bottom: 0;left: 50%;z-index: 0;}#sk-container-id-6 div.sk-serial {display: flex;flex-direction: column;align-items: center;background-color: white;padding-right: 0.2em;padding-left: 0.2em;position: relative;}#sk-container-id-6 div.sk-item {position: relative;z-index: 1;}#sk-container-id-6 div.sk-parallel {display: flex;align-items: stretch;justify-content: center;background-color: white;position: relative;}#sk-container-id-6 div.sk-item::before, #sk-container-id-6 div.sk-parallel-item::before {content: \"\";position: absolute;border-left: 1px solid gray;box-sizing: border-box;top: 0;bottom: 0;left: 50%;z-index: -1;}#sk-container-id-6 div.sk-parallel-item {display: flex;flex-direction: column;z-index: 1;position: relative;background-color: white;}#sk-container-id-6 div.sk-parallel-item:first-child::after {align-self: flex-end;width: 50%;}#sk-container-id-6 div.sk-parallel-item:last-child::after {align-self: flex-start;width: 50%;}#sk-container-id-6 div.sk-parallel-item:only-child::after {width: 0;}#sk-container-id-6 div.sk-dashed-wrapped {border: 1px dashed gray;margin: 0 0.4em 0.5em 0.4em;box-sizing: border-box;padding-bottom: 0.4em;background-color: white;}#sk-container-id-6 div.sk-label label {font-family: monospace;font-weight: bold;display: inline-block;line-height: 1.2em;}#sk-container-id-6 div.sk-label-container {text-align: center;}#sk-container-id-6 div.sk-container {/* jupyter's `normalize.less` sets `[hidden] { display: none; }` but bootstrap.min.css set `[hidden] { display: none !important; }` so we also need the `!important` here to be able to override the default hidden behavior on the sphinx rendered scikit-learn.org. See: https://github.com/scikit-learn/scikit-learn/issues/21755 */display: inline-block !important;position: relative;}#sk-container-id-6 div.sk-text-repr-fallback {display: none;}</style><div id=\"sk-container-id-6\" class=\"sk-top-container\"><div class=\"sk-text-repr-fallback\"><pre>LinearRegression()</pre><b>In a Jupyter environment, please rerun this cell to show the HTML representation or trust the notebook. <br />On GitHub, the HTML representation is unable to render, please try loading this page with nbviewer.org.</b></div><div class=\"sk-container\" hidden><div class=\"sk-item\"><div class=\"sk-estimator sk-toggleable\"><input class=\"sk-toggleable__control sk-hidden--visually\" id=\"sk-estimator-id-6\" type=\"checkbox\" checked><label for=\"sk-estimator-id-6\" class=\"sk-toggleable__label sk-toggleable__label-arrow\">LinearRegression</label><div class=\"sk-toggleable__content\"><pre>LinearRegression()</pre></div></div></div></div></div>"
      ],
      "text/plain": [
       "LinearRegression()"
      ]
     },
     "execution_count": 152,
     "metadata": {},
     "output_type": "execute_result"
    }
   ],
   "source": [
    "regression_model.fit(X_train, y_train)"
   ]
  },
  {
   "attachments": {},
   "cell_type": "markdown",
   "metadata": {},
   "source": [
    "### <font color=green>**--> Realizar predicciones utilizando los datos de prueba** </font>\n"
   ]
  },
  {
   "cell_type": "code",
   "execution_count": 153,
   "metadata": {},
   "outputs": [
    {
     "data": {
      "text/plain": [
       "array([15.97569936, 14.21401297, 17.66220422, ..., 12.64332833,\n",
       "       13.71822119, 18.40792383])"
      ]
     },
     "execution_count": 153,
     "metadata": {},
     "output_type": "execute_result"
    }
   ],
   "source": [
    "# Haciendo la predicción. \n",
    "# Creamos la variable y_pred para poder comparala con el y_test\n",
    "y_pred = regression_model.predict(X_test) # conjunto de validación, predice sobre datos que no conoce. \n",
    "                                          # se hace la predicción con base en los datos de test (datos de validación que hemos \n",
    "                                          # creado)\n",
    "y_pred\n"
   ]
  },
  {
   "cell_type": "code",
   "execution_count": 154,
   "metadata": {},
   "outputs": [
    {
     "data": {
      "text/plain": [
       "Text(0, 0.5, 'Temperatura')"
      ]
     },
     "execution_count": 154,
     "metadata": {},
     "output_type": "execute_result"
    },
    {
     "data": {
      "image/png": "[encoded data removed]",
      "text/plain": [
       "<Figure size 704x528 with 1 Axes>"
      ]
     },
     "metadata": {},
     "output_type": "display_data"
    }
   ],
   "source": [
    "# Valores de test\n",
    "plt.scatter(X_test, y_test)\n",
    "plt.plot(X_test, y_pred, c='r') # Hacemos las predicciones con un plot y usamos la variable y_pred\n",
    "\n",
    "plt.xlabel('ICA')\n",
    "plt.ylabel('Temperatura')"
   ]
  },
  {
   "attachments": {},
   "cell_type": "markdown",
   "metadata": {},
   "source": [
    "A partir de ahí, el modelo ya esta preparado para hacer predicciones."
   ]
  },
  {
   "cell_type": "code",
   "execution_count": 155,
   "metadata": {},
   "outputs": [
    {
     "data": {
      "text/plain": [
       "array([12.47467785])"
      ]
     },
     "execution_count": 155,
     "metadata": {},
     "output_type": "execute_result"
    }
   ],
   "source": [
    "# Ponemos el nombre de la columna y pasamos la predicción informando el ICA.\n",
    "X_new = pd.DataFrame({'ICA': [20]}) \n",
    "\n",
    "# Ahora pasamos la variable al modelo predict. \n",
    "regression_model.predict(X_new) "
   ]
  },
  {
   "attachments": {},
   "cell_type": "markdown",
   "metadata": {},
   "source": [
    "Observación:\n",
    "\n",
    "Al predecir un valor del ICA nos dará cual sería la temperatura.\n",
    "Se nota que cuanto mayor es el ICA menor es el valor de la temperatura.\n"
   ]
  },
  {
   "attachments": {},
   "cell_type": "markdown",
   "metadata": {},
   "source": [
    "## <font color=pink>Evaluar el rendimiento del modelo de regresión lineal</font>\n"
   ]
  },
  {
   "attachments": {},
   "cell_type": "markdown",
   "metadata": {},
   "source": [
    "#### <font color=green>**--> Métrica utilizada: Error cuadrático promedio (MSE) y cálculo del coeficiente de determinación (R²)** </font>\n",
    "\n",
    "El MSE mide el error cuadrático promedio, por lo que cuanto menor sea el valor de MSE, mejor será el ajuste del modelo a los datos. Por otro lado, el R² mide la proporción de varianza explicada, y un valor más cercano a 1 indica un mejor ajuste del modelo a los datos.\n",
    "\n",
    "**Cálculo del Error Cuadrático Medio (MSE):**\n",
    "- El Error Cuadrático Medio es una métrica comúnmente utilizada en problemas de regresión y nos permite medir la discrepancia entre los valores reales y los valores predichos por el modelo.\n",
    "- El cálculo del MSE se realiza sumando los cuadrados de las diferencias entre los valores reales y los valores predichos para cada punto de datos, y luego dividiendo esta suma por el número total de puntos de datos. \n",
    "- La fórmula del MSE es la siguiente:\n",
    "MSE = (1 / M) * Σᵢ(realᵢ - estimadoᵢ)²\n",
    "  - Donde M es el número total de puntos de datos, \n",
    "  - realᵢ es el valor real correspondiente al punto de datos i, y \n",
    "  - estimadoᵢ es el valor predicho por el modelo para el punto de datos i.\n",
    "\n",
    "**Cálculo del Coeficiente de Determinación (R²):**\n",
    "- El coeficiente de determinación, también conocido como R², es otra métrica comúnmente utilizada en regresión que indica la proporción de la varianza de los valores de respuesta que es explicada por el modelo.\n",
    "- El cálculo de R² se realiza mediante la comparación de la varianza de los residuos (diferencias entre los valores reales y los valores predichos) con la varianza total de los valores de respuesta. \n",
    "- R² puede tomar valores entre 0 y 1, donde 0 indica que el modelo no explica la variabilidad de los datos y 1 indica que el modelo explica perfectamente la variabilidad de los datos.\n",
    "- La fórmula para calcular R² es la siguiente:\n",
    "- R² = 1 - (Σᵢ(realᵢ - estimadoᵢ)² / Σᵢ(realᵢ - media_real)²)\n",
    "  - Donde realᵢ es el valor real correspondiente al punto de datos i, \n",
    "  - estimadoᵢ es el valor predicho por el modelo para el punto de datos i, y \n",
    "  - media_real es la media de todos los valores reales."
   ]
  },
  {
   "cell_type": "code",
   "execution_count": 156,
   "metadata": {},
   "outputs": [
    {
     "name": "stdout",
     "output_type": "stream",
     "text": [
      "MSE 57.644075430884165\n",
      "R2 0.09670367673050417\n"
     ]
    }
   ],
   "source": [
    "# Donde valores_reales son los valores reales de los datos y valores_predichos son los valores predichos por nuestro modelo.\n",
    "\n",
    "valores_reales = y_test  # Valores reales de los datos\n",
    "valores_predichos = y_pred  # Valores predichos por el modelo\n",
    "\n",
    "mse = mean_squared_error(valores_reales, valores_predichos)\n",
    "r2 = r2_score(valores_reales, valores_predichos)\n",
    "\n",
    "print(f'MSE {mse}')\n",
    "print(f'R2 {r2}')\n"
   ]
  }
 ],
 "metadata": {
  "kernelspec": {
   "display_name": "nombre_kernel",
   "language": "python",
   "name": "nombre_kernel"
  },
  "language_info": {
   "codemirror_mode": {
    "name": "ipython",
    "version": 3
   },
   "file_extension": ".py",
   "mimetype": "text/x-python",
   "name": "python",
   "nbconvert_exporter": "python",
   "pygments_lexer": "ipython3",
   "version": "3.10.10"
  },
  "orig_nbformat": 4
 },
 "nbformat": 4,
 "nbformat_minor": 2
}
