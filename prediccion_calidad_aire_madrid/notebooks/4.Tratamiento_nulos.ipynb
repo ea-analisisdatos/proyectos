{
 "cells": [
  {
   "attachments": {},
   "cell_type": "markdown",
   "metadata": {},
   "source": [
    "# Tratamiento de Valores Nulos"
   ]
  },
  {
   "attachments": {},
   "cell_type": "markdown",
   "metadata": {},
   "source": [
    "## Importar Librerías"
   ]
  },
  {
   "cell_type": "code",
   "execution_count": 1,
   "metadata": {},
   "outputs": [],
   "source": [
    "import numpy as np\n",
    "import pandas as pd\n",
    "import seaborn as sns\n",
    "import matplotlib.pyplot as plt\n",
    "import missingno as msno\n",
    "\n",
    "import data_util as util"
   ]
  },
  {
   "attachments": {},
   "cell_type": "markdown",
   "metadata": {},
   "source": [
    "## Importar los datos"
   ]
  },
  {
   "cell_type": "code",
   "execution_count": 15,
   "metadata": {},
   "outputs": [
    {
     "data": {
      "text/html": [
       "<div>\n",
       "<style scoped>\n",
       "    .dataframe tbody tr th:only-of-type {\n",
       "        vertical-align: middle;\n",
       "    }\n",
       "\n",
       "    .dataframe tbody tr th {\n",
       "        vertical-align: top;\n",
       "    }\n",
       "\n",
       "    .dataframe thead th {\n",
       "        text-align: right;\n",
       "    }\n",
       "</style>\n",
       "<table border=\"1\" class=\"dataframe\">\n",
       "  <thead>\n",
       "    <tr style=\"text-align: right;\">\n",
       "      <th></th>\n",
       "      <th>FECHA</th>\n",
       "      <th>ANO</th>\n",
       "      <th>MES</th>\n",
       "      <th>DIA</th>\n",
       "      <th>HORA</th>\n",
       "      <th>DIA_SEMANA</th>\n",
       "      <th>ESTACION</th>\n",
       "      <th>SO2</th>\n",
       "      <th>CO</th>\n",
       "      <th>NO2</th>\n",
       "      <th>PM2.5</th>\n",
       "      <th>PM10</th>\n",
       "      <th>O3</th>\n",
       "      <th>BTX</th>\n",
       "      <th>TEMPERATURA</th>\n",
       "      <th>HUMEDAD</th>\n",
       "    </tr>\n",
       "  </thead>\n",
       "  <tbody>\n",
       "    <tr>\n",
       "      <th>0</th>\n",
       "      <td>2019-01-01 00:00:00</td>\n",
       "      <td>2019.0</td>\n",
       "      <td>1.0</td>\n",
       "      <td>1.0</td>\n",
       "      <td>0</td>\n",
       "      <td>Martes</td>\n",
       "      <td>8.0</td>\n",
       "      <td>13.0</td>\n",
       "      <td>0.7</td>\n",
       "      <td>79.0</td>\n",
       "      <td>24.0</td>\n",
       "      <td>32.0</td>\n",
       "      <td>3.84</td>\n",
       "      <td>6.4</td>\n",
       "      <td>6.9</td>\n",
       "      <td>50.0</td>\n",
       "    </tr>\n",
       "    <tr>\n",
       "      <th>1</th>\n",
       "      <td>2019-01-01 01:00:00</td>\n",
       "      <td>2019.0</td>\n",
       "      <td>1.0</td>\n",
       "      <td>1.0</td>\n",
       "      <td>1</td>\n",
       "      <td>Martes</td>\n",
       "      <td>8.0</td>\n",
       "      <td>13.0</td>\n",
       "      <td>0.6</td>\n",
       "      <td>76.0</td>\n",
       "      <td>33.0</td>\n",
       "      <td>105.0</td>\n",
       "      <td>3.61</td>\n",
       "      <td>4.9</td>\n",
       "      <td>6.7</td>\n",
       "      <td>48.0</td>\n",
       "    </tr>\n",
       "  </tbody>\n",
       "</table>\n",
       "</div>"
      ],
      "text/plain": [
       "                 FECHA     ANO  MES  DIA  HORA DIA_SEMANA  ESTACION   SO2  \\\n",
       "0  2019-01-01 00:00:00  2019.0  1.0  1.0     0     Martes       8.0  13.0   \n",
       "1  2019-01-01 01:00:00  2019.0  1.0  1.0     1     Martes       8.0  13.0   \n",
       "\n",
       "    CO   NO2  PM2.5   PM10    O3  BTX  TEMPERATURA  HUMEDAD  \n",
       "0  0.7  79.0   24.0   32.0  3.84  6.4          6.9     50.0  \n",
       "1  0.6  76.0   33.0  105.0  3.61  4.9          6.7     48.0  "
      ]
     },
     "execution_count": 15,
     "metadata": {},
     "output_type": "execute_result"
    }
   ],
   "source": [
    "ruta = '../data/calidad_aire.csv'\n",
    "ruta_nuevoCSV = '../data/calidad_aire_clean.csv'\n",
    "data = pd.read_csv(ruta, delimiter=',')\n",
    "data.head(2)"
   ]
  },
  {
   "attachments": {},
   "cell_type": "markdown",
   "metadata": {},
   "source": [
    "### Cantidad de Registros Importados"
   ]
  },
  {
   "cell_type": "code",
   "execution_count": 4,
   "metadata": {},
   "outputs": [
    {
     "data": {
      "text/plain": [
       "(38256, 16)"
      ]
     },
     "execution_count": 4,
     "metadata": {},
     "output_type": "execute_result"
    }
   ],
   "source": [
    "data.shape"
   ]
  },
  {
   "attachments": {},
   "cell_type": "markdown",
   "metadata": {},
   "source": [
    "### Identificación de los tipos de columnas"
   ]
  },
  {
   "cell_type": "code",
   "execution_count": 5,
   "metadata": {},
   "outputs": [
    {
     "name": "stdout",
     "output_type": "stream",
     "text": [
      "<class 'pandas.core.frame.DataFrame'>\n",
      "RangeIndex: 38256 entries, 0 to 38255\n",
      "Data columns (total 16 columns):\n",
      " #   Column       Non-Null Count  Dtype  \n",
      "---  ------       --------------  -----  \n",
      " 0   FECHA        38256 non-null  object \n",
      " 1   ANO          38256 non-null  float64\n",
      " 2   MES          38256 non-null  float64\n",
      " 3   DIA          38256 non-null  float64\n",
      " 4   HORA         38256 non-null  int64  \n",
      " 5   DIA_SEMANA   38256 non-null  object \n",
      " 6   ESTACION     38256 non-null  float64\n",
      " 7   SO2          37512 non-null  float64\n",
      " 8   CO           37686 non-null  float64\n",
      " 9   NO2          37777 non-null  float64\n",
      " 10  PM2.5        35571 non-null  float64\n",
      " 11  PM10         35530 non-null  float64\n",
      " 12  O3           37232 non-null  float64\n",
      " 13  BTX          38256 non-null  float64\n",
      " 14  TEMPERATURA  37699 non-null  float64\n",
      " 15  HUMEDAD      37647 non-null  float64\n",
      "dtypes: float64(13), int64(1), object(2)\n",
      "memory usage: 4.7+ MB\n"
     ]
    }
   ],
   "source": [
    "data.info()"
   ]
  },
  {
   "attachments": {},
   "cell_type": "markdown",
   "metadata": {},
   "source": [
    "### Estadística Descriptiva"
   ]
  },
  {
   "cell_type": "code",
   "execution_count": 6,
   "metadata": {},
   "outputs": [
    {
     "data": {
      "text/html": [
       "<div>\n",
       "<style scoped>\n",
       "    .dataframe tbody tr th:only-of-type {\n",
       "        vertical-align: middle;\n",
       "    }\n",
       "\n",
       "    .dataframe tbody tr th {\n",
       "        vertical-align: top;\n",
       "    }\n",
       "\n",
       "    .dataframe thead th {\n",
       "        text-align: right;\n",
       "    }\n",
       "</style>\n",
       "<table border=\"1\" class=\"dataframe\">\n",
       "  <thead>\n",
       "    <tr style=\"text-align: right;\">\n",
       "      <th></th>\n",
       "      <th>ANO</th>\n",
       "      <th>MES</th>\n",
       "      <th>DIA</th>\n",
       "      <th>HORA</th>\n",
       "      <th>ESTACION</th>\n",
       "      <th>SO2</th>\n",
       "      <th>CO</th>\n",
       "      <th>NO2</th>\n",
       "      <th>PM2.5</th>\n",
       "      <th>PM10</th>\n",
       "      <th>O3</th>\n",
       "      <th>BTX</th>\n",
       "      <th>TEMPERATURA</th>\n",
       "      <th>HUMEDAD</th>\n",
       "    </tr>\n",
       "  </thead>\n",
       "  <tbody>\n",
       "    <tr>\n",
       "      <th>count</th>\n",
       "      <td>38256.0</td>\n",
       "      <td>38256.0</td>\n",
       "      <td>38256.0</td>\n",
       "      <td>38256.0</td>\n",
       "      <td>38256.0</td>\n",
       "      <td>37512.0</td>\n",
       "      <td>37686.0</td>\n",
       "      <td>37777.0</td>\n",
       "      <td>35571.0</td>\n",
       "      <td>35530.0</td>\n",
       "      <td>37232.0</td>\n",
       "      <td>38256.0</td>\n",
       "      <td>37699.0</td>\n",
       "      <td>37647.0</td>\n",
       "    </tr>\n",
       "    <tr>\n",
       "      <th>mean</th>\n",
       "      <td>2020.7</td>\n",
       "      <td>6.2</td>\n",
       "      <td>15.8</td>\n",
       "      <td>11.5</td>\n",
       "      <td>8.0</td>\n",
       "      <td>5.1</td>\n",
       "      <td>0.3</td>\n",
       "      <td>38.3</td>\n",
       "      <td>9.7</td>\n",
       "      <td>18.9</td>\n",
       "      <td>48.7</td>\n",
       "      <td>3.2</td>\n",
       "      <td>16.3</td>\n",
       "      <td>55.0</td>\n",
       "    </tr>\n",
       "    <tr>\n",
       "      <th>std</th>\n",
       "      <td>1.3</td>\n",
       "      <td>3.5</td>\n",
       "      <td>8.8</td>\n",
       "      <td>6.9</td>\n",
       "      <td>0.0</td>\n",
       "      <td>3.3</td>\n",
       "      <td>0.2</td>\n",
       "      <td>25.1</td>\n",
       "      <td>8.3</td>\n",
       "      <td>16.1</td>\n",
       "      <td>29.1</td>\n",
       "      <td>3.8</td>\n",
       "      <td>8.3</td>\n",
       "      <td>22.0</td>\n",
       "    </tr>\n",
       "    <tr>\n",
       "      <th>min</th>\n",
       "      <td>2019.0</td>\n",
       "      <td>1.0</td>\n",
       "      <td>1.0</td>\n",
       "      <td>0.0</td>\n",
       "      <td>8.0</td>\n",
       "      <td>0.0</td>\n",
       "      <td>0.1</td>\n",
       "      <td>3.0</td>\n",
       "      <td>0.0</td>\n",
       "      <td>1.0</td>\n",
       "      <td>0.8</td>\n",
       "      <td>0.0</td>\n",
       "      <td>-30.2</td>\n",
       "      <td>0.0</td>\n",
       "    </tr>\n",
       "    <tr>\n",
       "      <th>25%</th>\n",
       "      <td>2020.0</td>\n",
       "      <td>3.0</td>\n",
       "      <td>8.0</td>\n",
       "      <td>5.8</td>\n",
       "      <td>8.0</td>\n",
       "      <td>2.0</td>\n",
       "      <td>0.2</td>\n",
       "      <td>19.0</td>\n",
       "      <td>4.0</td>\n",
       "      <td>9.0</td>\n",
       "      <td>26.1</td>\n",
       "      <td>1.2</td>\n",
       "      <td>9.9</td>\n",
       "      <td>37.0</td>\n",
       "    </tr>\n",
       "    <tr>\n",
       "      <th>50%</th>\n",
       "      <td>2021.0</td>\n",
       "      <td>6.0</td>\n",
       "      <td>16.0</td>\n",
       "      <td>11.5</td>\n",
       "      <td>8.0</td>\n",
       "      <td>4.0</td>\n",
       "      <td>0.3</td>\n",
       "      <td>32.0</td>\n",
       "      <td>8.0</td>\n",
       "      <td>15.0</td>\n",
       "      <td>48.4</td>\n",
       "      <td>2.2</td>\n",
       "      <td>15.0</td>\n",
       "      <td>53.0</td>\n",
       "    </tr>\n",
       "    <tr>\n",
       "      <th>75%</th>\n",
       "      <td>2022.0</td>\n",
       "      <td>9.0</td>\n",
       "      <td>23.0</td>\n",
       "      <td>17.2</td>\n",
       "      <td>8.0</td>\n",
       "      <td>8.0</td>\n",
       "      <td>0.3</td>\n",
       "      <td>51.0</td>\n",
       "      <td>13.0</td>\n",
       "      <td>25.0</td>\n",
       "      <td>67.6</td>\n",
       "      <td>3.9</td>\n",
       "      <td>22.1</td>\n",
       "      <td>72.0</td>\n",
       "    </tr>\n",
       "    <tr>\n",
       "      <th>max</th>\n",
       "      <td>2023.0</td>\n",
       "      <td>12.0</td>\n",
       "      <td>31.0</td>\n",
       "      <td>23.0</td>\n",
       "      <td>8.0</td>\n",
       "      <td>35.0</td>\n",
       "      <td>2.9</td>\n",
       "      <td>279.0</td>\n",
       "      <td>106.0</td>\n",
       "      <td>322.0</td>\n",
       "      <td>181.0</td>\n",
       "      <td>150.6</td>\n",
       "      <td>42.5</td>\n",
       "      <td>100.0</td>\n",
       "    </tr>\n",
       "  </tbody>\n",
       "</table>\n",
       "</div>"
      ],
      "text/plain": [
       "           ANO      MES      DIA     HORA  ESTACION      SO2       CO  \\\n",
       "count  38256.0  38256.0  38256.0  38256.0   38256.0  37512.0  37686.0   \n",
       "mean    2020.7      6.2     15.8     11.5       8.0      5.1      0.3   \n",
       "std        1.3      3.5      8.8      6.9       0.0      3.3      0.2   \n",
       "min     2019.0      1.0      1.0      0.0       8.0      0.0      0.1   \n",
       "25%     2020.0      3.0      8.0      5.8       8.0      2.0      0.2   \n",
       "50%     2021.0      6.0     16.0     11.5       8.0      4.0      0.3   \n",
       "75%     2022.0      9.0     23.0     17.2       8.0      8.0      0.3   \n",
       "max     2023.0     12.0     31.0     23.0       8.0     35.0      2.9   \n",
       "\n",
       "           NO2    PM2.5     PM10       O3      BTX  TEMPERATURA  HUMEDAD  \n",
       "count  37777.0  35571.0  35530.0  37232.0  38256.0      37699.0  37647.0  \n",
       "mean      38.3      9.7     18.9     48.7      3.2         16.3     55.0  \n",
       "std       25.1      8.3     16.1     29.1      3.8          8.3     22.0  \n",
       "min        3.0      0.0      1.0      0.8      0.0        -30.2      0.0  \n",
       "25%       19.0      4.0      9.0     26.1      1.2          9.9     37.0  \n",
       "50%       32.0      8.0     15.0     48.4      2.2         15.0     53.0  \n",
       "75%       51.0     13.0     25.0     67.6      3.9         22.1     72.0  \n",
       "max      279.0    106.0    322.0    181.0    150.6         42.5    100.0  "
      ]
     },
     "execution_count": 6,
     "metadata": {},
     "output_type": "execute_result"
    }
   ],
   "source": [
    "##estadísticas descriptivas\n",
    "data.describe().round(1)"
   ]
  },
  {
   "attachments": {},
   "cell_type": "markdown",
   "metadata": {},
   "source": [
    "## Tratamiento Nulos"
   ]
  },
  {
   "attachments": {},
   "cell_type": "markdown",
   "metadata": {},
   "source": [
    "#####  1.1. Identifica si hay valores nulos en TODAS las columnas del dataframe \"data\""
   ]
  },
  {
   "cell_type": "code",
   "execution_count": 7,
   "metadata": {},
   "outputs": [
    {
     "name": "stdout",
     "output_type": "stream",
     "text": [
      "La columna SO2 tiene valores nulos.\n",
      "La columna CO tiene valores nulos.\n",
      "La columna NO2 tiene valores nulos.\n",
      "La columna PM2.5 tiene valores nulos.\n",
      "La columna PM10 tiene valores nulos.\n",
      "La columna O3 tiene valores nulos.\n",
      "La columna TEMPERATURA tiene valores nulos.\n",
      "La columna HUMEDAD tiene valores nulos.\n"
     ]
    }
   ],
   "source": [
    "datos_seleccionados = data\n",
    "for columna in datos_seleccionados:\n",
    "    if datos_seleccionados[columna].isnull().any():\n",
    "        print(f\"La columna {columna} tiene valores nulos.\")"
   ]
  },
  {
   "attachments": {},
   "cell_type": "markdown",
   "metadata": {},
   "source": [
    "#####  1.2. Visualización de los valores nulos en la gráfica"
   ]
  },
  {
   "cell_type": "code",
   "execution_count": 8,
   "metadata": {},
   "outputs": [
    {
     "data": {
      "text/plain": [
       "<Axes: >"
      ]
     },
     "execution_count": 8,
     "metadata": {},
     "output_type": "execute_result"
    },
    {
     "data": {
      "image/png": "[encoded data removed]",
      "text/plain": [
       "<Figure size 2500x1000 with 2 Axes>"
      ]
     },
     "metadata": {},
     "output_type": "display_data"
    }
   ],
   "source": [
    "%matplotlib inline\n",
    "msno.matrix(data)"
   ]
  },
  {
   "attachments": {},
   "cell_type": "markdown",
   "metadata": {},
   "source": [
    "#####  1.3. Rellenar las columnas que contienen valore nulos.\n",
    "\n",
    "* IterativeImputer: Se rellenan los nulos con una predicción a partir de una regresión"
   ]
  },
  {
   "attachments": {},
   "cell_type": "markdown",
   "metadata": {},
   "source": [
    "1. Obtener la lista de columnas que contienen valores faltantes \n",
    "\n",
    "* Función:  obtener_columnas_con_nulos(df)"
   ]
  },
  {
   "cell_type": "code",
   "execution_count": 9,
   "metadata": {},
   "outputs": [
    {
     "data": {
      "text/plain": [
       "['SO2', 'CO', 'NO2', 'PM2.5', 'PM10', 'O3', 'TEMPERATURA', 'HUMEDAD']"
      ]
     },
     "execution_count": 9,
     "metadata": {},
     "output_type": "execute_result"
    }
   ],
   "source": [
    "columnas_nulos = util.obtener_columnas_con_nulos(datos_seleccionados)\n",
    "columnas_nulos"
   ]
  },
  {
   "attachments": {},
   "cell_type": "markdown",
   "metadata": {},
   "source": [
    "2. Rellenar los valores faltantes mediante predección de una regresión\n",
    "\n",
    "* Función: rellenar_nulos_regresion(df, columns)"
   ]
  },
  {
   "cell_type": "code",
   "execution_count": 10,
   "metadata": {},
   "outputs": [],
   "source": [
    "columns_to_impute = columnas_nulos\n",
    "data = util.rellenar_nulos_regresion(data, columns_to_impute)"
   ]
  },
  {
   "cell_type": "code",
   "execution_count": 11,
   "metadata": {},
   "outputs": [
    {
     "data": {
      "text/html": [
       "<div>\n",
       "<style scoped>\n",
       "    .dataframe tbody tr th:only-of-type {\n",
       "        vertical-align: middle;\n",
       "    }\n",
       "\n",
       "    .dataframe tbody tr th {\n",
       "        vertical-align: top;\n",
       "    }\n",
       "\n",
       "    .dataframe thead th {\n",
       "        text-align: right;\n",
       "    }\n",
       "</style>\n",
       "<table border=\"1\" class=\"dataframe\">\n",
       "  <thead>\n",
       "    <tr style=\"text-align: right;\">\n",
       "      <th></th>\n",
       "      <th>ANO</th>\n",
       "      <th>MES</th>\n",
       "      <th>DIA</th>\n",
       "      <th>HORA</th>\n",
       "      <th>ESTACION</th>\n",
       "      <th>SO2</th>\n",
       "      <th>CO</th>\n",
       "      <th>NO2</th>\n",
       "      <th>PM2.5</th>\n",
       "      <th>PM10</th>\n",
       "      <th>O3</th>\n",
       "      <th>BTX</th>\n",
       "      <th>TEMPERATURA</th>\n",
       "      <th>HUMEDAD</th>\n",
       "    </tr>\n",
       "  </thead>\n",
       "  <tbody>\n",
       "    <tr>\n",
       "      <th>count</th>\n",
       "      <td>38256.0</td>\n",
       "      <td>38256.0</td>\n",
       "      <td>38256.0</td>\n",
       "      <td>38256.0</td>\n",
       "      <td>38256.0</td>\n",
       "      <td>38256.0</td>\n",
       "      <td>38256.0</td>\n",
       "      <td>38256.0</td>\n",
       "      <td>38256.0</td>\n",
       "      <td>38256.0</td>\n",
       "      <td>38256.0</td>\n",
       "      <td>38256.0</td>\n",
       "      <td>38256.0</td>\n",
       "      <td>38256.0</td>\n",
       "    </tr>\n",
       "    <tr>\n",
       "      <th>mean</th>\n",
       "      <td>2020.7</td>\n",
       "      <td>6.2</td>\n",
       "      <td>15.8</td>\n",
       "      <td>11.5</td>\n",
       "      <td>8.0</td>\n",
       "      <td>5.1</td>\n",
       "      <td>0.3</td>\n",
       "      <td>38.3</td>\n",
       "      <td>9.7</td>\n",
       "      <td>18.9</td>\n",
       "      <td>48.7</td>\n",
       "      <td>3.2</td>\n",
       "      <td>16.3</td>\n",
       "      <td>55.0</td>\n",
       "    </tr>\n",
       "    <tr>\n",
       "      <th>std</th>\n",
       "      <td>1.3</td>\n",
       "      <td>3.5</td>\n",
       "      <td>8.8</td>\n",
       "      <td>6.9</td>\n",
       "      <td>0.0</td>\n",
       "      <td>3.2</td>\n",
       "      <td>0.2</td>\n",
       "      <td>24.9</td>\n",
       "      <td>8.0</td>\n",
       "      <td>15.5</td>\n",
       "      <td>28.7</td>\n",
       "      <td>3.8</td>\n",
       "      <td>8.2</td>\n",
       "      <td>21.8</td>\n",
       "    </tr>\n",
       "    <tr>\n",
       "      <th>min</th>\n",
       "      <td>2019.0</td>\n",
       "      <td>1.0</td>\n",
       "      <td>1.0</td>\n",
       "      <td>0.0</td>\n",
       "      <td>8.0</td>\n",
       "      <td>0.0</td>\n",
       "      <td>0.1</td>\n",
       "      <td>3.0</td>\n",
       "      <td>0.0</td>\n",
       "      <td>1.0</td>\n",
       "      <td>0.8</td>\n",
       "      <td>0.0</td>\n",
       "      <td>-30.2</td>\n",
       "      <td>0.0</td>\n",
       "    </tr>\n",
       "    <tr>\n",
       "      <th>25%</th>\n",
       "      <td>2020.0</td>\n",
       "      <td>3.0</td>\n",
       "      <td>8.0</td>\n",
       "      <td>5.8</td>\n",
       "      <td>8.0</td>\n",
       "      <td>2.0</td>\n",
       "      <td>0.2</td>\n",
       "      <td>20.0</td>\n",
       "      <td>4.0</td>\n",
       "      <td>9.0</td>\n",
       "      <td>26.9</td>\n",
       "      <td>1.2</td>\n",
       "      <td>10.0</td>\n",
       "      <td>37.0</td>\n",
       "    </tr>\n",
       "    <tr>\n",
       "      <th>50%</th>\n",
       "      <td>2021.0</td>\n",
       "      <td>6.0</td>\n",
       "      <td>16.0</td>\n",
       "      <td>11.5</td>\n",
       "      <td>8.0</td>\n",
       "      <td>4.0</td>\n",
       "      <td>0.3</td>\n",
       "      <td>33.0</td>\n",
       "      <td>8.0</td>\n",
       "      <td>16.0</td>\n",
       "      <td>48.7</td>\n",
       "      <td>2.2</td>\n",
       "      <td>15.2</td>\n",
       "      <td>54.0</td>\n",
       "    </tr>\n",
       "    <tr>\n",
       "      <th>75%</th>\n",
       "      <td>2022.0</td>\n",
       "      <td>9.0</td>\n",
       "      <td>23.0</td>\n",
       "      <td>17.2</td>\n",
       "      <td>8.0</td>\n",
       "      <td>8.0</td>\n",
       "      <td>0.3</td>\n",
       "      <td>51.0</td>\n",
       "      <td>13.0</td>\n",
       "      <td>24.0</td>\n",
       "      <td>67.0</td>\n",
       "      <td>3.9</td>\n",
       "      <td>22.0</td>\n",
       "      <td>72.0</td>\n",
       "    </tr>\n",
       "    <tr>\n",
       "      <th>max</th>\n",
       "      <td>2023.0</td>\n",
       "      <td>12.0</td>\n",
       "      <td>31.0</td>\n",
       "      <td>23.0</td>\n",
       "      <td>8.0</td>\n",
       "      <td>35.0</td>\n",
       "      <td>2.9</td>\n",
       "      <td>279.0</td>\n",
       "      <td>106.0</td>\n",
       "      <td>322.0</td>\n",
       "      <td>181.0</td>\n",
       "      <td>150.6</td>\n",
       "      <td>42.5</td>\n",
       "      <td>100.0</td>\n",
       "    </tr>\n",
       "  </tbody>\n",
       "</table>\n",
       "</div>"
      ],
      "text/plain": [
       "           ANO      MES      DIA     HORA  ESTACION      SO2       CO  \\\n",
       "count  38256.0  38256.0  38256.0  38256.0   38256.0  38256.0  38256.0   \n",
       "mean    2020.7      6.2     15.8     11.5       8.0      5.1      0.3   \n",
       "std        1.3      3.5      8.8      6.9       0.0      3.2      0.2   \n",
       "min     2019.0      1.0      1.0      0.0       8.0      0.0      0.1   \n",
       "25%     2020.0      3.0      8.0      5.8       8.0      2.0      0.2   \n",
       "50%     2021.0      6.0     16.0     11.5       8.0      4.0      0.3   \n",
       "75%     2022.0      9.0     23.0     17.2       8.0      8.0      0.3   \n",
       "max     2023.0     12.0     31.0     23.0       8.0     35.0      2.9   \n",
       "\n",
       "           NO2    PM2.5     PM10       O3      BTX  TEMPERATURA  HUMEDAD  \n",
       "count  38256.0  38256.0  38256.0  38256.0  38256.0      38256.0  38256.0  \n",
       "mean      38.3      9.7     18.9     48.7      3.2         16.3     55.0  \n",
       "std       24.9      8.0     15.5     28.7      3.8          8.2     21.8  \n",
       "min        3.0      0.0      1.0      0.8      0.0        -30.2      0.0  \n",
       "25%       20.0      4.0      9.0     26.9      1.2         10.0     37.0  \n",
       "50%       33.0      8.0     16.0     48.7      2.2         15.2     54.0  \n",
       "75%       51.0     13.0     24.0     67.0      3.9         22.0     72.0  \n",
       "max      279.0    106.0    322.0    181.0    150.6         42.5    100.0  "
      ]
     },
     "execution_count": 11,
     "metadata": {},
     "output_type": "execute_result"
    }
   ],
   "source": [
    "data.describe().round(1)"
   ]
  },
  {
   "attachments": {},
   "cell_type": "markdown",
   "metadata": {},
   "source": [
    "Verifica si todavia hay valores nulos para las columnas selecionadas"
   ]
  },
  {
   "cell_type": "code",
   "execution_count": 12,
   "metadata": {},
   "outputs": [
    {
     "data": {
      "text/plain": [
       "FECHA          0\n",
       "ANO            0\n",
       "MES            0\n",
       "DIA            0\n",
       "HORA           0\n",
       "DIA_SEMANA     0\n",
       "ESTACION       0\n",
       "SO2            0\n",
       "CO             0\n",
       "NO2            0\n",
       "PM2.5          0\n",
       "PM10           0\n",
       "O3             0\n",
       "BTX            0\n",
       "TEMPERATURA    0\n",
       "HUMEDAD        0\n",
       "dtype: int64"
      ]
     },
     "execution_count": 12,
     "metadata": {},
     "output_type": "execute_result"
    }
   ],
   "source": [
    "data.isnull().sum()"
   ]
  },
  {
   "attachments": {},
   "cell_type": "markdown",
   "metadata": {},
   "source": [
    "##### 1.4. Calcular el índice de calidad del aire (ICA) \n",
    "\n",
    "Función: calcular_ICA(df)"
   ]
  },
  {
   "cell_type": "code",
   "execution_count": 13,
   "metadata": {},
   "outputs": [
    {
     "data": {
      "text/html": [
       "<div>\n",
       "<style scoped>\n",
       "    .dataframe tbody tr th:only-of-type {\n",
       "        vertical-align: middle;\n",
       "    }\n",
       "\n",
       "    .dataframe tbody tr th {\n",
       "        vertical-align: top;\n",
       "    }\n",
       "\n",
       "    .dataframe thead th {\n",
       "        text-align: right;\n",
       "    }\n",
       "</style>\n",
       "<table border=\"1\" class=\"dataframe\">\n",
       "  <thead>\n",
       "    <tr style=\"text-align: right;\">\n",
       "      <th></th>\n",
       "      <th>FECHA</th>\n",
       "      <th>ANO</th>\n",
       "      <th>MES</th>\n",
       "      <th>DIA</th>\n",
       "      <th>HORA</th>\n",
       "      <th>DIA_SEMANA</th>\n",
       "      <th>ESTACION</th>\n",
       "      <th>SO2</th>\n",
       "      <th>CO</th>\n",
       "      <th>NO2</th>\n",
       "      <th>...</th>\n",
       "      <th>PM10</th>\n",
       "      <th>O3</th>\n",
       "      <th>BTX</th>\n",
       "      <th>TEMPERATURA</th>\n",
       "      <th>HUMEDAD</th>\n",
       "      <th>ICA_SO2</th>\n",
       "      <th>ICA_PM10</th>\n",
       "      <th>ICA_O3</th>\n",
       "      <th>ICA_NO2</th>\n",
       "      <th>ICA</th>\n",
       "    </tr>\n",
       "  </thead>\n",
       "  <tbody>\n",
       "    <tr>\n",
       "      <th>0</th>\n",
       "      <td>2019-01-01 00:00:00</td>\n",
       "      <td>2019.0</td>\n",
       "      <td>1.0</td>\n",
       "      <td>1.0</td>\n",
       "      <td>0</td>\n",
       "      <td>Martes</td>\n",
       "      <td>8.0</td>\n",
       "      <td>13.0</td>\n",
       "      <td>0.7</td>\n",
       "      <td>79.0</td>\n",
       "      <td>...</td>\n",
       "      <td>32.0</td>\n",
       "      <td>3.84</td>\n",
       "      <td>6.4</td>\n",
       "      <td>6.9</td>\n",
       "      <td>50.0</td>\n",
       "      <td>10.4</td>\n",
       "      <td>64.0</td>\n",
       "      <td>3.20</td>\n",
       "      <td>197.5</td>\n",
       "      <td>68.78</td>\n",
       "    </tr>\n",
       "    <tr>\n",
       "      <th>1</th>\n",
       "      <td>2019-01-01 01:00:00</td>\n",
       "      <td>2019.0</td>\n",
       "      <td>1.0</td>\n",
       "      <td>1.0</td>\n",
       "      <td>1</td>\n",
       "      <td>Martes</td>\n",
       "      <td>8.0</td>\n",
       "      <td>13.0</td>\n",
       "      <td>0.6</td>\n",
       "      <td>76.0</td>\n",
       "      <td>...</td>\n",
       "      <td>105.0</td>\n",
       "      <td>3.61</td>\n",
       "      <td>4.9</td>\n",
       "      <td>6.7</td>\n",
       "      <td>48.0</td>\n",
       "      <td>10.4</td>\n",
       "      <td>210.0</td>\n",
       "      <td>3.01</td>\n",
       "      <td>190.0</td>\n",
       "      <td>103.35</td>\n",
       "    </tr>\n",
       "  </tbody>\n",
       "</table>\n",
       "<p>2 rows × 21 columns</p>\n",
       "</div>"
      ],
      "text/plain": [
       "                 FECHA     ANO  MES  DIA  HORA DIA_SEMANA  ESTACION   SO2  \\\n",
       "0  2019-01-01 00:00:00  2019.0  1.0  1.0     0     Martes       8.0  13.0   \n",
       "1  2019-01-01 01:00:00  2019.0  1.0  1.0     1     Martes       8.0  13.0   \n",
       "\n",
       "    CO   NO2  ...   PM10    O3  BTX  TEMPERATURA  HUMEDAD  ICA_SO2  ICA_PM10  \\\n",
       "0  0.7  79.0  ...   32.0  3.84  6.4          6.9     50.0     10.4      64.0   \n",
       "1  0.6  76.0  ...  105.0  3.61  4.9          6.7     48.0     10.4     210.0   \n",
       "\n",
       "   ICA_O3  ICA_NO2     ICA  \n",
       "0    3.20    197.5   68.78  \n",
       "1    3.01    190.0  103.35  \n",
       "\n",
       "[2 rows x 21 columns]"
      ]
     },
     "execution_count": 13,
     "metadata": {},
     "output_type": "execute_result"
    }
   ],
   "source": [
    "data = util.calcular_ICA(data)\n",
    "data.head(2)"
   ]
  },
  {
   "cell_type": "code",
   "execution_count": 14,
   "metadata": {},
   "outputs": [
    {
     "data": {
      "text/plain": [
       "FECHA          0\n",
       "ANO            0\n",
       "MES            0\n",
       "DIA            0\n",
       "HORA           0\n",
       "DIA_SEMANA     0\n",
       "ESTACION       0\n",
       "SO2            0\n",
       "CO             0\n",
       "NO2            0\n",
       "PM2.5          0\n",
       "PM10           0\n",
       "O3             0\n",
       "BTX            0\n",
       "TEMPERATURA    0\n",
       "HUMEDAD        0\n",
       "ICA_SO2        0\n",
       "ICA_PM10       0\n",
       "ICA_O3         0\n",
       "ICA_NO2        0\n",
       "ICA            0\n",
       "dtype: int64"
      ]
     },
     "execution_count": 14,
     "metadata": {},
     "output_type": "execute_result"
    }
   ],
   "source": [
    "data.isnull().sum()"
   ]
  },
  {
   "attachments": {},
   "cell_type": "markdown",
   "metadata": {},
   "source": [
    "#####  1.5. Genera el CSV después del pocesamiento de los valores nulos"
   ]
  },
  {
   "cell_type": "code",
   "execution_count": null,
   "metadata": {},
   "outputs": [],
   "source": [
    "data.to_csv(ruta_nuevoCSV, index=False)"
   ]
  }
 ],
 "metadata": {
  "kernelspec": {
   "display_name": "Python 3",
   "language": "python",
   "name": "python3"
  },
  "language_info": {
   "codemirror_mode": {
    "name": "ipython",
    "version": 3
   },
   "file_extension": ".py",
   "mimetype": "text/x-python",
   "name": "python",
   "nbconvert_exporter": "python",
   "pygments_lexer": "ipython3",
   "version": "3.10.11"
  },
  "orig_nbformat": 4
 },
 "nbformat": 4,
 "nbformat_minor": 2
}
