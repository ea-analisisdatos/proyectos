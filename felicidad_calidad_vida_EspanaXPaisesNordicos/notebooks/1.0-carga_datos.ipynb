{
 "cells": [
  {
   "attachments": {},
   "cell_type": "markdown",
   "metadata": {},
   "source": [
    "# <font color=900C3F>CARGA DE LOS DATOS PARA EL PROYECTO</font>"
   ]
  },
  {
   "attachments": {},
   "cell_type": "markdown",
   "metadata": {},
   "source": [
    "---\n",
    "\n",
    "## <font color=#FF5733>REQUISITOS:</font>\n",
    "\n",
    "> El proceso de carga de datos trabaja con datos historicos obtenidos en la fase de colecta de informaciones para el proyecto.\n",
    "> \n",
    "> Los datos tratados en el proceso de carga perteniecen al período de 2015-2023 y estan en formato CSV.\n",
    "> \n",
    "> Esta fase tiene como objetivo importar, almacenar, procesar y organizar todos los datos obtenidos.\n",
    "> \n",
    "> Después de tratar y procesar todos los datos, este proceso debe generar un fichero en formato CSV, para ser usado en la proxima fase del proyecto.\n",
    "> \n",
    "\n",
    "---"
   ]
  },
  {
   "attachments": {},
   "cell_type": "markdown",
   "metadata": {},
   "source": [
    "## <font color=#FF5733>SITUACIÓN ACTUAL:</font>\n",
    "\n",
    "> Al analisar cada fichero CSV para empezar con el proceso de carga, hemos detectado varios problemas referente a la estructura de columnas de los ficheros:\n",
    "> - Cada linea en los CSVs representa un país, se nota que hay diferentes cantidades de países en los CSVs leídos.\n",
    "> - Nombres de columnas compuestos por dos textos y con espacios entre ellos.\n",
    "> - Nombres de columnas compuestos por dos textos y con un punto (.) entre ellos.\n",
    "> - Nombres de columnas compuestos por dos textos y con dos puntos (..) entre ellos.\n",
    "> - Mismas informaciones con nombres de columnas distinctas.\n",
    "> - Cantidad de columnas diferentes entre los ficheros CSVs.\n",
    "> - Hay CSV en que almacena en la misma columna \"país\" y \"región\".\n",
    "> - Hay CSV que no tiene la columna \"región\".\n",
    "> - Las columnas y los registros estan en idioma inglés.\n",
    "> - Separadores de columnas que almacena valores que debian estar con punto (\".\") pero estan con coma (\",\"). \n",
    "> - No hay columna año dentro de los ficheros. El año encuentra-se en la composición del nombre del fichero CSV, ejemplo(2015.csv, 2016.csv y así sucesivamente).\n",
    "> \n",
    "> 1. Hemos detectado que hay CSV que no tiene la columna \"Family\" y en su lugar, esta la de \"Social Support\" que tiene un objetivo muy parecido. En este caso decidimos fusionar la columna \"Family\" con la de \"Social Support\" en el DataFrame unico.\n",
    "> - La columna \"Social support\" (apoyo social) en los datos de felicidad se refiere a la medida en que las personas perciben tener apoyo social disponible en su vida. Esta medida incluye el apoyo de amigos, vecinos, familiares y otras personas cercanas. Representa la percepción de las personas sobre el apoyo emocional y material que reciben de su entorno social. La columna \"Social support\" incluye un alcance más amplio que abarca tanto el apoyo familiar como el apoyo de otros individuos fuera del ámbito familiar. \n",
    "> - Por otro lado, la columna \"family\" (familia) se refiere específicamente al apoyo y la relación con la familia. Esta medida se centra en la percepción de apoyo emocional y material proveniente de los miembros de la familia, como cónyuges, hijos, padres y hermYears.\n",
    ">\n",
    "> 2. También hemos detectado que los ficheros CSV de 2017 y 2020 poséen valores invalidos en las columnas.\n",
    "> \n",
    "> Solución para tratamiento de los datos en la carga de los CSVs:\n",
    "> - Cargar individualmente cada CSV y de paso, agregar la columna de año que faltaba.\n",
    "> - Trabajar con países que estén en todos los CSVs en el período de años seleccionados para el proyecto.\n",
    "> - Para solucionar el problema de los ficheros CSV de 2017 y 2020 hemos atribuído valores nulos para las columnas para que sean tratadas mas adelante, en el proceso de \"limpieza de datos\", que esta en otro cuaderno, donde vamos rellenar los valores nulos con la mediana.\n",
    "\n",
    "---"
   ]
  },
  {
   "attachments": {},
   "cell_type": "markdown",
   "metadata": {},
   "source": [
    "## <font color=#FF5733>Importar Librerías</font>"
   ]
  },
  {
   "cell_type": "code",
   "execution_count": 624,
   "metadata": {},
   "outputs": [],
   "source": [
    "import pandas as pd\n",
    "import numpy as np\n",
    "import matplotlib.pyplot as plt\n",
    "import seaborn as sns\n",
    "\n",
    "import os"
   ]
  },
  {
   "attachments": {},
   "cell_type": "markdown",
   "metadata": {},
   "source": [
    "### <font color=#186a3b>--> Configurar la presentación de los datos en los DataFrames </font>"
   ]
  },
  {
   "cell_type": "code",
   "execution_count": 625,
   "metadata": {},
   "outputs": [],
   "source": [
    "# Configurar opciones para mostrar todas las filas y columnas sin trucarmiento\n",
    "pd.set_option('display.max_rows', None)\n",
    "pd.set_option('display.max_columns', None)\n",
    "pd.set_option('display.width', None)\n",
    "pd.set_option('display.max_colwidth', None)"
   ]
  },
  {
   "attachments": {},
   "cell_type": "markdown",
   "metadata": {},
   "source": [
    "## <font color=#FF5733>Importar CSVs</font>"
   ]
  },
  {
   "attachments": {},
   "cell_type": "markdown",
   "metadata": {},
   "source": [
    "### <font color=#186a3b>--> Definir las rutas de los ficheros leídos y generados en el proceso de carga de datos </font>"
   ]
  },
  {
   "cell_type": "code",
   "execution_count": 626,
   "metadata": {},
   "outputs": [],
   "source": [
    "# Definir la ruta donde se encuentra la carpeta y los CSVs que iremos trabajar\n",
    "ruta_informes = '../data/informes/estadisticas_carga_ficheros.csv'\n",
    "ruta_nuevoCSV = '../data/ficheros_procesados/datos_preprocesados.csv'\n",
    "\n",
    "ruta_carpeta = '../data/'\n",
    "\n",
    "ruta_2015 = '../data/2015.csv'\n",
    "ruta_2016 = '../data/2016.csv'\n",
    "ruta_2017 = '../data/2017.csv'\n",
    "ruta_2018 = '../data/2018.csv'\n",
    "ruta_2019 = '../data/2019.csv'\n",
    "ruta_2020 = '../data/2020.csv'\n",
    "ruta_2021 = '../data/2021.csv'\n",
    "ruta_2022 = '../data/2022.csv'\n",
    "ruta_2023 = '../data/2023.csv'"
   ]
  },
  {
   "attachments": {},
   "cell_type": "markdown",
   "metadata": {},
   "source": [
    "### <font color=#186a3b>--> Analisar la estructura de ficheros CSVs de 2015-2023</font>"
   ]
  },
  {
   "cell_type": "code",
   "execution_count": 627,
   "metadata": {},
   "outputs": [
    {
     "data": {
      "text/html": [
       "<div>\n",
       "<style scoped>\n",
       "    .dataframe tbody tr th:only-of-type {\n",
       "        vertical-align: middle;\n",
       "    }\n",
       "\n",
       "    .dataframe tbody tr th {\n",
       "        vertical-align: top;\n",
       "    }\n",
       "\n",
       "    .dataframe thead th {\n",
       "        text-align: right;\n",
       "    }\n",
       "</style>\n",
       "<table border=\"1\" class=\"dataframe\">\n",
       "  <thead>\n",
       "    <tr style=\"text-align: right;\">\n",
       "      <th></th>\n",
       "      <th>nombre_csv</th>\n",
       "      <th>columnas</th>\n",
       "      <th>cantidad_columnas</th>\n",
       "      <th>cantidad_registros</th>\n",
       "    </tr>\n",
       "  </thead>\n",
       "  <tbody>\n",
       "    <tr>\n",
       "      <th>0</th>\n",
       "      <td>2015.csv</td>\n",
       "      <td>Country, Region, Happiness Rank, Happiness Score, Standard Error, Economy (GDP per Capita), Family, Health (Life Expectancy), Freedom, Trust (Government Corruption), Generosity, Dystopia Residual</td>\n",
       "      <td>12</td>\n",
       "      <td>158</td>\n",
       "    </tr>\n",
       "    <tr>\n",
       "      <th>1</th>\n",
       "      <td>2016.csv</td>\n",
       "      <td>Country, Region, Happiness Rank, Happiness Score, Lower Confidence Interval, Upper Confidence Interval, Economy (GDP per Capita), Family, Health (Life Expectancy), Freedom, Trust (Government Corruption), Generosity, Dystopia Residual</td>\n",
       "      <td>13</td>\n",
       "      <td>157</td>\n",
       "    </tr>\n",
       "    <tr>\n",
       "      <th>2</th>\n",
       "      <td>2017.csv</td>\n",
       "      <td>Country, Happiness.Rank, Happiness.Score, Whisker.high, Whisker.low, Economy..GDP.per.Capita., Family, Health..Life.Expectancy., Freedom, Generosity, Trust..Government.Corruption., Dystopia.Residual</td>\n",
       "      <td>12</td>\n",
       "      <td>155</td>\n",
       "    </tr>\n",
       "    <tr>\n",
       "      <th>3</th>\n",
       "      <td>2018.csv</td>\n",
       "      <td>Overall rank, Country or region, Score, GDP per capita, Social support, Healthy life expectancy, Freedom to make life choices, Generosity, Perceptions of corruption</td>\n",
       "      <td>9</td>\n",
       "      <td>156</td>\n",
       "    </tr>\n",
       "    <tr>\n",
       "      <th>4</th>\n",
       "      <td>2019.csv</td>\n",
       "      <td>Overall rank, Country or region, Score, GDP per capita, Social support, Healthy life expectancy, Freedom to make life choices, Generosity, Perceptions of corruption</td>\n",
       "      <td>9</td>\n",
       "      <td>156</td>\n",
       "    </tr>\n",
       "    <tr>\n",
       "      <th>5</th>\n",
       "      <td>2020.csv</td>\n",
       "      <td>Country name, Regional indicator, Ladder score, Standard error of ladder score, upperwhisker, lowerwhisker, Logged GDP per capita, Social support, Healthy life expectancy, Freedom to make life choices, Generosity, Perceptions of corruption, Ladder score in Dystopia, Explained by: Log GDP per capita, Explained by: Social support, Explained by: Healthy life expectancy, Explained by: Freedom to make life choices, Explained by: Generosity, Explained by: Perceptions of corruption, Dystopia + residual</td>\n",
       "      <td>20</td>\n",
       "      <td>153</td>\n",
       "    </tr>\n",
       "    <tr>\n",
       "      <th>6</th>\n",
       "      <td>2021.csv</td>\n",
       "      <td>Country name, Regional indicator, Ladder score, Standard error of ladder score, upperwhisker, lowerwhisker, Logged GDP per capita, Social support, Healthy life expectancy, Freedom to make life choices, Generosity, Perceptions of corruption, Ladder score in Dystopia, Explained by: Log GDP per capita, Explained by: Social support, Explained by: Healthy life expectancy, Explained by: Freedom to make life choices, Explained by: Generosity, Explained by: Perceptions of corruption, Dystopia + residual</td>\n",
       "      <td>20</td>\n",
       "      <td>149</td>\n",
       "    </tr>\n",
       "    <tr>\n",
       "      <th>7</th>\n",
       "      <td>2022.csv</td>\n",
       "      <td>RANK, Country, Happiness score, Whisker-high, Whisker-low, Dystopia (1.83) + residual, Explained by: GDP per capita, Explained by: Social support, Explained by: Healthy life expectancy, Explained by: Freedom to make life choices, Explained by: Generosity, Explained by: Perceptions of corruption</td>\n",
       "      <td>12</td>\n",
       "      <td>147</td>\n",
       "    </tr>\n",
       "    <tr>\n",
       "      <th>8</th>\n",
       "      <td>2023.csv</td>\n",
       "      <td>Country name, iso alpha, Regional indicator, Happiness score, Standard error of ladder score, upperwhisker, lowerwhisker, Logged GDP per capita, Social support, Healthy life expectancy, Freedom to make life choices, Generosity, Perceptions of corruption, Ladder score in Dystopia, Explained by: Log GDP per capita, Explained by: Social support, Explained by: Healthy life expectancy, Explained by: Freedom to make life choices, Explained by: Generosity, Explained by: Perceptions of corruption, Dystopia + residual</td>\n",
       "      <td>21</td>\n",
       "      <td>137</td>\n",
       "    </tr>\n",
       "  </tbody>\n",
       "</table>\n",
       "</div>"
      ],
      "text/plain": [
       "  nombre_csv  \\\n",
       "0   2015.csv   \n",
       "1   2016.csv   \n",
       "2   2017.csv   \n",
       "3   2018.csv   \n",
       "4   2019.csv   \n",
       "5   2020.csv   \n",
       "6   2021.csv   \n",
       "7   2022.csv   \n",
       "8   2023.csv   \n",
       "\n",
       "                                                                                                                                                                                                                                                                                                                                                                                                                                                                                                                             columnas  \\\n",
       "0                                                                                                                                                                                                                                                                                                                                 Country, Region, Happiness Rank, Happiness Score, Standard Error, Economy (GDP per Capita), Family, Health (Life Expectancy), Freedom, Trust (Government Corruption), Generosity, Dystopia Residual   \n",
       "1                                                                                                                                                                                                                                                                                           Country, Region, Happiness Rank, Happiness Score, Lower Confidence Interval, Upper Confidence Interval, Economy (GDP per Capita), Family, Health (Life Expectancy), Freedom, Trust (Government Corruption), Generosity, Dystopia Residual   \n",
       "2                                                                                                                                                                                                                                                                                                                              Country, Happiness.Rank, Happiness.Score, Whisker.high, Whisker.low, Economy..GDP.per.Capita., Family, Health..Life.Expectancy., Freedom, Generosity, Trust..Government.Corruption., Dystopia.Residual   \n",
       "3                                                                                                                                                                                                                                                                                                                                                                Overall rank, Country or region, Score, GDP per capita, Social support, Healthy life expectancy, Freedom to make life choices, Generosity, Perceptions of corruption   \n",
       "4                                                                                                                                                                                                                                                                                                                                                                Overall rank, Country or region, Score, GDP per capita, Social support, Healthy life expectancy, Freedom to make life choices, Generosity, Perceptions of corruption   \n",
       "5                Country name, Regional indicator, Ladder score, Standard error of ladder score, upperwhisker, lowerwhisker, Logged GDP per capita, Social support, Healthy life expectancy, Freedom to make life choices, Generosity, Perceptions of corruption, Ladder score in Dystopia, Explained by: Log GDP per capita, Explained by: Social support, Explained by: Healthy life expectancy, Explained by: Freedom to make life choices, Explained by: Generosity, Explained by: Perceptions of corruption, Dystopia + residual   \n",
       "6                Country name, Regional indicator, Ladder score, Standard error of ladder score, upperwhisker, lowerwhisker, Logged GDP per capita, Social support, Healthy life expectancy, Freedom to make life choices, Generosity, Perceptions of corruption, Ladder score in Dystopia, Explained by: Log GDP per capita, Explained by: Social support, Explained by: Healthy life expectancy, Explained by: Freedom to make life choices, Explained by: Generosity, Explained by: Perceptions of corruption, Dystopia + residual   \n",
       "7                                                                                                                                                                                                                             RANK, Country, Happiness score, Whisker-high, Whisker-low, Dystopia (1.83) + residual, Explained by: GDP per capita, Explained by: Social support, Explained by: Healthy life expectancy, Explained by: Freedom to make life choices, Explained by: Generosity, Explained by: Perceptions of corruption   \n",
       "8  Country name, iso alpha, Regional indicator, Happiness score, Standard error of ladder score, upperwhisker, lowerwhisker, Logged GDP per capita, Social support, Healthy life expectancy, Freedom to make life choices, Generosity, Perceptions of corruption, Ladder score in Dystopia, Explained by: Log GDP per capita, Explained by: Social support, Explained by: Healthy life expectancy, Explained by: Freedom to make life choices, Explained by: Generosity, Explained by: Perceptions of corruption, Dystopia + residual   \n",
       "\n",
       "   cantidad_columnas  cantidad_registros  \n",
       "0                 12                 158  \n",
       "1                 13                 157  \n",
       "2                 12                 155  \n",
       "3                  9                 156  \n",
       "4                  9                 156  \n",
       "5                 20                 153  \n",
       "6                 20                 149  \n",
       "7                 12                 147  \n",
       "8                 21                 137  "
      ]
     },
     "execution_count": 627,
     "metadata": {},
     "output_type": "execute_result"
    }
   ],
   "source": [
    "# Generamos una tabla y almacenamos todos los CSVs leídos con objetivo de verificar la estructura de columnas y registros\n",
    "df_csv_originales = pd.DataFrame(columns=['nombre_csv', 'columnas', 'cantidad_columnas', 'cantidad_registros'])\n",
    "\n",
    "# Convertir los tipos de columnas\n",
    "df_csv_originales = pd.DataFrame(df_csv_originales)\n",
    "df_csv_originales[\"cantidad_columnas\"] = df_csv_originales[\"cantidad_columnas\"].astype(\"int64\")\n",
    "df_csv_originales[\"cantidad_registros\"] = df_csv_originales[\"cantidad_registros\"].astype(\"int64\") \n",
    "df_csv_originales[\"nombre_csv\"] = df_csv_originales[\"nombre_csv\"].astype(\"object\")\n",
    "df_csv_originales[\"columnas\"] = df_csv_originales[\"columnas\"].astype(\"object\")\n",
    "\n",
    "\n",
    "for archivo in os.listdir(ruta_carpeta):\n",
    "    if archivo.endswith('.csv'):\n",
    "        # Obtiene el nombre del archivo sin la extensión\n",
    "        # nombre_csv = os.path.splitext(archivo)[0]\n",
    "        \n",
    "        # Obtiene el nombre con la extensión\n",
    "        nombre_csv = archivo\n",
    "        \n",
    "        # Lee el archivo CSV y obtiene la información requerida\n",
    "        ruta_archivo = os.path.join(ruta_carpeta, archivo)\n",
    "        df_csv = pd.read_csv(ruta_archivo)\n",
    "        \n",
    "        # Obtiene los nombres de las columnas separadas por coma\n",
    "        columnas = ', '.join(df_csv.columns)\n",
    "\n",
    "        # Obtiene la cantidad de columnas\n",
    "        cantidad_columnas = len(df_csv.columns)\n",
    "            \n",
    "        # Obtiene las cantidad de registros\n",
    "        cantidad_registros = len(df_csv)\n",
    "        \n",
    "        # Crea un nuevo registro en el dataframe df_csv_originales\n",
    "        nuevo_registro = {'nombre_csv': nombre_csv, 'columnas': columnas, 'cantidad_columnas': cantidad_columnas, 'cantidad_registros': cantidad_registros}\n",
    "        df_csv_originales.loc[len(df_csv_originales)] = nuevo_registro\n",
    "\n",
    "df_alineamiento_izquierda = df_csv_originales[['columnas']].style.set_properties(**{'text-align': 'left'})\n",
    "\n",
    "df_csv_originales.head(9)\n"
   ]
  },
  {
   "cell_type": "code",
   "execution_count": 628,
   "metadata": {},
   "outputs": [],
   "source": [
    "# Genera CSV con la estadística de los ficheros usados en el proyecto\n",
    "df_csv_originales.to_csv(ruta_informes, index=False)"
   ]
  },
  {
   "cell_type": "code",
   "execution_count": 629,
   "metadata": {},
   "outputs": [],
   "source": [
    "# Función para formatear los números\n",
    "def format_number(number):\n",
    "    formatted_number = f\"{number:.6f}\"  # Convierte el número a string con 6 decimales\n",
    "    return formatted_number"
   ]
  },
  {
   "attachments": {},
   "cell_type": "markdown",
   "metadata": {},
   "source": [
    "#### Importar 2015"
   ]
  },
  {
   "cell_type": "code",
   "execution_count": 630,
   "metadata": {},
   "outputs": [
    {
     "data": {
      "text/html": [
       "<div>\n",
       "<style scoped>\n",
       "    .dataframe tbody tr th:only-of-type {\n",
       "        vertical-align: middle;\n",
       "    }\n",
       "\n",
       "    .dataframe tbody tr th {\n",
       "        vertical-align: top;\n",
       "    }\n",
       "\n",
       "    .dataframe thead th {\n",
       "        text-align: right;\n",
       "    }\n",
       "</style>\n",
       "<table border=\"1\" class=\"dataframe\">\n",
       "  <thead>\n",
       "    <tr style=\"text-align: right;\">\n",
       "      <th></th>\n",
       "      <th>Country</th>\n",
       "      <th>Region</th>\n",
       "      <th>Happiness Score</th>\n",
       "      <th>Economy (GDP per Capita)</th>\n",
       "      <th>Social support</th>\n",
       "      <th>Health (Life Expectancy)</th>\n",
       "      <th>Freedom</th>\n",
       "      <th>Trust (Government Corruption)</th>\n",
       "      <th>Generosity</th>\n",
       "      <th>Year</th>\n",
       "    </tr>\n",
       "  </thead>\n",
       "  <tbody>\n",
       "    <tr>\n",
       "      <th>0</th>\n",
       "      <td>Switzerland</td>\n",
       "      <td>Western Europe</td>\n",
       "      <td>7.587</td>\n",
       "      <td>1.39651</td>\n",
       "      <td>1.34951</td>\n",
       "      <td>0.94143</td>\n",
       "      <td>0.66557</td>\n",
       "      <td>0.41978</td>\n",
       "      <td>0.29678</td>\n",
       "      <td>2015</td>\n",
       "    </tr>\n",
       "    <tr>\n",
       "      <th>1</th>\n",
       "      <td>Iceland</td>\n",
       "      <td>Western Europe</td>\n",
       "      <td>7.561</td>\n",
       "      <td>1.30232</td>\n",
       "      <td>1.40223</td>\n",
       "      <td>0.94784</td>\n",
       "      <td>0.62877</td>\n",
       "      <td>0.14145</td>\n",
       "      <td>0.43630</td>\n",
       "      <td>2015</td>\n",
       "    </tr>\n",
       "  </tbody>\n",
       "</table>\n",
       "</div>"
      ],
      "text/plain": [
       "       Country          Region  Happiness Score  Economy (GDP per Capita)  \\\n",
       "0  Switzerland  Western Europe            7.587                   1.39651   \n",
       "1      Iceland  Western Europe            7.561                   1.30232   \n",
       "\n",
       "   Social support  Health (Life Expectancy)  Freedom  \\\n",
       "0         1.34951                   0.94143  0.66557   \n",
       "1         1.40223                   0.94784  0.62877   \n",
       "\n",
       "   Trust (Government Corruption)  Generosity  Year  \n",
       "0                        0.41978     0.29678  2015  \n",
       "1                        0.14145     0.43630  2015  "
      ]
     },
     "execution_count": 630,
     "metadata": {},
     "output_type": "execute_result"
    }
   ],
   "source": [
    "# Especifica los nombres de las columnas que deseas importar\n",
    "columnas_deseadas = ['Happiness Score', 'Country', 'Region', 'Economy (GDP per Capita)', 'Family','Health (Life Expectancy)', \\\n",
    "                    'Freedom', 'Trust (Government Corruption)', 'Generosity']\n",
    "\n",
    "# Lee el archivo CSV incluyendo solamente las columnas especificadas\n",
    "df_2015 = pd.read_csv(ruta_2015, usecols=columnas_deseadas)\n",
    "\n",
    "# Crea columna año y atribuye el valor correspondente al año que vemos compuesto en el propio nombre del\n",
    "# fichero csv importado\n",
    "df_2015[\"Year\"] = '2015'\n",
    "\n",
    "# Renombra las columas para que esten iguales en todos los Dataframes\n",
    "df_2015.rename(columns={'Family': 'Social support'}, inplace=True)\n",
    "\n",
    "df_2015.head(2)"
   ]
  },
  {
   "cell_type": "code",
   "execution_count": 631,
   "metadata": {},
   "outputs": [
    {
     "data": {
      "text/plain": [
       "(158, 10)"
      ]
     },
     "execution_count": 631,
     "metadata": {},
     "output_type": "execute_result"
    }
   ],
   "source": [
    "# Cantidad de registros y columnas cargados en el DataFrame\n",
    "df_2015.shape"
   ]
  },
  {
   "attachments": {},
   "cell_type": "markdown",
   "metadata": {},
   "source": [
    "#### Importar 2016"
   ]
  },
  {
   "cell_type": "code",
   "execution_count": 632,
   "metadata": {},
   "outputs": [
    {
     "data": {
      "text/html": [
       "<div>\n",
       "<style scoped>\n",
       "    .dataframe tbody tr th:only-of-type {\n",
       "        vertical-align: middle;\n",
       "    }\n",
       "\n",
       "    .dataframe tbody tr th {\n",
       "        vertical-align: top;\n",
       "    }\n",
       "\n",
       "    .dataframe thead th {\n",
       "        text-align: right;\n",
       "    }\n",
       "</style>\n",
       "<table border=\"1\" class=\"dataframe\">\n",
       "  <thead>\n",
       "    <tr style=\"text-align: right;\">\n",
       "      <th></th>\n",
       "      <th>Country</th>\n",
       "      <th>Region</th>\n",
       "      <th>Happiness Score</th>\n",
       "      <th>Economy (GDP per Capita)</th>\n",
       "      <th>Social support</th>\n",
       "      <th>Health (Life Expectancy)</th>\n",
       "      <th>Freedom</th>\n",
       "      <th>Trust (Government Corruption)</th>\n",
       "      <th>Generosity</th>\n",
       "      <th>Year</th>\n",
       "    </tr>\n",
       "  </thead>\n",
       "  <tbody>\n",
       "    <tr>\n",
       "      <th>0</th>\n",
       "      <td>Denmark</td>\n",
       "      <td>Western Europe</td>\n",
       "      <td>7.526</td>\n",
       "      <td>1.44178</td>\n",
       "      <td>1.16374</td>\n",
       "      <td>0.79504</td>\n",
       "      <td>0.57941</td>\n",
       "      <td>0.44453</td>\n",
       "      <td>0.36171</td>\n",
       "      <td>2016</td>\n",
       "    </tr>\n",
       "    <tr>\n",
       "      <th>1</th>\n",
       "      <td>Switzerland</td>\n",
       "      <td>Western Europe</td>\n",
       "      <td>7.509</td>\n",
       "      <td>1.52733</td>\n",
       "      <td>1.14524</td>\n",
       "      <td>0.86303</td>\n",
       "      <td>0.58557</td>\n",
       "      <td>0.41203</td>\n",
       "      <td>0.28083</td>\n",
       "      <td>2016</td>\n",
       "    </tr>\n",
       "  </tbody>\n",
       "</table>\n",
       "</div>"
      ],
      "text/plain": [
       "       Country          Region  Happiness Score  Economy (GDP per Capita)  \\\n",
       "0      Denmark  Western Europe            7.526                   1.44178   \n",
       "1  Switzerland  Western Europe            7.509                   1.52733   \n",
       "\n",
       "   Social support  Health (Life Expectancy)  Freedom  \\\n",
       "0         1.16374                   0.79504  0.57941   \n",
       "1         1.14524                   0.86303  0.58557   \n",
       "\n",
       "   Trust (Government Corruption)  Generosity  Year  \n",
       "0                        0.44453     0.36171  2016  \n",
       "1                        0.41203     0.28083  2016  "
      ]
     },
     "execution_count": 632,
     "metadata": {},
     "output_type": "execute_result"
    }
   ],
   "source": [
    "# Especifica los nombres de las columnas que deseas importar\n",
    "columnas_deseadas = ['Happiness Score', 'Country', 'Region', 'Economy (GDP per Capita)', 'Family','Health (Life Expectancy)', \\\n",
    "                    'Freedom', 'Trust (Government Corruption)', 'Generosity']\n",
    "\n",
    "# Lee el archivo CSV incluyendo solamente las columnas especificadas\n",
    "df_2016 = pd.read_csv(ruta_2016, usecols=columnas_deseadas)\n",
    "\n",
    "# Crea columna año y atribuye el valor correspondente al año que vemos compuesto en el propio nombre del\n",
    "# fichero csv importado\n",
    "df_2016[\"Year\"] = '2016'\n",
    "\n",
    "# Renombra las columas para que esten iguales en todos los Dataframes\n",
    "df_2016.rename(columns={'Family': 'Social support'}, inplace=True)\n",
    "\n",
    "df_2016.head(2)"
   ]
  },
  {
   "cell_type": "code",
   "execution_count": 633,
   "metadata": {},
   "outputs": [
    {
     "data": {
      "text/plain": [
       "(157, 10)"
      ]
     },
     "execution_count": 633,
     "metadata": {},
     "output_type": "execute_result"
    }
   ],
   "source": [
    "# Cantidad de registros y columnas cargados en el DataFrame\n",
    "df_2016.shape"
   ]
  },
  {
   "attachments": {},
   "cell_type": "markdown",
   "metadata": {},
   "source": [
    "#### Importar 2017"
   ]
  },
  {
   "cell_type": "code",
   "execution_count": 634,
   "metadata": {},
   "outputs": [
    {
     "data": {
      "text/html": [
       "<div>\n",
       "<style scoped>\n",
       "    .dataframe tbody tr th:only-of-type {\n",
       "        vertical-align: middle;\n",
       "    }\n",
       "\n",
       "    .dataframe tbody tr th {\n",
       "        vertical-align: top;\n",
       "    }\n",
       "\n",
       "    .dataframe thead th {\n",
       "        text-align: right;\n",
       "    }\n",
       "</style>\n",
       "<table border=\"1\" class=\"dataframe\">\n",
       "  <thead>\n",
       "    <tr style=\"text-align: right;\">\n",
       "      <th></th>\n",
       "      <th>Country</th>\n",
       "      <th>Happiness Score</th>\n",
       "      <th>Economy (GDP per Capita)</th>\n",
       "      <th>Social support</th>\n",
       "      <th>Health (Life Expectancy)</th>\n",
       "      <th>Freedom</th>\n",
       "      <th>Generosity</th>\n",
       "      <th>Trust (Government Corruption)</th>\n",
       "      <th>Year</th>\n",
       "      <th>Region</th>\n",
       "    </tr>\n",
       "  </thead>\n",
       "  <tbody>\n",
       "    <tr>\n",
       "      <th>0</th>\n",
       "      <td>Norway</td>\n",
       "      <td>7.537</td>\n",
       "      <td>1.616463</td>\n",
       "      <td>1.533524</td>\n",
       "      <td>0.796667</td>\n",
       "      <td>0.635423</td>\n",
       "      <td>0.362012</td>\n",
       "      <td>0.315964</td>\n",
       "      <td>2017</td>\n",
       "      <td>Western Europe</td>\n",
       "    </tr>\n",
       "    <tr>\n",
       "      <th>1</th>\n",
       "      <td>Denmark</td>\n",
       "      <td>7.522</td>\n",
       "      <td>1.482383</td>\n",
       "      <td>1.551122</td>\n",
       "      <td>0.792566</td>\n",
       "      <td>0.626007</td>\n",
       "      <td>0.355280</td>\n",
       "      <td>0.400770</td>\n",
       "      <td>2017</td>\n",
       "      <td>Western Europe</td>\n",
       "    </tr>\n",
       "  </tbody>\n",
       "</table>\n",
       "</div>"
      ],
      "text/plain": [
       "   Country  Happiness Score  Economy (GDP per Capita)  Social support  \\\n",
       "0   Norway            7.537                  1.616463        1.533524   \n",
       "1  Denmark            7.522                  1.482383        1.551122   \n",
       "\n",
       "   Health (Life Expectancy)   Freedom  Generosity  \\\n",
       "0                  0.796667  0.635423    0.362012   \n",
       "1                  0.792566  0.626007    0.355280   \n",
       "\n",
       "   Trust (Government Corruption)  Year          Region  \n",
       "0                       0.315964  2017  Western Europe  \n",
       "1                       0.400770  2017  Western Europe  "
      ]
     },
     "execution_count": 634,
     "metadata": {},
     "output_type": "execute_result"
    }
   ],
   "source": [
    "# Especifica los nombres de las columnas que deseas importar\n",
    "columnas_deseadas = ['Happiness.Score', 'Country', 'Economy..GDP.per.Capita.', 'Family','Health..Life.Expectancy.', \\\n",
    "                    'Freedom', 'Trust..Government.Corruption.', 'Generosity']\n",
    "\n",
    "# Lee el archivo CSV incluyendo solamente las columnas especificadas\n",
    "df_2017 = pd.read_csv(ruta_2017, usecols=columnas_deseadas)\n",
    "\n",
    "# Crea columna año y atribuye el valor correspondente al año que vemos compuesto en el propio nombre del\n",
    "# fichero csv importado.\n",
    "df_2017[\"Year\"] = '2017'\n",
    "df_2017[\"Region\"] = 'Western Europe'\n",
    "\n",
    "# Renombra las columas para que esten iguales en todos los Dataframes\n",
    "df_2017.rename(columns={'Happiness.Score': 'Happiness Score', \\\n",
    "                        'Country': 'Country', \\\n",
    "                        'Economy..GDP.per.Capita.': 'Economy (GDP per Capita)', \\\n",
    "                        'Family': 'Social support', \\\n",
    "                        'Health..Life.Expectancy.': 'Health (Life Expectancy)', \\\n",
    "                        'Freedom': 'Freedom', \\\n",
    "                        'Trust..Government.Corruption.': 'Trust (Government Corruption)', \\\n",
    "                        'Generosity': 'Generosity'\n",
    "                        }, inplace=True)\n",
    "df_2017.head(2)"
   ]
  },
  {
   "cell_type": "code",
   "execution_count": 635,
   "metadata": {},
   "outputs": [
    {
     "data": {
      "text/plain": [
       "(155, 10)"
      ]
     },
     "execution_count": 635,
     "metadata": {},
     "output_type": "execute_result"
    }
   ],
   "source": [
    "# Cantidad de registros y columnas cargados en el DataFrame\n",
    "df_2017.shape"
   ]
  },
  {
   "attachments": {},
   "cell_type": "markdown",
   "metadata": {},
   "source": [
    "#### Importar 2018"
   ]
  },
  {
   "cell_type": "code",
   "execution_count": 636,
   "metadata": {},
   "outputs": [
    {
     "data": {
      "text/html": [
       "<div>\n",
       "<style scoped>\n",
       "    .dataframe tbody tr th:only-of-type {\n",
       "        vertical-align: middle;\n",
       "    }\n",
       "\n",
       "    .dataframe tbody tr th {\n",
       "        vertical-align: top;\n",
       "    }\n",
       "\n",
       "    .dataframe thead th {\n",
       "        text-align: right;\n",
       "    }\n",
       "</style>\n",
       "<table border=\"1\" class=\"dataframe\">\n",
       "  <thead>\n",
       "    <tr style=\"text-align: right;\">\n",
       "      <th></th>\n",
       "      <th>Country</th>\n",
       "      <th>Happiness Score</th>\n",
       "      <th>Economy (GDP per Capita)</th>\n",
       "      <th>Social support</th>\n",
       "      <th>Health (Life Expectancy)</th>\n",
       "      <th>Freedom</th>\n",
       "      <th>Generosity</th>\n",
       "      <th>Trust (Government Corruption)</th>\n",
       "      <th>Year</th>\n",
       "      <th>Region</th>\n",
       "    </tr>\n",
       "  </thead>\n",
       "  <tbody>\n",
       "    <tr>\n",
       "      <th>0</th>\n",
       "      <td>Finland</td>\n",
       "      <td>7.632</td>\n",
       "      <td>1.305</td>\n",
       "      <td>1.592</td>\n",
       "      <td>0.874</td>\n",
       "      <td>0.681</td>\n",
       "      <td>0.202</td>\n",
       "      <td>0.393</td>\n",
       "      <td>2018</td>\n",
       "      <td>Western Europe</td>\n",
       "    </tr>\n",
       "    <tr>\n",
       "      <th>1</th>\n",
       "      <td>Norway</td>\n",
       "      <td>7.594</td>\n",
       "      <td>1.456</td>\n",
       "      <td>1.582</td>\n",
       "      <td>0.861</td>\n",
       "      <td>0.686</td>\n",
       "      <td>0.286</td>\n",
       "      <td>0.340</td>\n",
       "      <td>2018</td>\n",
       "      <td>Western Europe</td>\n",
       "    </tr>\n",
       "  </tbody>\n",
       "</table>\n",
       "</div>"
      ],
      "text/plain": [
       "   Country  Happiness Score  Economy (GDP per Capita)  Social support  \\\n",
       "0  Finland            7.632                     1.305           1.592   \n",
       "1   Norway            7.594                     1.456           1.582   \n",
       "\n",
       "   Health (Life Expectancy)  Freedom  Generosity  \\\n",
       "0                     0.874    0.681       0.202   \n",
       "1                     0.861    0.686       0.286   \n",
       "\n",
       "   Trust (Government Corruption)  Year          Region  \n",
       "0                          0.393  2018  Western Europe  \n",
       "1                          0.340  2018  Western Europe  "
      ]
     },
     "execution_count": 636,
     "metadata": {},
     "output_type": "execute_result"
    }
   ],
   "source": [
    "# Especifica los nombres de las columnas que deseas importar\n",
    "columnas_deseadas = ['Score', 'Country or region', 'GDP per capita', 'Social support','Healthy life expectancy', \\\n",
    "                    'Freedom to make life choices', 'Perceptions of corruption', 'Generosity']\n",
    "\n",
    "# Lee el archivo CSV incluyendo solamente las columnas especificadas\n",
    "df_2018 = pd.read_csv(ruta_2018, usecols=columnas_deseadas)\n",
    "\n",
    "# Crea columna año y atribuye el valor correspondente al año que vemos compuesto en el propio nombre del\n",
    "# fichero csv importado.\n",
    "df_2018[\"Year\"] = '2018'\n",
    "df_2018[\"Region\"] = 'Western Europe'\n",
    "\n",
    "# Renombra las columas para que esten iguales en todos los Dataframes\n",
    "df_2018.rename(columns={'Score': 'Happiness Score', \\\n",
    "                        'Country or region': 'Country', \\\n",
    "                        'GDP per capita': 'Economy (GDP per Capita)', \\\n",
    "                        'Healthy life expectancy': 'Health (Life Expectancy)', \\\n",
    "                        'Freedom to make life choices': 'Freedom', \\\n",
    "                        'Perceptions of corruption': 'Trust (Government Corruption)', \\\n",
    "                        'Generosity': 'Generosity'\n",
    "                        }, inplace=True)\n",
    "df_2018.head(2)"
   ]
  },
  {
   "cell_type": "code",
   "execution_count": 637,
   "metadata": {},
   "outputs": [
    {
     "data": {
      "text/plain": [
       "(156, 10)"
      ]
     },
     "execution_count": 637,
     "metadata": {},
     "output_type": "execute_result"
    }
   ],
   "source": [
    "# Cantidad de registros y columnas cargados en el DataFrame\n",
    "df_2018.shape"
   ]
  },
  {
   "attachments": {},
   "cell_type": "markdown",
   "metadata": {},
   "source": [
    "#### Importar 2019"
   ]
  },
  {
   "cell_type": "code",
   "execution_count": 638,
   "metadata": {},
   "outputs": [
    {
     "data": {
      "text/html": [
       "<div>\n",
       "<style scoped>\n",
       "    .dataframe tbody tr th:only-of-type {\n",
       "        vertical-align: middle;\n",
       "    }\n",
       "\n",
       "    .dataframe tbody tr th {\n",
       "        vertical-align: top;\n",
       "    }\n",
       "\n",
       "    .dataframe thead th {\n",
       "        text-align: right;\n",
       "    }\n",
       "</style>\n",
       "<table border=\"1\" class=\"dataframe\">\n",
       "  <thead>\n",
       "    <tr style=\"text-align: right;\">\n",
       "      <th></th>\n",
       "      <th>Country</th>\n",
       "      <th>Happiness Score</th>\n",
       "      <th>Economy (GDP per Capita)</th>\n",
       "      <th>Social support</th>\n",
       "      <th>Health (Life Expectancy)</th>\n",
       "      <th>Freedom</th>\n",
       "      <th>Generosity</th>\n",
       "      <th>Trust (Government Corruption)</th>\n",
       "      <th>Year</th>\n",
       "      <th>Region</th>\n",
       "    </tr>\n",
       "  </thead>\n",
       "  <tbody>\n",
       "    <tr>\n",
       "      <th>0</th>\n",
       "      <td>Finland</td>\n",
       "      <td>7.769</td>\n",
       "      <td>1.340</td>\n",
       "      <td>1.587</td>\n",
       "      <td>0.986</td>\n",
       "      <td>0.596</td>\n",
       "      <td>0.153</td>\n",
       "      <td>0.393</td>\n",
       "      <td>2019</td>\n",
       "      <td>Western Europe</td>\n",
       "    </tr>\n",
       "    <tr>\n",
       "      <th>1</th>\n",
       "      <td>Denmark</td>\n",
       "      <td>7.600</td>\n",
       "      <td>1.383</td>\n",
       "      <td>1.573</td>\n",
       "      <td>0.996</td>\n",
       "      <td>0.592</td>\n",
       "      <td>0.252</td>\n",
       "      <td>0.410</td>\n",
       "      <td>2019</td>\n",
       "      <td>Western Europe</td>\n",
       "    </tr>\n",
       "  </tbody>\n",
       "</table>\n",
       "</div>"
      ],
      "text/plain": [
       "   Country  Happiness Score  Economy (GDP per Capita)  Social support  \\\n",
       "0  Finland            7.769                     1.340           1.587   \n",
       "1  Denmark            7.600                     1.383           1.573   \n",
       "\n",
       "   Health (Life Expectancy)  Freedom  Generosity  \\\n",
       "0                     0.986    0.596       0.153   \n",
       "1                     0.996    0.592       0.252   \n",
       "\n",
       "   Trust (Government Corruption)  Year          Region  \n",
       "0                          0.393  2019  Western Europe  \n",
       "1                          0.410  2019  Western Europe  "
      ]
     },
     "execution_count": 638,
     "metadata": {},
     "output_type": "execute_result"
    }
   ],
   "source": [
    "# Especifica los nombres de las columnas que deseas importar\n",
    "columnas_deseadas = ['Score', 'Country or region', 'GDP per capita', 'Social support','Healthy life expectancy', \\\n",
    "                    'Freedom to make life choices', 'Perceptions of corruption', 'Generosity']\n",
    "\n",
    "# Lee el archivo CSV incluyendo solamente las columnas especificadas\n",
    "df_2019 = pd.read_csv(ruta_2019, usecols=columnas_deseadas)\n",
    "\n",
    "# Crea columna año y atribuye el valor correspondente al año que vemos compuesto en el propio nombre del\n",
    "# fichero csv importado\n",
    "df_2019[\"Year\"] = '2019'\n",
    "df_2019[\"Region\"] = 'Western Europe' # Como vamos trabajar solamente con países de esta Región, desde ya actualizo este dato aquí mismo.\n",
    "\n",
    "# Renombra las columas para que esten iguales en todos los Dataframes\n",
    "df_2019.rename(columns={'Score': 'Happiness Score', \\\n",
    "                        'Country or region': 'Country', \\\n",
    "                        'GDP per capita': 'Economy (GDP per Capita)', \\\n",
    "                        'Healthy life expectancy': 'Health (Life Expectancy)', \\\n",
    "                        'Freedom to make life choices': 'Freedom', \\\n",
    "                        'Perceptions of corruption': 'Trust (Government Corruption)', \\\n",
    "                        'Generosity': 'Generosity'\n",
    "                        }, inplace=True)\n",
    "df_2019.head(2)"
   ]
  },
  {
   "cell_type": "code",
   "execution_count": 639,
   "metadata": {},
   "outputs": [
    {
     "data": {
      "text/plain": [
       "(156, 10)"
      ]
     },
     "execution_count": 639,
     "metadata": {},
     "output_type": "execute_result"
    }
   ],
   "source": [
    "# Cantidad de registros y columnas cargados en el DataFrame\n",
    "df_2019.shape"
   ]
  },
  {
   "attachments": {},
   "cell_type": "markdown",
   "metadata": {},
   "source": [
    "#### Importar 2020"
   ]
  },
  {
   "cell_type": "code",
   "execution_count": 640,
   "metadata": {},
   "outputs": [
    {
     "data": {
      "text/html": [
       "<div>\n",
       "<style scoped>\n",
       "    .dataframe tbody tr th:only-of-type {\n",
       "        vertical-align: middle;\n",
       "    }\n",
       "\n",
       "    .dataframe tbody tr th {\n",
       "        vertical-align: top;\n",
       "    }\n",
       "\n",
       "    .dataframe thead th {\n",
       "        text-align: right;\n",
       "    }\n",
       "</style>\n",
       "<table border=\"1\" class=\"dataframe\">\n",
       "  <thead>\n",
       "    <tr style=\"text-align: right;\">\n",
       "      <th></th>\n",
       "      <th>Country</th>\n",
       "      <th>Happiness Score</th>\n",
       "      <th>Economy (GDP per Capita)</th>\n",
       "      <th>Social support</th>\n",
       "      <th>Health (Life Expectancy)</th>\n",
       "      <th>Freedom</th>\n",
       "      <th>Generosity</th>\n",
       "      <th>Trust (Government Corruption)</th>\n",
       "      <th>Year</th>\n",
       "      <th>Region</th>\n",
       "    </tr>\n",
       "  </thead>\n",
       "  <tbody>\n",
       "    <tr>\n",
       "      <th>0</th>\n",
       "      <td>Finland</td>\n",
       "      <td>7.8087</td>\n",
       "      <td>1.285190</td>\n",
       "      <td>1.499526</td>\n",
       "      <td>0.961271</td>\n",
       "      <td>0.662317</td>\n",
       "      <td>0.159670</td>\n",
       "      <td>0.477857</td>\n",
       "      <td>2020</td>\n",
       "      <td>Western Europe</td>\n",
       "    </tr>\n",
       "    <tr>\n",
       "      <th>1</th>\n",
       "      <td>Denmark</td>\n",
       "      <td>7.6456</td>\n",
       "      <td>1.326949</td>\n",
       "      <td>1.503449</td>\n",
       "      <td>0.979333</td>\n",
       "      <td>0.665040</td>\n",
       "      <td>0.242793</td>\n",
       "      <td>0.495260</td>\n",
       "      <td>2020</td>\n",
       "      <td>Western Europe</td>\n",
       "    </tr>\n",
       "  </tbody>\n",
       "</table>\n",
       "</div>"
      ],
      "text/plain": [
       "   Country  Happiness Score  Economy (GDP per Capita)  Social support  \\\n",
       "0  Finland           7.8087                  1.285190        1.499526   \n",
       "1  Denmark           7.6456                  1.326949        1.503449   \n",
       "\n",
       "   Health (Life Expectancy)   Freedom  Generosity  \\\n",
       "0                  0.961271  0.662317    0.159670   \n",
       "1                  0.979333  0.665040    0.242793   \n",
       "\n",
       "   Trust (Government Corruption)  Year          Region  \n",
       "0                       0.477857  2020  Western Europe  \n",
       "1                       0.495260  2020  Western Europe  "
      ]
     },
     "execution_count": 640,
     "metadata": {},
     "output_type": "execute_result"
    }
   ],
   "source": [
    "# Especifica los nombres de las columnas que deseas importar\n",
    "columnas_deseadas = ['Ladder score', 'Country name', 'Explained by: Log GDP per capita', 'Explained by: Social support', \\\n",
    "                    'Explained by: Healthy life expectancy','Explained by: Freedom to make life choices', \\\n",
    "                    'Explained by: Perceptions of corruption', 'Explained by: Generosity']\n",
    "\n",
    "# Lee el archivo CSV incluyendo solamente las columnas especificadas\n",
    "df_2020 = pd.read_csv(ruta_2020, usecols=columnas_deseadas)\n",
    "\n",
    "# Crea columna año y atribuye el valor correspondente al año que vemos compuesto en el propio nombre del\n",
    "# fichero csv importado\n",
    "df_2020[\"Year\"] = '2020'\n",
    "df_2020[\"Region\"] = 'Western Europe' # Como vamos trabajar solamente con países de esta Región, desde ya actualizo este dato aquí mismo.\n",
    "\n",
    "# Renombra las columas para que esten iguales en todos los Dataframes\n",
    "df_2020.rename(columns={'Ladder score': 'Happiness Score', \\\n",
    "                        'Country name': 'Country', \\\n",
    "                        'Explained by: Log GDP per capita': 'Economy (GDP per Capita)', \\\n",
    "                        'Explained by: Social support': 'Social support', \\\n",
    "                        'Explained by: Healthy life expectancy': 'Health (Life Expectancy)', \\\n",
    "                        'Explained by: Freedom to make life choices': 'Freedom', \\\n",
    "                        'Explained by: Perceptions of corruption': 'Trust (Government Corruption)', \\\n",
    "                        'Explained by: Generosity': 'Generosity'\n",
    "                        }, inplace=True)\n",
    "df_2020.head(2)\n",
    "\n"
   ]
  },
  {
   "cell_type": "code",
   "execution_count": 641,
   "metadata": {},
   "outputs": [
    {
     "data": {
      "text/plain": [
       "(153, 10)"
      ]
     },
     "execution_count": 641,
     "metadata": {},
     "output_type": "execute_result"
    }
   ],
   "source": [
    "# Cantidad de registros y columnas cargados en el DataFrame\n",
    "df_2020.shape"
   ]
  },
  {
   "attachments": {},
   "cell_type": "markdown",
   "metadata": {},
   "source": [
    "#### Importar 2021"
   ]
  },
  {
   "cell_type": "code",
   "execution_count": 642,
   "metadata": {},
   "outputs": [
    {
     "data": {
      "text/html": [
       "<div>\n",
       "<style scoped>\n",
       "    .dataframe tbody tr th:only-of-type {\n",
       "        vertical-align: middle;\n",
       "    }\n",
       "\n",
       "    .dataframe tbody tr th {\n",
       "        vertical-align: top;\n",
       "    }\n",
       "\n",
       "    .dataframe thead th {\n",
       "        text-align: right;\n",
       "    }\n",
       "</style>\n",
       "<table border=\"1\" class=\"dataframe\">\n",
       "  <thead>\n",
       "    <tr style=\"text-align: right;\">\n",
       "      <th></th>\n",
       "      <th>Country</th>\n",
       "      <th>Happiness Score</th>\n",
       "      <th>Economy (GDP per Capita)</th>\n",
       "      <th>Social support</th>\n",
       "      <th>Health (Life Expectancy)</th>\n",
       "      <th>Freedom</th>\n",
       "      <th>Generosity</th>\n",
       "      <th>Trust (Government Corruption)</th>\n",
       "      <th>Year</th>\n",
       "      <th>Region</th>\n",
       "    </tr>\n",
       "  </thead>\n",
       "  <tbody>\n",
       "    <tr>\n",
       "      <th>0</th>\n",
       "      <td>Finland</td>\n",
       "      <td>7.842</td>\n",
       "      <td>1.446</td>\n",
       "      <td>1.106</td>\n",
       "      <td>0.741</td>\n",
       "      <td>0.691</td>\n",
       "      <td>0.124</td>\n",
       "      <td>0.481</td>\n",
       "      <td>2021</td>\n",
       "      <td>Western Europe</td>\n",
       "    </tr>\n",
       "    <tr>\n",
       "      <th>1</th>\n",
       "      <td>Denmark</td>\n",
       "      <td>7.620</td>\n",
       "      <td>1.502</td>\n",
       "      <td>1.108</td>\n",
       "      <td>0.763</td>\n",
       "      <td>0.686</td>\n",
       "      <td>0.208</td>\n",
       "      <td>0.485</td>\n",
       "      <td>2021</td>\n",
       "      <td>Western Europe</td>\n",
       "    </tr>\n",
       "  </tbody>\n",
       "</table>\n",
       "</div>"
      ],
      "text/plain": [
       "   Country  Happiness Score  Economy (GDP per Capita)  Social support  \\\n",
       "0  Finland            7.842                     1.446           1.106   \n",
       "1  Denmark            7.620                     1.502           1.108   \n",
       "\n",
       "   Health (Life Expectancy)  Freedom  Generosity  \\\n",
       "0                     0.741    0.691       0.124   \n",
       "1                     0.763    0.686       0.208   \n",
       "\n",
       "   Trust (Government Corruption)  Year          Region  \n",
       "0                          0.481  2021  Western Europe  \n",
       "1                          0.485  2021  Western Europe  "
      ]
     },
     "execution_count": 642,
     "metadata": {},
     "output_type": "execute_result"
    }
   ],
   "source": [
    "# Especifica los nombres de las columnas que deseas importar\n",
    "columnas_deseadas = ['Ladder score', 'Country name', 'Explained by: Log GDP per capita', 'Explained by: Social support', \\\n",
    "                    'Explained by: Healthy life expectancy','Explained by: Freedom to make life choices', \\\n",
    "                    'Explained by: Perceptions of corruption', 'Explained by: Generosity']\n",
    "\n",
    "# Lee el archivo CSV incluyendo solamente las columnas especificadas\n",
    "df_2021 = pd.read_csv(ruta_2021, usecols=columnas_deseadas)\n",
    "\n",
    "# Crea columna año y atribuye el valor correspondente al año que vemos compuesto en el propio nombre del\n",
    "# fichero csv importado\n",
    "df_2021[\"Year\"] = '2021'\n",
    "df_2021[\"Region\"] = 'Western Europe' # Como vamos trabajar solamente con países de esta Región, desde ya actualizo este dato aquí mismo.\n",
    "\n",
    "# Renombra las columas para que esten iguales en todos los Dataframes\n",
    "df_2021.rename(columns={'Ladder score': 'Happiness Score', \\\n",
    "                        'Country name': 'Country', \\\n",
    "                        'Explained by: Log GDP per capita': 'Economy (GDP per Capita)', \\\n",
    "                        'Explained by: Social support': 'Social support', \\\n",
    "                        'Explained by: Healthy life expectancy': 'Health (Life Expectancy)', \\\n",
    "                        'Explained by: Freedom to make life choices': 'Freedom', \\\n",
    "                        'Explained by: Perceptions of corruption': 'Trust (Government Corruption)', \\\n",
    "                        'Explained by: Generosity': 'Generosity'\n",
    "                        }, inplace=True)\n",
    "df_2021.head(2)"
   ]
  },
  {
   "cell_type": "code",
   "execution_count": 643,
   "metadata": {},
   "outputs": [
    {
     "data": {
      "text/plain": [
       "(149, 10)"
      ]
     },
     "execution_count": 643,
     "metadata": {},
     "output_type": "execute_result"
    }
   ],
   "source": [
    "# Cantidad de registros y columnas cargados en el DataFrame\n",
    "df_2021.shape"
   ]
  },
  {
   "attachments": {},
   "cell_type": "markdown",
   "metadata": {},
   "source": [
    "#### Importar 2022"
   ]
  },
  {
   "cell_type": "code",
   "execution_count": 644,
   "metadata": {},
   "outputs": [
    {
     "data": {
      "text/html": [
       "<div>\n",
       "<style scoped>\n",
       "    .dataframe tbody tr th:only-of-type {\n",
       "        vertical-align: middle;\n",
       "    }\n",
       "\n",
       "    .dataframe tbody tr th {\n",
       "        vertical-align: top;\n",
       "    }\n",
       "\n",
       "    .dataframe thead th {\n",
       "        text-align: right;\n",
       "    }\n",
       "</style>\n",
       "<table border=\"1\" class=\"dataframe\">\n",
       "  <thead>\n",
       "    <tr style=\"text-align: right;\">\n",
       "      <th></th>\n",
       "      <th>Country</th>\n",
       "      <th>Happiness Score</th>\n",
       "      <th>Economy (GDP per Capita)</th>\n",
       "      <th>Social support</th>\n",
       "      <th>Health (Life Expectancy)</th>\n",
       "      <th>Freedom</th>\n",
       "      <th>Generosity</th>\n",
       "      <th>Trust (Government Corruption)</th>\n",
       "      <th>Year</th>\n",
       "      <th>Region</th>\n",
       "    </tr>\n",
       "  </thead>\n",
       "  <tbody>\n",
       "    <tr>\n",
       "      <th>0</th>\n",
       "      <td>Finland</td>\n",
       "      <td>7,821</td>\n",
       "      <td>1,892</td>\n",
       "      <td>1,258</td>\n",
       "      <td>0,775</td>\n",
       "      <td>0,736</td>\n",
       "      <td>0,109</td>\n",
       "      <td>0,534</td>\n",
       "      <td>2022</td>\n",
       "      <td>Western Europe</td>\n",
       "    </tr>\n",
       "    <tr>\n",
       "      <th>1</th>\n",
       "      <td>Denmark</td>\n",
       "      <td>7,636</td>\n",
       "      <td>1,953</td>\n",
       "      <td>1,243</td>\n",
       "      <td>0,777</td>\n",
       "      <td>0,719</td>\n",
       "      <td>0,188</td>\n",
       "      <td>0,532</td>\n",
       "      <td>2022</td>\n",
       "      <td>Western Europe</td>\n",
       "    </tr>\n",
       "  </tbody>\n",
       "</table>\n",
       "</div>"
      ],
      "text/plain": [
       "   Country Happiness Score Economy (GDP per Capita) Social support  \\\n",
       "0  Finland           7,821                    1,892          1,258   \n",
       "1  Denmark           7,636                    1,953          1,243   \n",
       "\n",
       "  Health (Life Expectancy) Freedom Generosity Trust (Government Corruption)  \\\n",
       "0                    0,775   0,736      0,109                         0,534   \n",
       "1                    0,777   0,719      0,188                         0,532   \n",
       "\n",
       "   Year          Region  \n",
       "0  2022  Western Europe  \n",
       "1  2022  Western Europe  "
      ]
     },
     "execution_count": 644,
     "metadata": {},
     "output_type": "execute_result"
    }
   ],
   "source": [
    "# Especifica los nombres de las columnas que deseas importar\n",
    "columnas_deseadas = ['Happiness score', 'Country', 'Explained by: GDP per capita', 'Explained by: Social support', \\\n",
    "                    'Explained by: Healthy life expectancy','Explained by: Freedom to make life choices', \\\n",
    "                    'Explained by: Perceptions of corruption', 'Explained by: Generosity']\n",
    "\n",
    "# Lee el archivo CSV incluyendo solamente las columnas especificadas\n",
    "df_2022 = pd.read_csv(ruta_2022, usecols=columnas_deseadas)\n",
    "\n",
    "# Crea columna año y atribuye el valor correspondente al año que vemos compuesto en el propio nombre del\n",
    "# fichero csv importado\n",
    "df_2022[\"Year\"] = '2022'\n",
    "df_2022[\"Region\"] = 'Western Europe' # Como vamos trabajar solamente con países de esta Región, desde ya actualizo este dato aquí mismo.\n",
    "\n",
    "# Renombra las columas para que esten iguales en todos los Dataframes\n",
    "df_2022.rename(columns={'Happiness score': 'Happiness Score', \\\n",
    "                        'Country': 'Country', \\\n",
    "                        'Explained by: GDP per capita': 'Economy (GDP per Capita)', \\\n",
    "                        'Explained by: Social support': 'Social support', \\\n",
    "                        'Explained by: Healthy life expectancy': 'Health (Life Expectancy)', \\\n",
    "                        'Explained by: Freedom to make life choices': 'Freedom', \\\n",
    "                        'Explained by: Perceptions of corruption': 'Trust (Government Corruption)', \\\n",
    "                        'Explained by: Generosity': 'Generosity'\n",
    "                        }, inplace=True)\n",
    "\n",
    "df_2022.head(2)"
   ]
  },
  {
   "cell_type": "code",
   "execution_count": 645,
   "metadata": {},
   "outputs": [
    {
     "data": {
      "text/plain": [
       "(147, 10)"
      ]
     },
     "execution_count": 645,
     "metadata": {},
     "output_type": "execute_result"
    }
   ],
   "source": [
    "# Cantidad de registros y columnas cargados en el DataFrame\n",
    "df_2022.shape"
   ]
  },
  {
   "attachments": {},
   "cell_type": "markdown",
   "metadata": {},
   "source": [
    "#### Importar 2023"
   ]
  },
  {
   "cell_type": "code",
   "execution_count": 646,
   "metadata": {},
   "outputs": [
    {
     "data": {
      "text/html": [
       "<div>\n",
       "<style scoped>\n",
       "    .dataframe tbody tr th:only-of-type {\n",
       "        vertical-align: middle;\n",
       "    }\n",
       "\n",
       "    .dataframe tbody tr th {\n",
       "        vertical-align: top;\n",
       "    }\n",
       "\n",
       "    .dataframe thead th {\n",
       "        text-align: right;\n",
       "    }\n",
       "</style>\n",
       "<table border=\"1\" class=\"dataframe\">\n",
       "  <thead>\n",
       "    <tr style=\"text-align: right;\">\n",
       "      <th></th>\n",
       "      <th>Country</th>\n",
       "      <th>Happiness Score</th>\n",
       "      <th>Economy (GDP per Capita)</th>\n",
       "      <th>Social support</th>\n",
       "      <th>Health (Life Expectancy)</th>\n",
       "      <th>Freedom</th>\n",
       "      <th>Generosity</th>\n",
       "      <th>Trust (Government Corruption)</th>\n",
       "      <th>Year</th>\n",
       "      <th>Region</th>\n",
       "    </tr>\n",
       "  </thead>\n",
       "  <tbody>\n",
       "    <tr>\n",
       "      <th>0</th>\n",
       "      <td>Afghanistan</td>\n",
       "      <td>1.859</td>\n",
       "      <td>0.645</td>\n",
       "      <td>0.000</td>\n",
       "      <td>0.087</td>\n",
       "      <td>0.000</td>\n",
       "      <td>0.093</td>\n",
       "      <td>0.059</td>\n",
       "      <td>2023</td>\n",
       "      <td>Western Europe</td>\n",
       "    </tr>\n",
       "    <tr>\n",
       "      <th>1</th>\n",
       "      <td>Albania</td>\n",
       "      <td>5.277</td>\n",
       "      <td>1.449</td>\n",
       "      <td>0.951</td>\n",
       "      <td>0.480</td>\n",
       "      <td>0.549</td>\n",
       "      <td>0.133</td>\n",
       "      <td>0.037</td>\n",
       "      <td>2023</td>\n",
       "      <td>Western Europe</td>\n",
       "    </tr>\n",
       "  </tbody>\n",
       "</table>\n",
       "</div>"
      ],
      "text/plain": [
       "       Country  Happiness Score  Economy (GDP per Capita)  Social support  \\\n",
       "0  Afghanistan            1.859                     0.645           0.000   \n",
       "1      Albania            5.277                     1.449           0.951   \n",
       "\n",
       "   Health (Life Expectancy)  Freedom  Generosity  \\\n",
       "0                     0.087    0.000       0.093   \n",
       "1                     0.480    0.549       0.133   \n",
       "\n",
       "   Trust (Government Corruption)  Year          Region  \n",
       "0                          0.059  2023  Western Europe  \n",
       "1                          0.037  2023  Western Europe  "
      ]
     },
     "execution_count": 646,
     "metadata": {},
     "output_type": "execute_result"
    }
   ],
   "source": [
    "# Especifica los nombres de las columnas que deseas importar\n",
    "columnas_deseadas = ['Happiness score', 'Country name', 'Explained by: Log GDP per capita', 'Explained by: Social support','Explained by: Healthy life expectancy', \\\n",
    "                    'Explained by: Freedom to make life choices', 'Explained by: Perceptions of corruption', 'Explained by: Generosity']\n",
    "\n",
    "# Lee el archivo CSV incluyendo solamente las columnas especificadas\n",
    "df_2023 = pd.read_csv(ruta_2023, usecols=columnas_deseadas)\n",
    "\n",
    "# Crea columna año y atribuye el valor correspondente al año que vemos compuesto en el propio nombre del\n",
    "# fichero csv importado\n",
    "df_2023[\"Year\"] = '2023'\n",
    "df_2023[\"Region\"] = 'Western Europe' # Como vamos trabajar solamente con países de esta Región, desde ya actualizo este dato aquí mismo.\n",
    "\n",
    "# Renombra las columas para que esten iguales en todos los Dataframes\n",
    "df_2023.rename(columns={'Happiness score': 'Happiness Score', \\\n",
    "                        'Country name': 'Country', \\\n",
    "                        'Explained by: Log GDP per capita': 'Economy (GDP per Capita)', \\\n",
    "                        'Explained by: Social support': 'Social support', \\\n",
    "                        'Explained by: Healthy life expectancy': 'Health (Life Expectancy)', \\\n",
    "                        'Explained by: Freedom to make life choices': 'Freedom', \\\n",
    "                        'Explained by: Perceptions of corruption': 'Trust (Government Corruption)', \\\n",
    "                        'Explained by: Generosity': 'Generosity'\n",
    "                        }, inplace=True)\n",
    "\n",
    "df_2023.head(2)"
   ]
  },
  {
   "cell_type": "code",
   "execution_count": 647,
   "metadata": {},
   "outputs": [
    {
     "data": {
      "text/plain": [
       "(137, 10)"
      ]
     },
     "execution_count": 647,
     "metadata": {},
     "output_type": "execute_result"
    }
   ],
   "source": [
    "# Cantidad de registros y columnas cargados en el DataFrame\n",
    "df_2023.shape"
   ]
  },
  {
   "attachments": {},
   "cell_type": "markdown",
   "metadata": {},
   "source": [
    "## <font color=#FF5733>TRATAR DATOS</font>\n",
    "\n",
    "Este procedimiento consiste en realizar los ajustes mas profundos en los datos para prepararlos para la próxima fase del proyecto. "
   ]
  },
  {
   "cell_type": "markdown",
   "metadata": {},
   "source": [
    "### <font color=#186a3b>--> Tratar valores incorrectos en ficheros CSVs de 2017 y 2020</font>"
   ]
  },
  {
   "cell_type": "markdown",
   "metadata": {},
   "source": [
    "#### 2017"
   ]
  },
  {
   "cell_type": "code",
   "execution_count": 648,
   "metadata": {},
   "outputs": [],
   "source": [
    "# # Reemplazar los valores existentes por cero\n",
    "# df_2017[['Happiness Score', 'Economy (GDP per Capita)',\n",
    "#        'Social support', 'Health (Life Expectancy)', 'Freedom', 'Generosity',\n",
    "#        'Trust (Government Corruption)']] = np.nan\n",
    "\n",
    "# df_2017.head(2)"
   ]
  },
  {
   "cell_type": "markdown",
   "metadata": {},
   "source": [
    "#### 2020"
   ]
  },
  {
   "cell_type": "code",
   "execution_count": 649,
   "metadata": {},
   "outputs": [],
   "source": [
    "# # Reemplazar los valores existentes por cero\n",
    "# df_2020[['Happiness Score', 'Economy (GDP per Capita)',\n",
    "#        'Social support', 'Health (Life Expectancy)', 'Freedom', 'Generosity',\n",
    "#        'Trust (Government Corruption)']] = np.nan\n",
    "\n",
    "# df_2020.head(2)"
   ]
  },
  {
   "attachments": {},
   "cell_type": "markdown",
   "metadata": {},
   "source": [
    "### <font color=#186a3b>--> Fusionar en un unico DataFrame todos los datos </font>"
   ]
  },
  {
   "cell_type": "code",
   "execution_count": 650,
   "metadata": {},
   "outputs": [
    {
     "data": {
      "text/html": [
       "<div>\n",
       "<style scoped>\n",
       "    .dataframe tbody tr th:only-of-type {\n",
       "        vertical-align: middle;\n",
       "    }\n",
       "\n",
       "    .dataframe tbody tr th {\n",
       "        vertical-align: top;\n",
       "    }\n",
       "\n",
       "    .dataframe thead th {\n",
       "        text-align: right;\n",
       "    }\n",
       "</style>\n",
       "<table border=\"1\" class=\"dataframe\">\n",
       "  <thead>\n",
       "    <tr style=\"text-align: right;\">\n",
       "      <th></th>\n",
       "      <th>Country</th>\n",
       "      <th>Region</th>\n",
       "      <th>Happiness Score</th>\n",
       "      <th>Economy (GDP per Capita)</th>\n",
       "      <th>Social support</th>\n",
       "      <th>Health (Life Expectancy)</th>\n",
       "      <th>Freedom</th>\n",
       "      <th>Trust (Government Corruption)</th>\n",
       "      <th>Generosity</th>\n",
       "      <th>Year</th>\n",
       "    </tr>\n",
       "  </thead>\n",
       "  <tbody>\n",
       "    <tr>\n",
       "      <th>0</th>\n",
       "      <td>Switzerland</td>\n",
       "      <td>Western Europe</td>\n",
       "      <td>7.587</td>\n",
       "      <td>1.39651</td>\n",
       "      <td>1.34951</td>\n",
       "      <td>0.94143</td>\n",
       "      <td>0.66557</td>\n",
       "      <td>0.41978</td>\n",
       "      <td>0.29678</td>\n",
       "      <td>2015</td>\n",
       "    </tr>\n",
       "    <tr>\n",
       "      <th>1</th>\n",
       "      <td>Iceland</td>\n",
       "      <td>Western Europe</td>\n",
       "      <td>7.561</td>\n",
       "      <td>1.30232</td>\n",
       "      <td>1.40223</td>\n",
       "      <td>0.94784</td>\n",
       "      <td>0.62877</td>\n",
       "      <td>0.14145</td>\n",
       "      <td>0.4363</td>\n",
       "      <td>2015</td>\n",
       "    </tr>\n",
       "    <tr>\n",
       "      <th>2</th>\n",
       "      <td>Denmark</td>\n",
       "      <td>Western Europe</td>\n",
       "      <td>7.527</td>\n",
       "      <td>1.32548</td>\n",
       "      <td>1.36058</td>\n",
       "      <td>0.87464</td>\n",
       "      <td>0.64938</td>\n",
       "      <td>0.48357</td>\n",
       "      <td>0.34139</td>\n",
       "      <td>2015</td>\n",
       "    </tr>\n",
       "    <tr>\n",
       "      <th>3</th>\n",
       "      <td>Norway</td>\n",
       "      <td>Western Europe</td>\n",
       "      <td>7.522</td>\n",
       "      <td>1.459</td>\n",
       "      <td>1.33095</td>\n",
       "      <td>0.88521</td>\n",
       "      <td>0.66973</td>\n",
       "      <td>0.36503</td>\n",
       "      <td>0.34699</td>\n",
       "      <td>2015</td>\n",
       "    </tr>\n",
       "    <tr>\n",
       "      <th>4</th>\n",
       "      <td>Canada</td>\n",
       "      <td>North America</td>\n",
       "      <td>7.427</td>\n",
       "      <td>1.32629</td>\n",
       "      <td>1.32261</td>\n",
       "      <td>0.90563</td>\n",
       "      <td>0.63297</td>\n",
       "      <td>0.32957</td>\n",
       "      <td>0.45811</td>\n",
       "      <td>2015</td>\n",
       "    </tr>\n",
       "  </tbody>\n",
       "</table>\n",
       "</div>"
      ],
      "text/plain": [
       "       Country          Region Happiness Score Economy (GDP per Capita)  \\\n",
       "0  Switzerland  Western Europe           7.587                  1.39651   \n",
       "1      Iceland  Western Europe           7.561                  1.30232   \n",
       "2      Denmark  Western Europe           7.527                  1.32548   \n",
       "3       Norway  Western Europe           7.522                    1.459   \n",
       "4       Canada   North America           7.427                  1.32629   \n",
       "\n",
       "  Social support Health (Life Expectancy)  Freedom  \\\n",
       "0        1.34951                  0.94143  0.66557   \n",
       "1        1.40223                  0.94784  0.62877   \n",
       "2        1.36058                  0.87464  0.64938   \n",
       "3        1.33095                  0.88521  0.66973   \n",
       "4        1.32261                  0.90563  0.63297   \n",
       "\n",
       "  Trust (Government Corruption) Generosity  Year  \n",
       "0                       0.41978    0.29678  2015  \n",
       "1                       0.14145     0.4363  2015  \n",
       "2                       0.48357    0.34139  2015  \n",
       "3                       0.36503    0.34699  2015  \n",
       "4                       0.32957    0.45811  2015  "
      ]
     },
     "execution_count": 650,
     "metadata": {},
     "output_type": "execute_result"
    }
   ],
   "source": [
    "# Después de tenernos uniformizados los nombres de las columnas de todos los CSVs importados, llega el momento de \n",
    "# fusionar todos los datos en un unico DataFrame\n",
    "\n",
    "frames = [df_2015, df_2016, df_2017, df_2018, df_2019, df_2020, df_2021, df_2022, df_2023]  # Lista de DataFrames que quieres unificar\n",
    "df = pd.concat(frames, ignore_index=True)\n",
    "df.head()"
   ]
  },
  {
   "cell_type": "code",
   "execution_count": 651,
   "metadata": {},
   "outputs": [
    {
     "data": {
      "text/plain": [
       "(1368, 10)"
      ]
     },
     "execution_count": 651,
     "metadata": {},
     "output_type": "execute_result"
    }
   ],
   "source": [
    "# Cantidad Total de Registros y Columnas en el DataFrame\n",
    "df.shape"
   ]
  },
  {
   "cell_type": "code",
   "execution_count": 652,
   "metadata": {},
   "outputs": [
    {
     "name": "stdout",
     "output_type": "stream",
     "text": [
      "<class 'pandas.core.frame.DataFrame'>\n",
      "RangeIndex: 1368 entries, 0 to 1367\n",
      "Data columns (total 10 columns):\n",
      " #   Column                         Non-Null Count  Dtype \n",
      "---  ------                         --------------  ----- \n",
      " 0   Country                        1368 non-null   object\n",
      " 1   Region                         1368 non-null   object\n",
      " 2   Happiness Score                1367 non-null   object\n",
      " 3   Economy (GDP per Capita)       1367 non-null   object\n",
      " 4   Social support                 1367 non-null   object\n",
      " 5   Health (Life Expectancy)       1366 non-null   object\n",
      " 6   Freedom                        1367 non-null   object\n",
      " 7   Trust (Government Corruption)  1366 non-null   object\n",
      " 8   Generosity                     1367 non-null   object\n",
      " 9   Year                           1368 non-null   object\n",
      "dtypes: object(10)\n",
      "memory usage: 107.0+ KB\n"
     ]
    }
   ],
   "source": [
    "df.info()"
   ]
  },
  {
   "attachments": {},
   "cell_type": "markdown",
   "metadata": {},
   "source": [
    "### <font color=#186a3b>--> Reemplazar la coma (\",\") por punto (\".\") en las columnas numéricas </font>"
   ]
  },
  {
   "cell_type": "code",
   "execution_count": 653,
   "metadata": {},
   "outputs": [],
   "source": [
    "df_comas = pd.DataFrame(df)\n",
    "\n",
    "# Columnas en las que se realizará el reemplazo\n",
    "columnas = ['Happiness Score', 'Economy (GDP per Capita)', 'Social support', 'Health (Life Expectancy)', 'Freedom', 'Trust (Government Corruption)', \\\n",
    "            'Generosity']\n",
    "\n",
    "# Reemplazo de comas por puntos en las columnas seleccionadas\n",
    "df[columnas] = df_comas[columnas].replace(',', '.', regex=True)"
   ]
  },
  {
   "cell_type": "code",
   "execution_count": 654,
   "metadata": {},
   "outputs": [
    {
     "data": {
      "text/html": [
       "<div>\n",
       "<style scoped>\n",
       "    .dataframe tbody tr th:only-of-type {\n",
       "        vertical-align: middle;\n",
       "    }\n",
       "\n",
       "    .dataframe tbody tr th {\n",
       "        vertical-align: top;\n",
       "    }\n",
       "\n",
       "    .dataframe thead th {\n",
       "        text-align: right;\n",
       "    }\n",
       "</style>\n",
       "<table border=\"1\" class=\"dataframe\">\n",
       "  <thead>\n",
       "    <tr style=\"text-align: right;\">\n",
       "      <th></th>\n",
       "      <th>Country</th>\n",
       "      <th>Region</th>\n",
       "      <th>Happiness Score</th>\n",
       "      <th>Economy (GDP per Capita)</th>\n",
       "      <th>Social support</th>\n",
       "      <th>Health (Life Expectancy)</th>\n",
       "      <th>Freedom</th>\n",
       "      <th>Trust (Government Corruption)</th>\n",
       "      <th>Generosity</th>\n",
       "      <th>Year</th>\n",
       "    </tr>\n",
       "  </thead>\n",
       "  <tbody>\n",
       "    <tr>\n",
       "      <th>0</th>\n",
       "      <td>Switzerland</td>\n",
       "      <td>Western Europe</td>\n",
       "      <td>7.587</td>\n",
       "      <td>1.39651</td>\n",
       "      <td>1.34951</td>\n",
       "      <td>0.94143</td>\n",
       "      <td>0.66557</td>\n",
       "      <td>0.41978</td>\n",
       "      <td>0.29678</td>\n",
       "      <td>2015</td>\n",
       "    </tr>\n",
       "    <tr>\n",
       "      <th>1</th>\n",
       "      <td>Iceland</td>\n",
       "      <td>Western Europe</td>\n",
       "      <td>7.561</td>\n",
       "      <td>1.30232</td>\n",
       "      <td>1.40223</td>\n",
       "      <td>0.94784</td>\n",
       "      <td>0.62877</td>\n",
       "      <td>0.14145</td>\n",
       "      <td>0.4363</td>\n",
       "      <td>2015</td>\n",
       "    </tr>\n",
       "  </tbody>\n",
       "</table>\n",
       "</div>"
      ],
      "text/plain": [
       "       Country          Region Happiness Score Economy (GDP per Capita)  \\\n",
       "0  Switzerland  Western Europe           7.587                  1.39651   \n",
       "1      Iceland  Western Europe           7.561                  1.30232   \n",
       "\n",
       "  Social support Health (Life Expectancy)  Freedom  \\\n",
       "0        1.34951                  0.94143  0.66557   \n",
       "1        1.40223                  0.94784  0.62877   \n",
       "\n",
       "  Trust (Government Corruption) Generosity  Year  \n",
       "0                       0.41978    0.29678  2015  \n",
       "1                       0.14145     0.4363  2015  "
      ]
     },
     "execution_count": 654,
     "metadata": {},
     "output_type": "execute_result"
    }
   ],
   "source": [
    "df.head(2)"
   ]
  },
  {
   "attachments": {},
   "cell_type": "markdown",
   "metadata": {},
   "source": [
    "### <font color=#186a3b>--> Convertir los tipos de datos de las Columnas </font>"
   ]
  },
  {
   "cell_type": "code",
   "execution_count": 655,
   "metadata": {},
   "outputs": [
    {
     "data": {
      "text/plain": [
       "Index(['Country', 'Region', 'Happiness Score', 'Economy (GDP per Capita)',\n",
       "       'Social support', 'Health (Life Expectancy)', 'Freedom',\n",
       "       'Trust (Government Corruption)', 'Generosity', 'Year'],\n",
       "      dtype='object')"
      ]
     },
     "execution_count": 655,
     "metadata": {},
     "output_type": "execute_result"
    }
   ],
   "source": [
    "df.columns"
   ]
  },
  {
   "cell_type": "code",
   "execution_count": 656,
   "metadata": {},
   "outputs": [
    {
     "name": "stdout",
     "output_type": "stream",
     "text": [
      "<class 'pandas.core.frame.DataFrame'>\n",
      "RangeIndex: 1368 entries, 0 to 1367\n",
      "Data columns (total 10 columns):\n",
      " #   Column                         Non-Null Count  Dtype   \n",
      "---  ------                         --------------  -----   \n",
      " 0   Country                        1368 non-null   category\n",
      " 1   Region                         1368 non-null   category\n",
      " 2   Happiness Score                1367 non-null   float64 \n",
      " 3   Economy (GDP per Capita)       1367 non-null   float64 \n",
      " 4   Social support                 1367 non-null   float64 \n",
      " 5   Health (Life Expectancy)       1366 non-null   float64 \n",
      " 6   Freedom                        1367 non-null   float64 \n",
      " 7   Trust (Government Corruption)  1366 non-null   float64 \n",
      " 8   Generosity                     1367 non-null   float64 \n",
      " 9   Year                           1368 non-null   int64   \n",
      "dtypes: category(2), float64(7), int64(1)\n",
      "memory usage: 99.7 KB\n"
     ]
    }
   ],
   "source": [
    "# Convertir los tipos de columnas\n",
    "df_tipo_datos = pd.DataFrame(df)\n",
    "\n",
    "df[\"Year\"] = df_tipo_datos[\"Year\"].astype(\"int64\")\n",
    "\n",
    "columnas_numericas = ['Happiness Score', 'Economy (GDP per Capita)', 'Social support', 'Health (Life Expectancy)', 'Freedom', \\\n",
    "                    'Trust (Government Corruption)', 'Generosity']\n",
    "\n",
    "columnas_categoricas = ['Country', 'Region']\n",
    "\n",
    "# converte a valores numericos tipo float los valores de la lista\n",
    "for i in columnas_numericas:\n",
    "    df[i] = df[i].astype(\"float64\")\n",
    "\n",
    "# converte a valores categóricos los valores de la lista\n",
    "for i in columnas_categoricas:\n",
    "    df[i] = df[i].astype(\"category\")\n",
    "\n",
    "df.info()"
   ]
  },
  {
   "cell_type": "code",
   "execution_count": 657,
   "metadata": {},
   "outputs": [
    {
     "data": {
      "text/html": [
       "<div>\n",
       "<style scoped>\n",
       "    .dataframe tbody tr th:only-of-type {\n",
       "        vertical-align: middle;\n",
       "    }\n",
       "\n",
       "    .dataframe tbody tr th {\n",
       "        vertical-align: top;\n",
       "    }\n",
       "\n",
       "    .dataframe thead th {\n",
       "        text-align: right;\n",
       "    }\n",
       "</style>\n",
       "<table border=\"1\" class=\"dataframe\">\n",
       "  <thead>\n",
       "    <tr style=\"text-align: right;\">\n",
       "      <th></th>\n",
       "      <th>Country</th>\n",
       "      <th>Region</th>\n",
       "      <th>Happiness Score</th>\n",
       "      <th>Economy (GDP per Capita)</th>\n",
       "      <th>Social support</th>\n",
       "      <th>Health (Life Expectancy)</th>\n",
       "      <th>Freedom</th>\n",
       "      <th>Trust (Government Corruption)</th>\n",
       "      <th>Generosity</th>\n",
       "      <th>Year</th>\n",
       "    </tr>\n",
       "  </thead>\n",
       "  <tbody>\n",
       "    <tr>\n",
       "      <th>0</th>\n",
       "      <td>Switzerland</td>\n",
       "      <td>Western Europe</td>\n",
       "      <td>7.587</td>\n",
       "      <td>1.396510</td>\n",
       "      <td>1.349510</td>\n",
       "      <td>0.941430</td>\n",
       "      <td>0.665570</td>\n",
       "      <td>0.419780</td>\n",
       "      <td>0.296780</td>\n",
       "      <td>2015</td>\n",
       "    </tr>\n",
       "    <tr>\n",
       "      <th>1</th>\n",
       "      <td>Iceland</td>\n",
       "      <td>Western Europe</td>\n",
       "      <td>7.561</td>\n",
       "      <td>1.302320</td>\n",
       "      <td>1.402230</td>\n",
       "      <td>0.947840</td>\n",
       "      <td>0.628770</td>\n",
       "      <td>0.141450</td>\n",
       "      <td>0.436300</td>\n",
       "      <td>2015</td>\n",
       "    </tr>\n",
       "    <tr>\n",
       "      <th>2</th>\n",
       "      <td>Denmark</td>\n",
       "      <td>Western Europe</td>\n",
       "      <td>7.527</td>\n",
       "      <td>1.325480</td>\n",
       "      <td>1.360580</td>\n",
       "      <td>0.874640</td>\n",
       "      <td>0.649380</td>\n",
       "      <td>0.483570</td>\n",
       "      <td>0.341390</td>\n",
       "      <td>2015</td>\n",
       "    </tr>\n",
       "    <tr>\n",
       "      <th>3</th>\n",
       "      <td>Norway</td>\n",
       "      <td>Western Europe</td>\n",
       "      <td>7.522</td>\n",
       "      <td>1.459000</td>\n",
       "      <td>1.330950</td>\n",
       "      <td>0.885210</td>\n",
       "      <td>0.669730</td>\n",
       "      <td>0.365030</td>\n",
       "      <td>0.346990</td>\n",
       "      <td>2015</td>\n",
       "    </tr>\n",
       "    <tr>\n",
       "      <th>4</th>\n",
       "      <td>Canada</td>\n",
       "      <td>North America</td>\n",
       "      <td>7.427</td>\n",
       "      <td>1.326290</td>\n",
       "      <td>1.322610</td>\n",
       "      <td>0.905630</td>\n",
       "      <td>0.632970</td>\n",
       "      <td>0.329570</td>\n",
       "      <td>0.458110</td>\n",
       "      <td>2015</td>\n",
       "    </tr>\n",
       "  </tbody>\n",
       "</table>\n",
       "</div>"
      ],
      "text/plain": [
       "       Country          Region  Happiness Score Economy (GDP per Capita)  \\\n",
       "0  Switzerland  Western Europe            7.587                 1.396510   \n",
       "1      Iceland  Western Europe            7.561                 1.302320   \n",
       "2      Denmark  Western Europe            7.527                 1.325480   \n",
       "3       Norway  Western Europe            7.522                 1.459000   \n",
       "4       Canada   North America            7.427                 1.326290   \n",
       "\n",
       "  Social support Health (Life Expectancy)   Freedom  \\\n",
       "0       1.349510                 0.941430  0.665570   \n",
       "1       1.402230                 0.947840  0.628770   \n",
       "2       1.360580                 0.874640  0.649380   \n",
       "3       1.330950                 0.885210  0.669730   \n",
       "4       1.322610                 0.905630  0.632970   \n",
       "\n",
       "  Trust (Government Corruption) Generosity  Year  \n",
       "0                      0.419780   0.296780  2015  \n",
       "1                      0.141450   0.436300  2015  \n",
       "2                      0.483570   0.341390  2015  \n",
       "3                      0.365030   0.346990  2015  \n",
       "4                      0.329570   0.458110  2015  "
      ]
     },
     "execution_count": 657,
     "metadata": {},
     "output_type": "execute_result"
    }
   ],
   "source": [
    "# Uniformiza los valores contenidos en las columnas. Las columnas de \"Happiness Score\" deben de contener apenas 4 digitos\n",
    "# Las columnas que almacenan valores deben tener un logitud de 6 digitos despues de la casa decimal y las columnas que \n",
    "# no poseen los 6 numeros completamos con cero a la derecha.\n",
    "\n",
    "# Los valores en este CSV estan fora de formato, limitamos las columnas de valores a 6 digitos y arrendondamos los valores\n",
    "df['Happiness Score'] = round(df['Happiness Score'], 4)\n",
    "df['Economy (GDP per Capita)'] = round(df['Economy (GDP per Capita)'], 6).apply(format_number)\n",
    "df['Social support'] = round(df['Social support'], 6).apply(format_number)\n",
    "df['Health (Life Expectancy)'] = round(df['Health (Life Expectancy)'], 6).apply(format_number)\n",
    "df['Freedom'] = round(df['Freedom'], 6).apply(format_number)\n",
    "df['Generosity'] = round(df['Generosity'], 6).apply(format_number)\n",
    "df['Trust (Government Corruption)'] = round(df['Trust (Government Corruption)'], 6).apply(format_number)\n",
    "\n",
    "df.head()"
   ]
  },
  {
   "attachments": {},
   "cell_type": "markdown",
   "metadata": {},
   "source": [
    "### <font color=#186a3b>--> Cambiar de posición la columna \"Year\" </font>"
   ]
  },
  {
   "cell_type": "code",
   "execution_count": 658,
   "metadata": {},
   "outputs": [
    {
     "data": {
      "text/html": [
       "<div>\n",
       "<style scoped>\n",
       "    .dataframe tbody tr th:only-of-type {\n",
       "        vertical-align: middle;\n",
       "    }\n",
       "\n",
       "    .dataframe tbody tr th {\n",
       "        vertical-align: top;\n",
       "    }\n",
       "\n",
       "    .dataframe thead th {\n",
       "        text-align: right;\n",
       "    }\n",
       "</style>\n",
       "<table border=\"1\" class=\"dataframe\">\n",
       "  <thead>\n",
       "    <tr style=\"text-align: right;\">\n",
       "      <th></th>\n",
       "      <th>Year</th>\n",
       "      <th>Country</th>\n",
       "      <th>Region</th>\n",
       "      <th>Happiness Score</th>\n",
       "      <th>Economy (GDP per Capita)</th>\n",
       "      <th>Social support</th>\n",
       "      <th>Health (Life Expectancy)</th>\n",
       "      <th>Freedom</th>\n",
       "      <th>Trust (Government Corruption)</th>\n",
       "      <th>Generosity</th>\n",
       "    </tr>\n",
       "  </thead>\n",
       "  <tbody>\n",
       "    <tr>\n",
       "      <th>0</th>\n",
       "      <td>2015</td>\n",
       "      <td>Switzerland</td>\n",
       "      <td>Western Europe</td>\n",
       "      <td>7.587</td>\n",
       "      <td>1.396510</td>\n",
       "      <td>1.349510</td>\n",
       "      <td>0.941430</td>\n",
       "      <td>0.665570</td>\n",
       "      <td>0.419780</td>\n",
       "      <td>0.296780</td>\n",
       "    </tr>\n",
       "    <tr>\n",
       "      <th>1</th>\n",
       "      <td>2015</td>\n",
       "      <td>Iceland</td>\n",
       "      <td>Western Europe</td>\n",
       "      <td>7.561</td>\n",
       "      <td>1.302320</td>\n",
       "      <td>1.402230</td>\n",
       "      <td>0.947840</td>\n",
       "      <td>0.628770</td>\n",
       "      <td>0.141450</td>\n",
       "      <td>0.436300</td>\n",
       "    </tr>\n",
       "    <tr>\n",
       "      <th>2</th>\n",
       "      <td>2015</td>\n",
       "      <td>Denmark</td>\n",
       "      <td>Western Europe</td>\n",
       "      <td>7.527</td>\n",
       "      <td>1.325480</td>\n",
       "      <td>1.360580</td>\n",
       "      <td>0.874640</td>\n",
       "      <td>0.649380</td>\n",
       "      <td>0.483570</td>\n",
       "      <td>0.341390</td>\n",
       "    </tr>\n",
       "    <tr>\n",
       "      <th>3</th>\n",
       "      <td>2015</td>\n",
       "      <td>Norway</td>\n",
       "      <td>Western Europe</td>\n",
       "      <td>7.522</td>\n",
       "      <td>1.459000</td>\n",
       "      <td>1.330950</td>\n",
       "      <td>0.885210</td>\n",
       "      <td>0.669730</td>\n",
       "      <td>0.365030</td>\n",
       "      <td>0.346990</td>\n",
       "    </tr>\n",
       "    <tr>\n",
       "      <th>4</th>\n",
       "      <td>2015</td>\n",
       "      <td>Canada</td>\n",
       "      <td>North America</td>\n",
       "      <td>7.427</td>\n",
       "      <td>1.326290</td>\n",
       "      <td>1.322610</td>\n",
       "      <td>0.905630</td>\n",
       "      <td>0.632970</td>\n",
       "      <td>0.329570</td>\n",
       "      <td>0.458110</td>\n",
       "    </tr>\n",
       "  </tbody>\n",
       "</table>\n",
       "</div>"
      ],
      "text/plain": [
       "   Year      Country          Region  Happiness Score  \\\n",
       "0  2015  Switzerland  Western Europe            7.587   \n",
       "1  2015      Iceland  Western Europe            7.561   \n",
       "2  2015      Denmark  Western Europe            7.527   \n",
       "3  2015       Norway  Western Europe            7.522   \n",
       "4  2015       Canada   North America            7.427   \n",
       "\n",
       "  Economy (GDP per Capita) Social support Health (Life Expectancy)   Freedom  \\\n",
       "0                 1.396510       1.349510                 0.941430  0.665570   \n",
       "1                 1.302320       1.402230                 0.947840  0.628770   \n",
       "2                 1.325480       1.360580                 0.874640  0.649380   \n",
       "3                 1.459000       1.330950                 0.885210  0.669730   \n",
       "4                 1.326290       1.322610                 0.905630  0.632970   \n",
       "\n",
       "  Trust (Government Corruption) Generosity  \n",
       "0                      0.419780   0.296780  \n",
       "1                      0.141450   0.436300  \n",
       "2                      0.483570   0.341390  \n",
       "3                      0.365030   0.346990  \n",
       "4                      0.329570   0.458110  "
      ]
     },
     "execution_count": 658,
     "metadata": {},
     "output_type": "execute_result"
    }
   ],
   "source": [
    "# Extraer la columna 'Year' utilizando el método 'pop'\n",
    "columma_Year = df.pop('Year')\n",
    "\n",
    "# Insertar la columna 'Year' en la primera posición utilizando el método 'insert'\n",
    "df.insert(0, 'Year', columma_Year)\n",
    "df.head()"
   ]
  },
  {
   "cell_type": "code",
   "execution_count": 659,
   "metadata": {},
   "outputs": [
    {
     "data": {
      "text/plain": [
       "Index(['Year', 'Country', 'Region', 'Happiness Score',\n",
       "       'Economy (GDP per Capita)', 'Social support',\n",
       "       'Health (Life Expectancy)', 'Freedom', 'Trust (Government Corruption)',\n",
       "       'Generosity'],\n",
       "      dtype='object')"
      ]
     },
     "execution_count": 659,
     "metadata": {},
     "output_type": "execute_result"
    }
   ],
   "source": [
    "df.columns"
   ]
  },
  {
   "attachments": {},
   "cell_type": "markdown",
   "metadata": {},
   "source": [
    "## <font color=#FF5733>Seleccionar los datos de interés para el proyecto</font>"
   ]
  },
  {
   "cell_type": "code",
   "execution_count": 660,
   "metadata": {},
   "outputs": [
    {
     "data": {
      "text/html": [
       "<div>\n",
       "<style scoped>\n",
       "    .dataframe tbody tr th:only-of-type {\n",
       "        vertical-align: middle;\n",
       "    }\n",
       "\n",
       "    .dataframe tbody tr th {\n",
       "        vertical-align: top;\n",
       "    }\n",
       "\n",
       "    .dataframe thead th {\n",
       "        text-align: right;\n",
       "    }\n",
       "</style>\n",
       "<table border=\"1\" class=\"dataframe\">\n",
       "  <thead>\n",
       "    <tr style=\"text-align: right;\">\n",
       "      <th></th>\n",
       "      <th>Year</th>\n",
       "      <th>Country</th>\n",
       "      <th>Region</th>\n",
       "      <th>Happiness Score</th>\n",
       "      <th>Economy (GDP per Capita)</th>\n",
       "      <th>Social support</th>\n",
       "      <th>Health (Life Expectancy)</th>\n",
       "      <th>Freedom</th>\n",
       "      <th>Trust (Government Corruption)</th>\n",
       "      <th>Generosity</th>\n",
       "    </tr>\n",
       "  </thead>\n",
       "  <tbody>\n",
       "    <tr>\n",
       "      <th>1</th>\n",
       "      <td>2015</td>\n",
       "      <td>Iceland</td>\n",
       "      <td>Western Europe</td>\n",
       "      <td>7.561</td>\n",
       "      <td>1.302320</td>\n",
       "      <td>1.402230</td>\n",
       "      <td>0.947840</td>\n",
       "      <td>0.628770</td>\n",
       "      <td>0.141450</td>\n",
       "      <td>0.436300</td>\n",
       "    </tr>\n",
       "    <tr>\n",
       "      <th>2</th>\n",
       "      <td>2015</td>\n",
       "      <td>Denmark</td>\n",
       "      <td>Western Europe</td>\n",
       "      <td>7.527</td>\n",
       "      <td>1.325480</td>\n",
       "      <td>1.360580</td>\n",
       "      <td>0.874640</td>\n",
       "      <td>0.649380</td>\n",
       "      <td>0.483570</td>\n",
       "      <td>0.341390</td>\n",
       "    </tr>\n",
       "    <tr>\n",
       "      <th>3</th>\n",
       "      <td>2015</td>\n",
       "      <td>Norway</td>\n",
       "      <td>Western Europe</td>\n",
       "      <td>7.522</td>\n",
       "      <td>1.459000</td>\n",
       "      <td>1.330950</td>\n",
       "      <td>0.885210</td>\n",
       "      <td>0.669730</td>\n",
       "      <td>0.365030</td>\n",
       "      <td>0.346990</td>\n",
       "    </tr>\n",
       "    <tr>\n",
       "      <th>5</th>\n",
       "      <td>2015</td>\n",
       "      <td>Finland</td>\n",
       "      <td>Western Europe</td>\n",
       "      <td>7.406</td>\n",
       "      <td>1.290250</td>\n",
       "      <td>1.318260</td>\n",
       "      <td>0.889110</td>\n",
       "      <td>0.641690</td>\n",
       "      <td>0.413720</td>\n",
       "      <td>0.233510</td>\n",
       "    </tr>\n",
       "    <tr>\n",
       "      <th>7</th>\n",
       "      <td>2015</td>\n",
       "      <td>Sweden</td>\n",
       "      <td>Western Europe</td>\n",
       "      <td>7.364</td>\n",
       "      <td>1.331710</td>\n",
       "      <td>1.289070</td>\n",
       "      <td>0.910870</td>\n",
       "      <td>0.659800</td>\n",
       "      <td>0.438440</td>\n",
       "      <td>0.362620</td>\n",
       "    </tr>\n",
       "  </tbody>\n",
       "</table>\n",
       "</div>"
      ],
      "text/plain": [
       "   Year  Country          Region  Happiness Score Economy (GDP per Capita)  \\\n",
       "1  2015  Iceland  Western Europe            7.561                 1.302320   \n",
       "2  2015  Denmark  Western Europe            7.527                 1.325480   \n",
       "3  2015   Norway  Western Europe            7.522                 1.459000   \n",
       "5  2015  Finland  Western Europe            7.406                 1.290250   \n",
       "7  2015   Sweden  Western Europe            7.364                 1.331710   \n",
       "\n",
       "  Social support Health (Life Expectancy)   Freedom  \\\n",
       "1       1.402230                 0.947840  0.628770   \n",
       "2       1.360580                 0.874640  0.649380   \n",
       "3       1.330950                 0.885210  0.669730   \n",
       "5       1.318260                 0.889110  0.641690   \n",
       "7       1.289070                 0.910870  0.659800   \n",
       "\n",
       "  Trust (Government Corruption) Generosity  \n",
       "1                      0.141450   0.436300  \n",
       "2                      0.483570   0.341390  \n",
       "3                      0.365030   0.346990  \n",
       "5                      0.413720   0.233510  \n",
       "7                      0.438440   0.362620  "
      ]
     },
     "execution_count": 660,
     "metadata": {},
     "output_type": "execute_result"
    }
   ],
   "source": [
    "# selecionamos a los países que iremos trabajar en el proyecto\n",
    "paises_seleccionados = ['Denmark', 'Finland', 'Iceland', 'Norway', 'Sweden', 'Spain']\n",
    "\n",
    "# Filtrar el DataFrame utilizando el método \"isin\" de Pandas\n",
    "# df_paises_elegidos = df_traduccido[df_traduccido['PAIS'].isin(paises_seleccionados)]\n",
    "\n",
    "df_paises_elegidos = df[df['Country'].isin(paises_seleccionados)]\n",
    "\n",
    "df_paises_elegidos.head()"
   ]
  },
  {
   "cell_type": "code",
   "execution_count": 661,
   "metadata": {},
   "outputs": [
    {
     "data": {
      "text/html": [
       "<div>\n",
       "<style scoped>\n",
       "    .dataframe tbody tr th:only-of-type {\n",
       "        vertical-align: middle;\n",
       "    }\n",
       "\n",
       "    .dataframe tbody tr th {\n",
       "        vertical-align: top;\n",
       "    }\n",
       "\n",
       "    .dataframe thead th {\n",
       "        text-align: right;\n",
       "    }\n",
       "</style>\n",
       "<table border=\"1\" class=\"dataframe\">\n",
       "  <thead>\n",
       "    <tr style=\"text-align: right;\">\n",
       "      <th></th>\n",
       "      <th>Year</th>\n",
       "      <th>Country</th>\n",
       "      <th>Region</th>\n",
       "      <th>Happiness Score</th>\n",
       "      <th>Economy (GDP per Capita)</th>\n",
       "      <th>Social support</th>\n",
       "      <th>Health (Life Expectancy)</th>\n",
       "      <th>Freedom</th>\n",
       "      <th>Trust (Government Corruption)</th>\n",
       "      <th>Generosity</th>\n",
       "    </tr>\n",
       "  </thead>\n",
       "  <tbody>\n",
       "    <tr>\n",
       "      <th>1262</th>\n",
       "      <td>2023</td>\n",
       "      <td>Denmark</td>\n",
       "      <td>Western Europe</td>\n",
       "      <td>7.586</td>\n",
       "      <td>1.949000</td>\n",
       "      <td>1.548000</td>\n",
       "      <td>0.537000</td>\n",
       "      <td>0.734000</td>\n",
       "      <td>0.525000</td>\n",
       "      <td>0.208000</td>\n",
       "    </tr>\n",
       "    <tr>\n",
       "      <th>1269</th>\n",
       "      <td>2023</td>\n",
       "      <td>Finland</td>\n",
       "      <td>Western Europe</td>\n",
       "      <td>7.804</td>\n",
       "      <td>1.888000</td>\n",
       "      <td>1.585000</td>\n",
       "      <td>0.535000</td>\n",
       "      <td>0.772000</td>\n",
       "      <td>0.535000</td>\n",
       "      <td>0.126000</td>\n",
       "    </tr>\n",
       "    <tr>\n",
       "      <th>1282</th>\n",
       "      <td>2023</td>\n",
       "      <td>Iceland</td>\n",
       "      <td>Western Europe</td>\n",
       "      <td>7.530</td>\n",
       "      <td>1.926000</td>\n",
       "      <td>1.620000</td>\n",
       "      <td>0.559000</td>\n",
       "      <td>0.738000</td>\n",
       "      <td>0.187000</td>\n",
       "      <td>0.250000</td>\n",
       "    </tr>\n",
       "    <tr>\n",
       "      <th>1326</th>\n",
       "      <td>2023</td>\n",
       "      <td>Norway</td>\n",
       "      <td>Western Europe</td>\n",
       "      <td>7.315</td>\n",
       "      <td>1.994000</td>\n",
       "      <td>1.521000</td>\n",
       "      <td>0.544000</td>\n",
       "      <td>0.752000</td>\n",
       "      <td>0.463000</td>\n",
       "      <td>0.212000</td>\n",
       "    </tr>\n",
       "    <tr>\n",
       "      <th>1345</th>\n",
       "      <td>2023</td>\n",
       "      <td>Spain</td>\n",
       "      <td>Western Europe</td>\n",
       "      <td>6.436</td>\n",
       "      <td>1.798000</td>\n",
       "      <td>1.491000</td>\n",
       "      <td>0.567000</td>\n",
       "      <td>0.533000</td>\n",
       "      <td>0.157000</td>\n",
       "      <td>0.101000</td>\n",
       "    </tr>\n",
       "    <tr>\n",
       "      <th>1348</th>\n",
       "      <td>2023</td>\n",
       "      <td>Sweden</td>\n",
       "      <td>Western Europe</td>\n",
       "      <td>7.395</td>\n",
       "      <td>1.921000</td>\n",
       "      <td>1.510000</td>\n",
       "      <td>0.562000</td>\n",
       "      <td>0.754000</td>\n",
       "      <td>0.520000</td>\n",
       "      <td>0.225000</td>\n",
       "    </tr>\n",
       "  </tbody>\n",
       "</table>\n",
       "</div>"
      ],
      "text/plain": [
       "      Year  Country          Region  Happiness Score Economy (GDP per Capita)  \\\n",
       "1262  2023  Denmark  Western Europe            7.586                 1.949000   \n",
       "1269  2023  Finland  Western Europe            7.804                 1.888000   \n",
       "1282  2023  Iceland  Western Europe            7.530                 1.926000   \n",
       "1326  2023   Norway  Western Europe            7.315                 1.994000   \n",
       "1345  2023    Spain  Western Europe            6.436                 1.798000   \n",
       "1348  2023   Sweden  Western Europe            7.395                 1.921000   \n",
       "\n",
       "     Social support Health (Life Expectancy)   Freedom  \\\n",
       "1262       1.548000                 0.537000  0.734000   \n",
       "1269       1.585000                 0.535000  0.772000   \n",
       "1282       1.620000                 0.559000  0.738000   \n",
       "1326       1.521000                 0.544000  0.752000   \n",
       "1345       1.491000                 0.567000  0.533000   \n",
       "1348       1.510000                 0.562000  0.754000   \n",
       "\n",
       "     Trust (Government Corruption) Generosity  \n",
       "1262                      0.525000   0.208000  \n",
       "1269                      0.535000   0.126000  \n",
       "1282                      0.187000   0.250000  \n",
       "1326                      0.463000   0.212000  \n",
       "1345                      0.157000   0.101000  \n",
       "1348                      0.520000   0.225000  "
      ]
     },
     "execution_count": 661,
     "metadata": {},
     "output_type": "execute_result"
    }
   ],
   "source": [
    "df_paises_elegidos.tail(6)"
   ]
  },
  {
   "cell_type": "code",
   "execution_count": 662,
   "metadata": {},
   "outputs": [
    {
     "name": "stdout",
     "output_type": "stream",
     "text": [
      "df_paises_elegidos:  (54, 10) df todos los paises (1368, 10)\n"
     ]
    }
   ],
   "source": [
    "# Cantidad de registros después de elegir solamente los países de interese para el proyecto\n",
    "print(\"df_paises_elegidos: \", df_paises_elegidos.shape, \"df todos los paises\", df.shape)"
   ]
  },
  {
   "cell_type": "code",
   "execution_count": 663,
   "metadata": {},
   "outputs": [
    {
     "data": {
      "text/plain": [
       "Index(['Year', 'Country', 'Region', 'Happiness Score',\n",
       "       'Economy (GDP per Capita)', 'Social support',\n",
       "       'Health (Life Expectancy)', 'Freedom', 'Trust (Government Corruption)',\n",
       "       'Generosity'],\n",
       "      dtype='object')"
      ]
     },
     "execution_count": 663,
     "metadata": {},
     "output_type": "execute_result"
    }
   ],
   "source": [
    "# Nombres de columnas en el DataFrame\n",
    "df_paises_elegidos.columns"
   ]
  },
  {
   "cell_type": "code",
   "execution_count": 664,
   "metadata": {},
   "outputs": [
    {
     "name": "stdout",
     "output_type": "stream",
     "text": [
      "<class 'pandas.core.frame.DataFrame'>\n",
      "Int64Index: 54 entries, 1 to 1348\n",
      "Data columns (total 10 columns):\n",
      " #   Column                         Non-Null Count  Dtype   \n",
      "---  ------                         --------------  -----   \n",
      " 0   Year                           54 non-null     int64   \n",
      " 1   Country                        54 non-null     category\n",
      " 2   Region                         54 non-null     category\n",
      " 3   Happiness Score                54 non-null     float64 \n",
      " 4   Economy (GDP per Capita)       54 non-null     object  \n",
      " 5   Social support                 54 non-null     object  \n",
      " 6   Health (Life Expectancy)       54 non-null     object  \n",
      " 7   Freedom                        54 non-null     object  \n",
      " 8   Trust (Government Corruption)  54 non-null     object  \n",
      " 9   Generosity                     54 non-null     object  \n",
      "dtypes: category(2), float64(1), int64(1), object(6)\n",
      "memory usage: 14.0+ KB\n"
     ]
    }
   ],
   "source": [
    "# Identificación del tipo de columnas en el DataFrame\n",
    "df_paises_elegidos.info()"
   ]
  },
  {
   "cell_type": "code",
   "execution_count": 665,
   "metadata": {},
   "outputs": [
    {
     "data": {
      "text/html": [
       "<div>\n",
       "<style scoped>\n",
       "    .dataframe tbody tr th:only-of-type {\n",
       "        vertical-align: middle;\n",
       "    }\n",
       "\n",
       "    .dataframe tbody tr th {\n",
       "        vertical-align: top;\n",
       "    }\n",
       "\n",
       "    .dataframe thead th {\n",
       "        text-align: right;\n",
       "    }\n",
       "</style>\n",
       "<table border=\"1\" class=\"dataframe\">\n",
       "  <thead>\n",
       "    <tr style=\"text-align: right;\">\n",
       "      <th></th>\n",
       "      <th>Year</th>\n",
       "      <th>Happiness Score</th>\n",
       "    </tr>\n",
       "  </thead>\n",
       "  <tbody>\n",
       "    <tr>\n",
       "      <th>count</th>\n",
       "      <td>54.00</td>\n",
       "      <td>54.00</td>\n",
       "    </tr>\n",
       "    <tr>\n",
       "      <th>mean</th>\n",
       "      <td>2019.00</td>\n",
       "      <td>7.33</td>\n",
       "    </tr>\n",
       "    <tr>\n",
       "      <th>std</th>\n",
       "      <td>2.61</td>\n",
       "      <td>0.44</td>\n",
       "    </tr>\n",
       "    <tr>\n",
       "      <th>min</th>\n",
       "      <td>2015.00</td>\n",
       "      <td>6.31</td>\n",
       "    </tr>\n",
       "    <tr>\n",
       "      <th>25%</th>\n",
       "      <td>2017.00</td>\n",
       "      <td>7.35</td>\n",
       "    </tr>\n",
       "    <tr>\n",
       "      <th>50%</th>\n",
       "      <td>2019.00</td>\n",
       "      <td>7.50</td>\n",
       "    </tr>\n",
       "    <tr>\n",
       "      <th>75%</th>\n",
       "      <td>2021.00</td>\n",
       "      <td>7.56</td>\n",
       "    </tr>\n",
       "    <tr>\n",
       "      <th>max</th>\n",
       "      <td>2023.00</td>\n",
       "      <td>7.84</td>\n",
       "    </tr>\n",
       "  </tbody>\n",
       "</table>\n",
       "</div>"
      ],
      "text/plain": [
       "          Year  Happiness Score\n",
       "count    54.00            54.00\n",
       "mean   2019.00             7.33\n",
       "std       2.61             0.44\n",
       "min    2015.00             6.31\n",
       "25%    2017.00             7.35\n",
       "50%    2019.00             7.50\n",
       "75%    2021.00             7.56\n",
       "max    2023.00             7.84"
      ]
     },
     "execution_count": 665,
     "metadata": {},
     "output_type": "execute_result"
    }
   ],
   "source": [
    "# Resumen: Estadística Descriptiva\n",
    "df_paises_elegidos.describe().round(2)"
   ]
  },
  {
   "cell_type": "code",
   "execution_count": 666,
   "metadata": {},
   "outputs": [
    {
     "data": {
      "text/plain": [
       "Year                             0\n",
       "Country                          0\n",
       "Region                           0\n",
       "Happiness Score                  0\n",
       "Economy (GDP per Capita)         0\n",
       "Social support                   0\n",
       "Health (Life Expectancy)         0\n",
       "Freedom                          0\n",
       "Trust (Government Corruption)    0\n",
       "Generosity                       0\n",
       "dtype: int64"
      ]
     },
     "execution_count": 666,
     "metadata": {},
     "output_type": "execute_result"
    }
   ],
   "source": [
    "# Verificar si hay valores nulos\n",
    "df_paises_elegidos.isnull().sum()"
   ]
  },
  {
   "attachments": {},
   "cell_type": "markdown",
   "metadata": {},
   "source": [
    "## <font color=#FF5733>Generar nuevo CSV con los datos cargados y preprocesados</font>"
   ]
  },
  {
   "cell_type": "code",
   "execution_count": 667,
   "metadata": {},
   "outputs": [],
   "source": [
    "df_paises_elegidos.to_csv(ruta_nuevoCSV, index=False)"
   ]
  }
 ],
 "metadata": {
  "kernelspec": {
   "display_name": "nombre_kernel",
   "language": "python",
   "name": "nombre_kernel"
  },
  "language_info": {
   "codemirror_mode": {
    "name": "ipython",
    "version": 3
   },
   "file_extension": ".py",
   "mimetype": "text/x-python",
   "name": "python",
   "nbconvert_exporter": "python",
   "pygments_lexer": "ipython3",
   "version": "3.10.10"
  },
  "orig_nbformat": 4
 },
 "nbformat": 4,
 "nbformat_minor": 2
}
