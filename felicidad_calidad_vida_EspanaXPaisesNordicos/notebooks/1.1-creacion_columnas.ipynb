{
 "cells": [
  {
   "attachments": {},
   "cell_type": "markdown",
   "metadata": {},
   "source": [
    "# CREAR COLUMNA EN EL CSV PAIS_NORDICO_SI_NO para separar las informaciones de comparaciones con España."
   ]
  }
 ],
 "metadata": {
  "language_info": {
   "name": "python"
  },
  "orig_nbformat": 4
 },
 "nbformat": 4,
 "nbformat_minor": 2
}
