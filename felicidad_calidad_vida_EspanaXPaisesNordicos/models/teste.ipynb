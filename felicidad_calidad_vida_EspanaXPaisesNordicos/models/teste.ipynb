{
 "cells": [
  {
   "cell_type": "markdown",
   "metadata": {},
   "source": [
    "En este ejemplo, se cargan los datos de los archivos CSV de Kaggle sobre la felicidad correspondientes a los años 2019 y 2029. Se utiliza la regresión lineal como algoritmo de aprendizaje supervisado para predecir el ranking de la expectativa de vida en 10 años. \n",
    "\n",
    "Se seleccionan las columnas relevantes (como el PIB, el apoyo social y la esperanza de vida saludable) como características (X) y el puntaje de felicidad (LifeLadder) como la variable objetivo (y). Luego, se divide el conjunto de datos en conjuntos de entrenamiento y prueba.\n",
    "\n",
    "Después de entrenar el modelo de regresión lineal, se utiliza para hacer predicciones sobre los datos del año 2029. Las predicciones se ordenan en función del puntaje de felicidad previsto (LifeLadder) y se muestran los resultados.\n",
    "\n",
    "Ten en cuenta que este es solo un ejemplo básico y se pueden realizar mejoras adicionales, como la selección de características, la optimización de hiperparámetros y la evaluación del rendimiento del modelo. Además, asegúrate de proporcionar la ruta correcta a los archivos CSV de Kaggle en tu entorno."
   ]
  },
  {
   "cell_type": "code",
   "execution_count": null,
   "metadata": {},
   "outputs": [],
   "source": [
    "import numpy as np\n",
    "import pandas as pd\n",
    "import matplotlib.pyplot as plt\n",
    "import seaborn as sns\n",
    "\n",
    "from sklearn.linear_model import LinearRegression\n",
    "from sklearn.model_selection import train_test_split"
   ]
  },
  {
   "cell_type": "code",
   "execution_count": null,
   "metadata": {},
   "outputs": [],
   "source": [
    "\n",
    "# Definir la ruta donde se encuentra la carpeta y los CSVs que iremos trabajar\n",
    "ruta_datos_preprocesados = '../data/ficheros_procesados/datos_preprocesados_limpios.csv'\n",
    "\n",
    "# Creación del DataFrame\n",
    "happiness_2019 = pd.read_csv(ruta_datos_preprocesados, delimiter=\",\", engine=\"python\")\n"
   ]
  },
  {
   "cell_type": "code",
   "execution_count": null,
   "metadata": {},
   "outputs": [],
   "source": [
    "\n",
    "# Preparar los datos de entrenamiento y prueba\n",
    "X = happiness_2019[['GDP', 'SocialSupport', 'HealthyLifeExpectancy']]\n",
    "y = happiness_2019['LifeLadder']\n",
    "\n",
    "# Dividir los datos en conjuntos de entrenamiento y prueba\n",
    "X_train, X_test, y_train, y_test = train_test_split(X, y, test_size=0.2, random_state=42)\n",
    "\n",
    "# Crear y entrenar el modelo de regresión lineal\n",
    "model = LinearRegression()\n",
    "model.fit(X_train, y_train)\n",
    "\n",
    "# Predecir el ranking de la expectativa de vida en 10 años\n",
    "X_future = happiness_2029[['GDP', 'SocialSupport', 'HealthyLifeExpectancy']]\n",
    "y_future = model.predict(X_future)\n",
    "\n",
    "# Mostrar los resultados de la predicción\n",
    "predictions = pd.DataFrame({'Country': happiness_2029['Country'], 'LifeLadder (2029)': y_future})\n",
    "predictions = predictions.sort_values('LifeLadder (2029)', ascending=False)\n",
    "print(predictions)\n"
   ]
  }
 ],
 "metadata": {
  "language_info": {
   "name": "python"
  },
  "orig_nbformat": 4
 },
 "nbformat": 4,
 "nbformat_minor": 2
}
