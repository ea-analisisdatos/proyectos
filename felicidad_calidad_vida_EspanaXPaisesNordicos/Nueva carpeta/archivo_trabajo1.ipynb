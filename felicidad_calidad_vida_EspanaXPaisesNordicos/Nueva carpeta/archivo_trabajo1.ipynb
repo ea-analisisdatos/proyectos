{
 "cells": [
  {
   "attachments": {},
   "cell_type": "markdown",
   "metadata": {},
   "source": [
    " Análisis de datos de Felicidad Base de datos 1 utilizando NumPy\n",
    "\n",
    "https://www.kaggle.com/datasets/sougatapramanick/happiness-index-2018-2019\n",
    " "
   ]
  },
  {
   "attachments": {},
   "cell_type": "markdown",
   "metadata": {},
   "source": [
    "\n",
    "1. Introducción:\n",
    "En el dataset a estudiar contamos con las siguientes variables:\n",
    "\n",
    "Ranking\n",
    "País o Región\n",
    "Puntaje\n",
    "PIB per cápita\n",
    "Apoyo Social\n",
    "Expectativa de vida saludable\n",
    "Libertad para tomar decisiones en la vida\n",
    "Generosidad\n",
    "Percepción de Corrupción\n",
    "Ahora para analizar sobre la felicidad de la población, muchas veces asumimos variables que podrían influir en la felicidad de la población como la generosidad de las personas, la corrupción percibida o la libertad para tomar desiciones en la vida, pero en este análisis demostraremos que tal vez la intuición puede fallarnos y demostraremos con números las variables más influyentes sobre la felicidad de las personas y además encontraremos variables que intuitivamente pensaríamos que influye en la felicidad, pero en la realidad no lo hace."
   ]
  },
  {
   "attachments": {},
   "cell_type": "markdown",
   "metadata": {},
   "source": [
    "Tablas independientes como 'Clasificación general', 'PIB per cápita', 'Apoyo social', 'Esperanza de vida saludable', 'Libertad para tomar decisiones de vida', 'Generosidad' y 'Percepciones de corrupción'. El objetivo de este estudio es investigar el impacto de estas variables independientes en el nivel de felicidad de los individuos durante estos dos años. Además, se realizó un análisis por país para examinar las variaciones en las variables entre el país más feliz de la clasificación superior y la India. Se emplearon múltiples visualizaciones para identificar e ilustrar estas diferencias de manera clara y concisa.\n",
    "\n",
    "Variables dependientes e independientes: La primera variable independiente es el PIB per cápita, que representa el bienestar económico de los residentes de un país. La segunda variable, libertad para tomar decisiones de vida, representa el nivel de autonomía y control que los individuos tienen sobre sus vidas. La tercera variable, esperanza de vida en salud, indica el tiempo que las personas pueden esperar vivir con buena salud. La cuarta variable, percepción de la corrupción, refleja el grado en que se percibe que la corrupción prevalece en una sociedad. Finalmente, la quinta variable, apoyo social, mide hasta qué punto las personas tienen acceso al apoyo de familiares, amigos y otras redes sociales.\n",
    "\n",
    "Al examinar la relación entre estas variables independientes y el Índice de Felicidad, el estudio pretende contribuir a la comprensión de los factores que afectan los niveles de felicidad de las personas. Los resultados de este estudio podrían ser útiles para los formuladores de políticas y otras partes interesadas en la identificación de áreas de intervención y mejora para mejorar el bienestar general de la población.\n",
    "\n",
    "Descripción general de los datos (2018 y 2019)\n",
    "\n",
    "Clasificación general: Lista de clasificaciones de diferentes países del 1 al 156\n",
    "País o región: Lista de nombres de diferentes países.\n",
    "Puntuación: Lista de puntuaciones de felicidad de diferentes países.\n",
    "PIB per cápita: La puntuación del PIB per cápita de diferentes países.\n",
    "Apoyo social: El apoyo social de diferentes países.\n",
    "Esperanza de vida saludable: La esperanza de vida saludable de diferentes países.\n",
    "Libertad para tomar decisiones de vida: La puntuación de la percepción de la libertad de diferentes países.\n",
    "Generosidad: Puntaje de generosidad (la cualidad de ser amable y generoso) de diferentes países.\n",
    "Percepciones de corrupción: La puntuación de la percepción de corrupción en diferentes países.\n",
    "Abstracto\n",
    "\n",
    "Este estudio tiene como objetivo investigar la relación entre el Índice de Felicidad y varias variables independientes, a saber, el PIB per cápita, el apoyo social, la esperanza de vida saludable, la libertad para tomar decisiones en la vida y las percepciones de corrupción, en los años 2018 y 2019. Al analizar estos variables, buscamos identificar los factores que influyen significativamente en los niveles de felicidad de los individuos y contribuir a una mejor comprensión de los factores que impactan el bienestar general. El estudio utilizó un análisis de regresión para examinar la importancia estadística de estas variables y su impacto en la variable dependiente, el índice de felicidad. Los resultados indican que todas las variables independientes influyen significativamente en el Índice de Felicidad y pueden explicar hasta el 98,6% y el 98,1% de la varianza en la variable dependiente en 2018 y 2019, respectivamente. Además, el análisis sugiere que el apoyo social y el PIB per cápita son los principales parámetros que diferencian a Finlandia de India en términos de niveles de felicidad. Los hallazgos de este estudio podrían ser útiles para los responsables políticos y las partes interesadas en la identificación de áreas de intervención y mejora para mejorar el bienestar general de la población.\n",
    "\n",
    "Palabras clave: Índice de Felicidad, PIB per cápita, apoyo social, esperanza de vida saludable, libertad para tomar decisiones en la vida, percepciones de corrupción, análisis de regresión, Finlandia, India.\n",
    "\n",
    "Introducción:\n",
    "\n",
    "La búsqueda de la felicidad ha sido un tema central en las sociedades humanas a lo largo de la historia. El Índice de Felicidad es una medida de bienestar que ha ganado una atención considerable en los últimos años como indicador de la prosperidad y calidad de vida general de un país. La puntuación del índice de felicidad se calcula en función de varias variables, incluido el PIB per cápita, el apoyo social, la esperanza de vida saludable, la libertad para tomar decisiones en la vida, las percepciones de corrupción y la generosidad.\n",
    "\n",
    "El propósito de este estudio es investigar el impacto de estas variables en el Índice de Felicidad en 2018 y 2019 e identificar los factores que influyen significativamente en los niveles de felicidad de las personas. El estudio tiene como objetivo contribuir a la comprensión de los factores que afectan el bienestar general y brindar información a los responsables políticos y las partes interesadas para identificar áreas de intervención y mejora.\n",
    "\n",
    "Metodología:\n",
    "\n",
    "El estudio utilizó un análisis de regresión para examinar la relación entre el Índice de Felicidad y las variables independientes, a saber, el PIB per cápita, el apoyo social, la esperanza de vida saludable, la libertad para tomar decisiones en la vida y las percepciones de corrupción. Los datos para este estudio se obtuvieron del Informe Mundial de la Felicidad para los años 2018 y 2019. El análisis se realizó utilizando la programación Python y todas las visualizaciones se crearon utilizando la misma.\n",
    "\n",
    "Resultados:\n",
    "\n",
    "El análisis de regresión reveló que todas las variables independientes influyen significativamente en la puntuación del índice de felicidad tanto en 2018 como en 2019. Los valores de R cuadrado ajustados de 0,986 y 0,981 en 2018 y 2019, respectivamente, indican un modelo robusto capaz de explicar una gran proporción de la varianza en la variable dependiente. Además, los valores de p asociados con las estadísticas F fueron inferiores a 0,05, lo que indica que el modelo es estadísticamente significativo y fiable.\n",
    "\n",
    "En primer lugar, se realizó un análisis de regresión para el conjunto de datos \"Índice de felicidad 2018\". Aquí, el modelo de regresión indica que las variables independientes, a saber, el PIB per cápita, el apoyo social, la libertad para tomar decisiones en la vida, la generosidad y las percepciones de corrupción, influyen significativamente en la variable dependiente, que es el índice de felicidad. Este hallazgo sugiere que variaciones en las variables independientes antes mencionadas pueden afectar positivamente considerablemente el nivel de felicidad en una población determinada. Cabe señalar que todas las variables independientes tienen valores de p inferiores a 0,05, lo que indica que son estadísticamente significativas en el modelo. Además, el valor de R cuadrado ajustado de 0,986 es indicativo de un modelo robusto, que puede explicar el 98,6 % de la varianza en la variable dependiente. Además, el valor p asociado con las estadísticas F también es inferior a 0,05, lo que fortalece aún más la evidencia de que el modelo es significativo y capaz de producir resultados confiables. En general, estos hallazgos sugieren que el modelo de regresión es válido y se puede usar para hacer predicciones precisas sobre el índice de felicidad en función de las variables independientes seleccionadas.\n",
    "\n",
    "A partir de entonces, se realizó otro análisis de regresión para el conjunto de datos \"Índice de felicidad 2019\" para investigar la influencia del apoyo social, la libertad para tomar decisiones en la vida, la generosidad y las percepciones de corrupción en el puntaje del índice de felicidad. El análisis reveló que todas las variables independientes influyeron significativamente en la variable dependiente, lo que indica que la puntuación del índice de felicidad varió mucho en función de estos factores. La significación estadística de estas variables fue confirmada por un valor de p de menos de 0,05. La robustez del modelo también se demostró mediante un valor de R cuadrado ajustado de 0,981. Además, el valor p asociado con las estadísticas F fue inferior a 0,05, lo que sugiere que el modelo era bueno. Estos hallazgos sugieren que los legisladores y las organizaciones podrían enfocarse en estas variables independientes para mejorar los niveles generales de felicidad.\n",
    "\n",
    "Además, el análisis por país mostró que Finlandia tenía niveles significativamente más altos de PIB per cápita y apoyo social en comparación con India, que fueron los dos factores principales que contribuyeron a la diferencia en los niveles de felicidad entre los dos países.\n",
    "\n",
    "Conclusión:\n",
    "el estudio concluye que las variables independientes, a saber, el PIB per cápita, el apoyo social, la esperanza de vida saludable, la libertad para tomar decisiones en la vida y las percepciones de corrupción, influyen significativamente en el Índice de Felicidad tanto en 2018 como en 2019. Los resultados sugieren que los responsables políticos y las partes interesadas podrían enfocarse en estas variables para mejorar los niveles generales de bienestar y felicidad. El análisis también destaca la importancia del PIB per cápita y el apoyo social para determinar el índice de felicidad y diferenciar los niveles de felicidad de los países, como lo demuestra la comparación de Finlandia e India.\n",
    "\n",
    "El estudio contribuye a la comprensión de los factores que afectan los niveles de felicidad de las personas y proporciona información para los responsables políticos y las partes interesadas en la identificación de áreas de intervención y mejora."
   ]
  },
  {
   "attachments": {},
   "cell_type": "markdown",
   "metadata": {},
   "source": [
    "Table of Contents\n",
    "Cargando Datos\n",
    "1. Introducción\n",
    "2. Análisis sobre el Dataset\n",
    "3. Limpieza de Datos\n",
    "4. Análisis Exploratorio de Datos (AED)\n",
    "5. Gráfico de Mapas\n",
    "6. Conclusiones"
   ]
  },
  {
   "cell_type": "code",
   "execution_count": 19,
   "metadata": {},
   "outputs": [],
   "source": [
    "import pandas as pd\n",
    "import numpy as np"
   ]
  },
  {
   "cell_type": "code",
   "execution_count": 54,
   "metadata": {},
   "outputs": [
    {
     "data": {
      "text/plain": [
       "(312, 10)"
      ]
     },
     "execution_count": 54,
     "metadata": {},
     "output_type": "execute_result"
    }
   ],
   "source": [
    "df = pd.read_csv('../data/report_2018-2019.csv')\n",
    "df.shape"
   ]
  },
  {
   "cell_type": "code",
   "execution_count": 61,
   "metadata": {},
   "outputs": [
    {
     "data": {
      "text/plain": [
       "array([3, 3, 4, 4, 5])"
      ]
     },
     "execution_count": 61,
     "metadata": {},
     "output_type": "execute_result"
    }
   ],
   "source": [
    "Years = np.genfromtxt('../data/report_2018-2019.csv', \n",
    "        usecols = (3), dtype=int, \n",
    "        skip_header=1, delimiter=',', invalid_raise=False)\n",
    "Years[:5]"
   ]
  },
  {
   "cell_type": "code",
   "execution_count": 62,
   "metadata": {},
   "outputs": [
    {
     "data": {
      "text/plain": [
       "array([3, 3, 4, 4, 5, 5, 3, 6, 6, 4, 4, 7, 7, 7, 7, 5, 5, 6, 6, 4, 4, 5,\n",
       "       5, 6, 6, 5, 4, 4, 5, 5, 5, 5, 5, 5, 3, 3, 6, 6, 5, 4, 4, 4, 3, 2,\n",
       "       4, 4, 5, 4, 7, 7, 3, 3, 4, 4, 6, 6, 5, 5, 6, 6, 3, 4, 4, 4, 4, 7,\n",
       "       7, 5, 5, 6, 5, 6, 6, 7, 7, 5, 5, 6, 5, 4, 4, 6, 6, 5, 5, 4, 4, 7,\n",
       "       7, 6, 6, 4, 4, 4, 4, 4, 6, 6, 4, 4, 5, 5, 6, 6, 4, 3, 3, 3, 5, 5,\n",
       "       5, 5, 5, 5, 7, 7, 4, 4, 5, 5, 4, 4, 4, 4, 7, 6, 7, 6, 6, 6, 4, 4,\n",
       "       5, 5, 5, 5, 4, 5, 5, 5, 4, 4, 6, 5, 6, 6, 5, 5, 4, 4, 5, 5, 5, 5,\n",
       "       3, 3, 3, 3, 5, 5, 6, 5, 7, 6, 5, 3, 3, 3, 3, 5, 6, 4, 4, 6, 6, 4,\n",
       "       4, 5, 5, 6, 6, 5, 5, 5, 5, 5, 5, 5, 5, 4, 4, 4, 4, 4, 4, 4, 4, 7,\n",
       "       7, 7, 7, 6, 6, 4, 4, 5, 5, 5, 5, 5, 7, 7, 5, 5, 4, 4, 6, 6, 5, 5,\n",
       "       5, 5, 5, 5, 6, 6, 5, 5, 6, 6, 6, 5, 5, 5, 3, 3, 6, 6, 4, 4, 5, 5,\n",
       "       4, 4, 6, 6, 6, 6, 6, 5, 4, 4, 4, 4, 5, 5, 2, 3, 6, 6, 4, 4, 4, 4,\n",
       "       7, 7, 7, 7, 3, 3, 6, 6, 5, 5, 3, 3, 6, 6, 4, 3, 6, 6, 4, 4, 5, 5,\n",
       "       5, 5, 4, 4, 4, 4, 6, 6, 7, 7, 6, 6, 6, 6, 6, 6, 4, 4, 5, 5, 3, 3,\n",
       "       4, 4, 3, 3])"
      ]
     },
     "execution_count": 62,
     "metadata": {},
     "output_type": "execute_result"
    }
   ],
   "source": [
    "\n",
    "np.set_printoptions(suppress=True)\n",
    "Years"
   ]
  },
  {
   "cell_type": "code",
   "execution_count": 39,
   "metadata": {},
   "outputs": [
    {
     "data": {
      "text/html": [
       "<div>\n",
       "<style scoped>\n",
       "    .dataframe tbody tr th:only-of-type {\n",
       "        vertical-align: middle;\n",
       "    }\n",
       "\n",
       "    .dataframe tbody tr th {\n",
       "        vertical-align: top;\n",
       "    }\n",
       "\n",
       "    .dataframe thead th {\n",
       "        text-align: right;\n",
       "    }\n",
       "</style>\n",
       "<table border=\"1\" class=\"dataframe\">\n",
       "  <thead>\n",
       "    <tr style=\"text-align: right;\">\n",
       "      <th></th>\n",
       "      <th>Overall rank</th>\n",
       "      <th>Country or region</th>\n",
       "      <th>Year</th>\n",
       "      <th>Score</th>\n",
       "      <th>GDP per capita</th>\n",
       "      <th>Social support</th>\n",
       "      <th>Healthy life expectancy</th>\n",
       "      <th>Freedom to make life choices</th>\n",
       "      <th>Generosity</th>\n",
       "      <th>Perceptions of corruption</th>\n",
       "    </tr>\n",
       "  </thead>\n",
       "  <tbody>\n",
       "    <tr>\n",
       "      <th>0</th>\n",
       "      <td>154</td>\n",
       "      <td>Afghanistan</td>\n",
       "      <td>2019</td>\n",
       "      <td>3.203</td>\n",
       "      <td>0.350</td>\n",
       "      <td>0.517</td>\n",
       "      <td>0.361</td>\n",
       "      <td>0.000</td>\n",
       "      <td>0.158</td>\n",
       "      <td>0.025</td>\n",
       "    </tr>\n",
       "    <tr>\n",
       "      <th>1</th>\n",
       "      <td>145</td>\n",
       "      <td>Afghanistan</td>\n",
       "      <td>2018</td>\n",
       "      <td>3.632</td>\n",
       "      <td>0.332</td>\n",
       "      <td>0.537</td>\n",
       "      <td>0.255</td>\n",
       "      <td>0.085</td>\n",
       "      <td>0.191</td>\n",
       "      <td>0.036</td>\n",
       "    </tr>\n",
       "    <tr>\n",
       "      <th>2</th>\n",
       "      <td>107</td>\n",
       "      <td>Albania</td>\n",
       "      <td>2019</td>\n",
       "      <td>4.719</td>\n",
       "      <td>0.947</td>\n",
       "      <td>0.848</td>\n",
       "      <td>0.874</td>\n",
       "      <td>0.383</td>\n",
       "      <td>0.178</td>\n",
       "      <td>0.027</td>\n",
       "    </tr>\n",
       "  </tbody>\n",
       "</table>\n",
       "</div>"
      ],
      "text/plain": [
       "   Overall rank Country or region  Year  Score  GDP per capita  \\\n",
       "0           154       Afghanistan  2019  3.203           0.350   \n",
       "1           145       Afghanistan  2018  3.632           0.332   \n",
       "2           107           Albania  2019  4.719           0.947   \n",
       "\n",
       "   Social support  Healthy life expectancy  Freedom to make life choices  \\\n",
       "0           0.517                    0.361                         0.000   \n",
       "1           0.537                    0.255                         0.085   \n",
       "2           0.848                    0.874                         0.383   \n",
       "\n",
       "   Generosity  Perceptions of corruption  \n",
       "0       0.158                      0.025  \n",
       "1       0.191                      0.036  \n",
       "2       0.178                      0.027  "
      ]
     },
     "execution_count": 39,
     "metadata": {},
     "output_type": "execute_result"
    }
   ],
   "source": [
    "df = pd.read_csv('../data/report_2018-2019.csv')\n",
    "df.head(3)"
   ]
  },
  {
   "cell_type": "code",
   "execution_count": 14,
   "metadata": {},
   "outputs": [
    {
     "data": {
      "text/html": [
       "<div>\n",
       "<style scoped>\n",
       "    .dataframe tbody tr th:only-of-type {\n",
       "        vertical-align: middle;\n",
       "    }\n",
       "\n",
       "    .dataframe tbody tr th {\n",
       "        vertical-align: top;\n",
       "    }\n",
       "\n",
       "    .dataframe thead th {\n",
       "        text-align: right;\n",
       "    }\n",
       "</style>\n",
       "<table border=\"1\" class=\"dataframe\">\n",
       "  <thead>\n",
       "    <tr style=\"text-align: right;\">\n",
       "      <th></th>\n",
       "      <th>Overall rank</th>\n",
       "      <th>Country or region</th>\n",
       "      <th>Year</th>\n",
       "      <th>Score</th>\n",
       "      <th>GDP per capita</th>\n",
       "      <th>Social support</th>\n",
       "      <th>Healthy life expectancy</th>\n",
       "      <th>Freedom to make life choices</th>\n",
       "      <th>Generosity</th>\n",
       "      <th>Perceptions of corruption</th>\n",
       "    </tr>\n",
       "  </thead>\n",
       "  <tbody>\n",
       "    <tr>\n",
       "      <th>0</th>\n",
       "      <td>False</td>\n",
       "      <td>False</td>\n",
       "      <td>False</td>\n",
       "      <td>False</td>\n",
       "      <td>False</td>\n",
       "      <td>False</td>\n",
       "      <td>False</td>\n",
       "      <td>False</td>\n",
       "      <td>False</td>\n",
       "      <td>False</td>\n",
       "    </tr>\n",
       "    <tr>\n",
       "      <th>1</th>\n",
       "      <td>False</td>\n",
       "      <td>False</td>\n",
       "      <td>False</td>\n",
       "      <td>False</td>\n",
       "      <td>False</td>\n",
       "      <td>False</td>\n",
       "      <td>False</td>\n",
       "      <td>False</td>\n",
       "      <td>False</td>\n",
       "      <td>False</td>\n",
       "    </tr>\n",
       "    <tr>\n",
       "      <th>2</th>\n",
       "      <td>False</td>\n",
       "      <td>False</td>\n",
       "      <td>False</td>\n",
       "      <td>False</td>\n",
       "      <td>False</td>\n",
       "      <td>False</td>\n",
       "      <td>False</td>\n",
       "      <td>False</td>\n",
       "      <td>False</td>\n",
       "      <td>False</td>\n",
       "    </tr>\n",
       "    <tr>\n",
       "      <th>3</th>\n",
       "      <td>False</td>\n",
       "      <td>False</td>\n",
       "      <td>False</td>\n",
       "      <td>False</td>\n",
       "      <td>False</td>\n",
       "      <td>False</td>\n",
       "      <td>False</td>\n",
       "      <td>False</td>\n",
       "      <td>False</td>\n",
       "      <td>False</td>\n",
       "    </tr>\n",
       "    <tr>\n",
       "      <th>4</th>\n",
       "      <td>False</td>\n",
       "      <td>False</td>\n",
       "      <td>False</td>\n",
       "      <td>False</td>\n",
       "      <td>False</td>\n",
       "      <td>False</td>\n",
       "      <td>False</td>\n",
       "      <td>False</td>\n",
       "      <td>False</td>\n",
       "      <td>False</td>\n",
       "    </tr>\n",
       "    <tr>\n",
       "      <th>...</th>\n",
       "      <td>...</td>\n",
       "      <td>...</td>\n",
       "      <td>...</td>\n",
       "      <td>...</td>\n",
       "      <td>...</td>\n",
       "      <td>...</td>\n",
       "      <td>...</td>\n",
       "      <td>...</td>\n",
       "      <td>...</td>\n",
       "      <td>...</td>\n",
       "    </tr>\n",
       "    <tr>\n",
       "      <th>307</th>\n",
       "      <td>False</td>\n",
       "      <td>False</td>\n",
       "      <td>False</td>\n",
       "      <td>False</td>\n",
       "      <td>False</td>\n",
       "      <td>False</td>\n",
       "      <td>False</td>\n",
       "      <td>False</td>\n",
       "      <td>False</td>\n",
       "      <td>False</td>\n",
       "    </tr>\n",
       "    <tr>\n",
       "      <th>308</th>\n",
       "      <td>False</td>\n",
       "      <td>False</td>\n",
       "      <td>False</td>\n",
       "      <td>False</td>\n",
       "      <td>False</td>\n",
       "      <td>False</td>\n",
       "      <td>False</td>\n",
       "      <td>False</td>\n",
       "      <td>False</td>\n",
       "      <td>False</td>\n",
       "    </tr>\n",
       "    <tr>\n",
       "      <th>309</th>\n",
       "      <td>False</td>\n",
       "      <td>False</td>\n",
       "      <td>False</td>\n",
       "      <td>False</td>\n",
       "      <td>False</td>\n",
       "      <td>False</td>\n",
       "      <td>False</td>\n",
       "      <td>False</td>\n",
       "      <td>False</td>\n",
       "      <td>False</td>\n",
       "    </tr>\n",
       "    <tr>\n",
       "      <th>310</th>\n",
       "      <td>False</td>\n",
       "      <td>False</td>\n",
       "      <td>False</td>\n",
       "      <td>False</td>\n",
       "      <td>False</td>\n",
       "      <td>False</td>\n",
       "      <td>False</td>\n",
       "      <td>False</td>\n",
       "      <td>False</td>\n",
       "      <td>False</td>\n",
       "    </tr>\n",
       "    <tr>\n",
       "      <th>311</th>\n",
       "      <td>False</td>\n",
       "      <td>False</td>\n",
       "      <td>False</td>\n",
       "      <td>False</td>\n",
       "      <td>False</td>\n",
       "      <td>False</td>\n",
       "      <td>False</td>\n",
       "      <td>False</td>\n",
       "      <td>False</td>\n",
       "      <td>False</td>\n",
       "    </tr>\n",
       "  </tbody>\n",
       "</table>\n",
       "<p>312 rows × 10 columns</p>\n",
       "</div>"
      ],
      "text/plain": [
       "     Overall rank  Country or region   Year  Score  GDP per capita  \\\n",
       "0           False              False  False  False           False   \n",
       "1           False              False  False  False           False   \n",
       "2           False              False  False  False           False   \n",
       "3           False              False  False  False           False   \n",
       "4           False              False  False  False           False   \n",
       "..            ...                ...    ...    ...             ...   \n",
       "307         False              False  False  False           False   \n",
       "308         False              False  False  False           False   \n",
       "309         False              False  False  False           False   \n",
       "310         False              False  False  False           False   \n",
       "311         False              False  False  False           False   \n",
       "\n",
       "     Social support  Healthy life expectancy  Freedom to make life choices  \\\n",
       "0             False                    False                         False   \n",
       "1             False                    False                         False   \n",
       "2             False                    False                         False   \n",
       "3             False                    False                         False   \n",
       "4             False                    False                         False   \n",
       "..              ...                      ...                           ...   \n",
       "307           False                    False                         False   \n",
       "308           False                    False                         False   \n",
       "309           False                    False                         False   \n",
       "310           False                    False                         False   \n",
       "311           False                    False                         False   \n",
       "\n",
       "     Generosity  Perceptions of corruption  \n",
       "0         False                      False  \n",
       "1         False                      False  \n",
       "2         False                      False  \n",
       "3         False                      False  \n",
       "4         False                      False  \n",
       "..          ...                        ...  \n",
       "307       False                      False  \n",
       "308       False                      False  \n",
       "309       False                      False  \n",
       "310       False                      False  \n",
       "311       False                      False  \n",
       "\n",
       "[312 rows x 10 columns]"
      ]
     },
     "execution_count": 14,
     "metadata": {},
     "output_type": "execute_result"
    }
   ],
   "source": [
    "df.isnull()# valores faltantes"
   ]
  },
  {
   "cell_type": "code",
   "execution_count": 15,
   "metadata": {},
   "outputs": [
    {
     "data": {
      "text/plain": [
       "Overall rank                    0\n",
       "Country or region               0\n",
       "Year                            0\n",
       "Score                           0\n",
       "GDP per capita                  0\n",
       "Social support                  0\n",
       "Healthy life expectancy         0\n",
       "Freedom to make life choices    0\n",
       "Generosity                      0\n",
       "Perceptions of corruption       0\n",
       "dtype: int64"
      ]
     },
     "execution_count": 15,
     "metadata": {},
     "output_type": "execute_result"
    }
   ],
   "source": [
    "df.isnull().sum()"
   ]
  },
  {
   "cell_type": "code",
   "execution_count": 16,
   "metadata": {},
   "outputs": [
    {
     "name": "stdout",
     "output_type": "stream",
     "text": [
      "<class 'pandas.core.frame.DataFrame'>\n",
      "RangeIndex: 312 entries, 0 to 311\n",
      "Data columns (total 10 columns):\n",
      " #   Column                        Non-Null Count  Dtype  \n",
      "---  ------                        --------------  -----  \n",
      " 0   Overall rank                  312 non-null    int64  \n",
      " 1   Country or region             312 non-null    object \n",
      " 2   Year                          312 non-null    int64  \n",
      " 3   Score                         312 non-null    float64\n",
      " 4   GDP per capita                312 non-null    float64\n",
      " 5   Social support                312 non-null    float64\n",
      " 6   Healthy life expectancy       312 non-null    float64\n",
      " 7   Freedom to make life choices  312 non-null    float64\n",
      " 8   Generosity                    312 non-null    float64\n",
      " 9   Perceptions of corruption     312 non-null    float64\n",
      "dtypes: float64(7), int64(2), object(1)\n",
      "memory usage: 24.5+ KB\n"
     ]
    }
   ],
   "source": [
    "df.info()"
   ]
  },
  {
   "attachments": {},
   "cell_type": "markdown",
   "metadata": {},
   "source": [
    "## Tratar valores faltantes"
   ]
  },
  {
   "cell_type": "code",
   "execution_count": 18,
   "metadata": {},
   "outputs": [
    {
     "data": {
      "text/plain": [
       "['Overall rank',\n",
       " 'Country or region',\n",
       " 'Year',\n",
       " 'Score',\n",
       " 'GDP per capita',\n",
       " 'Social support',\n",
       " 'Healthy life expectancy',\n",
       " 'Freedom to make life choices',\n",
       " 'Generosity',\n",
       " 'Perceptions of corruption']"
      ]
     },
     "execution_count": 18,
     "metadata": {},
     "output_type": "execute_result"
    }
   ],
   "source": [
    "df.columns.to_list()\n"
   ]
  },
  {
   "cell_type": "code",
   "execution_count": null,
   "metadata": {},
   "outputs": [],
   "source": [
    "['Clasificación general',\n",
    " 'País o Región',\n",
    " 'Año',\n",
    " 'Puntaje',\n",
    " 'PIB per cápita',\n",
    " 'Apoyo social',\n",
    " 'Esperanza de vida saludable',\n",
    " 'Libertad para tomar decisiones en la vida',\n",
    " 'Generosidad',\n",
    " 'Percepciones de la corrupción']"
   ]
  },
  {
   "cell_type": "code",
   "execution_count": null,
   "metadata": {},
   "outputs": [],
   "source": [
    "# Estadisticas sobre Total_sales(sale prque tiene nulos)\n",
    "\n",
    "print(f\"{np.mean(total_sales)}\")\n",
    "print(f\"{np.median(total_sales)}\")\n",
    "print(f\"{np.max(total_sales)}\")\n",
    "print(f\"{np.min(total_sales)}\")\n",
    "print(f\"{np.std(total_sales)}\")"
   ]
  },
  {
   "cell_type": "code",
   "execution_count": null,
   "metadata": {},
   "outputs": [],
   "source": [
    "# detectar si hay nan \n",
    "# (missining values o valores  faltantes):\n",
    "#isnan = np.isnan(total_sales)\n",
    "#isnan [isnan == True]\n",
    "\n",
    "print(f\"Hay nan : {np.isnan(total_sales). any()}\")\n",
    "print(f\"Hay Infinito  : {np.isinf(total_sales). any()}\")\n",
    "print(f\"Hay Infinito Negativo : {np.isneginf(total_sales). any()}\")"
   ]
  },
  {
   "cell_type": "code",
   "execution_count": null,
   "metadata": {},
   "outputs": [],
   "source": [
    "# Contar cuantos nan hay\n",
    "len(total_sales[np.isnan(total_sales)])"
   ]
  },
  {
   "attachments": {},
   "cell_type": "markdown",
   "metadata": {},
   "source": [
    "axis=0: La operación se realiza a lo largo de las filas. En otras palabras, si tienes un array bidimensional (una matriz), axis=0 indica que la operación se realizará de forma independiente para cada columna, lo que resultará en un valor por columna. Por ejemplo, np.nanmean(sales, axis=0) calculará la media de cada columna, ignorando los NaN.\n",
    "\n",
    "axis=1: La operación se realiza a lo largo de las columnas. En un array bidimensional, axis=1 indica que la operación se realizará de forma independiente para cada fila, lo que resultará en un valor por fila. Por ejemplo, np.nanmean(sales, axis=1) calculará la media de cada fila, ignorando los NaN.\n",
    "\n",
    "Si no especificas el argumento axis, la operación se realizará en todos los elementos del array, independientemente de su forma. Por ejemplo, np.nanmean(sales) calcularía la media de todos los elementos en sales, ignorando los NaN."
   ]
  },
  {
   "cell_type": "code",
   "execution_count": null,
   "metadata": {},
   "outputs": [],
   "source": [
    "# remplazar por 0 o -1\n",
    "\n",
    "total_sales2 = np.nan_to_num(total_sales, nan=0)\n",
    "print(f\"{len(total_sales2)}\")\n",
    "print(f\"{np.isnan(total_sales2).any()}\") #False"
   ]
  },
  {
   "cell_type": "code",
   "execution_count": null,
   "metadata": {},
   "outputs": [],
   "source": [
    "# calcular la media de total<_sales sin nan:\n",
    "\n",
    "total_sales_3 = np.nansum(sales, axis=1)\n",
    "np.isnan(total_sales_3).any()"
   ]
  },
  {
   "cell_type": "code",
   "execution_count": null,
   "metadata": {},
   "outputs": [],
   "source": [
    "print(f\"{np.nanmean(total_sales)}\")"
   ]
  },
  {
   "cell_type": "code",
   "execution_count": null,
   "metadata": {},
   "outputs": [],
   "source": [
    "np.nan_to_num(sales,nan=0)"
   ]
  },
  {
   "cell_type": "code",
   "execution_count": null,
   "metadata": {},
   "outputs": [],
   "source": [
    "# ignorar las filas que tienen nan\n",
    "\n",
    "sales_good = sales[~(np.isnan(sales))] \n",
    "sales_good"
   ]
  },
  {
   "cell_type": "code",
   "execution_count": null,
   "metadata": {},
   "outputs": [],
   "source": [
    "len(sales_good)"
   ]
  },
  {
   "cell_type": "code",
   "execution_count": null,
   "metadata": {},
   "outputs": [],
   "source": [
    "print(sales.shape)\n",
    "print(np.isnan(sales).any()) # True significa que hay nulos"
   ]
  },
  {
   "cell_type": "code",
   "execution_count": null,
   "metadata": {},
   "outputs": [],
   "source": [
    "# identificar el PIB Percapita\n",
    "\n",
    "total_sales = np.genfromtxt('../data/vgsales.csv', \n",
    "            usecols=(10), dtype=float, skip_header=1, delimiter=',')\n",
    "\n",
    "indices = np.argsort(total_sales)[::-1]\n",
    "names[indices][:10]"
   ]
  },
  {
   "cell_type": "code",
   "execution_count": null,
   "metadata": {},
   "outputs": [],
   "source": [
    "# identificar la esperanza de vida saludable\n",
    "\n",
    "total_sales = np.genfromtxt('../data/vgsales.csv', \n",
    "            usecols=(10), dtype=float, skip_header=1, delimiter=',')\n",
    "\n",
    "indices = np.argsort(total_sales)[::-1]\n",
    "names[indices][:10]"
   ]
  },
  {
   "cell_type": "code",
   "execution_count": null,
   "metadata": {},
   "outputs": [],
   "source": [
    "# calcular la Generosidad\n",
    "total_sales = np.genfromtxt('../data/vgsales.csv', \n",
    "            usecols=(10), dtype=float, skip_header=1, delimiter=',')\n",
    "\n",
    "indices = np.argsort(total_sales)[::-1]\n",
    "names[indices][:10]"
   ]
  },
  {
   "cell_type": "code",
   "execution_count": null,
   "metadata": {},
   "outputs": [],
   "source": [
    "# Identificar Pais / Region\n",
    "platform = np.genfromtxt('../data/vgsales.csv', \n",
    "            usecols = (2), dtype=str, skip_header=1, delimiter=',', encoding=\"utf-8\")\n",
    "plataform = np.unique(platform) \n",
    "plataform"
   ]
  },
  {
   "attachments": {},
   "cell_type": "markdown",
   "metadata": {},
   "source": [
    "## Extraer Numpy\n",
    "\n",
    "En esta notebook utlizamos pandas (pd. read_csv) para leer un csv de forma correcta ya que tiene comas con el titulo.\n",
    "\n",
    "Se extraen los arrays numpy a partir de columnas de Dataframe"
   ]
  },
  {
   "cell_type": "code",
   "execution_count": null,
   "metadata": {},
   "outputs": [],
   "source": [
    "pd.__version__"
   ]
  },
  {
   "cell_type": "code",
   "execution_count": null,
   "metadata": {},
   "outputs": [],
   "source": [
    "df['Name'].values"
   ]
  },
  {
   "cell_type": "code",
   "execution_count": null,
   "metadata": {},
   "outputs": [],
   "source": [
    "df['Platform'].values"
   ]
  },
  {
   "cell_type": "code",
   "execution_count": null,
   "metadata": {},
   "outputs": [],
   "source": [
    "platforms = df['Platform'].values\n",
    "platforms"
   ]
  },
  {
   "cell_type": "code",
   "execution_count": null,
   "metadata": {},
   "outputs": [],
   "source": [
    "np.set_printoptions(suppress=True)\n",
    "\n",
    "    total_sales = df['Global_Sales'].values\n",
    "    total_sales"
   ]
  },
  {
   "cell_type": "code",
   "execution_count": null,
   "metadata": {},
   "outputs": [],
   "source": [
    "print(type(platforms))"
   ]
  },
  {
   "cell_type": "code",
   "execution_count": null,
   "metadata": {},
   "outputs": [],
   "source": [
    "# Calcular ventas totales por Platform\n",
    "unique_platforms = np.unique(platforms)\n",
    "unique_platforms"
   ]
  },
  {
   "cell_type": "code",
   "execution_count": null,
   "metadata": {},
   "outputs": [],
   "source": [
    "# iterar sobre las plataformas con bucle for\n",
    "total_sales_platform = []\n",
    "for platform in unique_platforms:\n",
    "    total_sales_platform.append(np.sum(total_sales[platforms == platform]))\n",
    "    \n",
    "total_sales_platform = np.array(total_sales_platform)\n",
    "total_sales_platform"
   ]
  },
  {
   "cell_type": "code",
   "execution_count": null,
   "metadata": {},
   "outputs": [],
   "source": [
    " # iterar sobre las plataformas con list comprehension\n",
    "[np.sum(total_sales[platforms == platform]) for platform in unique_platforms]"
   ]
  }
 ],
 "metadata": {
  "kernelspec": {
   "display_name": "Python 3",
   "language": "python",
   "name": "python3"
  },
  "language_info": {
   "codemirror_mode": {
    "name": "ipython",
    "version": 3
   },
   "file_extension": ".py",
   "mimetype": "text/x-python",
   "name": "python",
   "nbconvert_exporter": "python",
   "pygments_lexer": "ipython3",
   "version": "3.10.11"
  },
  "orig_nbformat": 4
 },
 "nbformat": 4,
 "nbformat_minor": 2
}
